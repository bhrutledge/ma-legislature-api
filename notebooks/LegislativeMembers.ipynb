{
 "cells": [
  {
   "cell_type": "markdown",
   "metadata": {},
   "source": [
    "https://malegislature.gov/api/swagger/index.html?url=/api/swagger/v1/swagger.json#/LegislativeMembers"
   ]
  },
  {
   "cell_type": "code",
   "execution_count": 1,
   "metadata": {
    "execution": {
     "iopub.execute_input": "2021-11-18T08:17:29.771842Z",
     "iopub.status.busy": "2021-11-18T08:17:29.771335Z",
     "iopub.status.idle": "2021-11-18T08:17:29.893045Z",
     "shell.execute_reply": "2021-11-18T08:17:29.893467Z"
    }
   },
   "outputs": [],
   "source": [
    "import requests\n",
    "from tqdm.notebook import tqdm"
   ]
  },
  {
   "cell_type": "code",
   "execution_count": 2,
   "metadata": {
    "execution": {
     "iopub.execute_input": "2021-11-18T08:17:29.898430Z",
     "iopub.status.busy": "2021-11-18T08:17:29.897427Z",
     "iopub.status.idle": "2021-11-18T08:17:29.898943Z",
     "shell.execute_reply": "2021-11-18T08:17:29.899299Z"
    }
   },
   "outputs": [],
   "source": [
    "def get_json(url, verbose=True):\n",
    "    response = requests.get(url)\n",
    "    response.raise_for_status()\n",
    "    return response.json()"
   ]
  },
  {
   "cell_type": "code",
   "execution_count": 3,
   "metadata": {
    "execution": {
     "iopub.execute_input": "2021-11-18T08:17:29.904619Z",
     "iopub.status.busy": "2021-11-18T08:17:29.904185Z",
     "iopub.status.idle": "2021-11-18T08:17:30.234998Z",
     "shell.execute_reply": "2021-11-18T08:17:30.234508Z"
    }
   },
   "outputs": [
    {
     "name": "stdout",
     "output_type": "stream",
     "text": [
      "CPU times: user 15.4 ms, sys: 0 ns, total: 15.4 ms\n",
      "Wall time: 319 ms\n"
     ]
    },
    {
     "data": {
      "text/plain": [
       "200"
      ]
     },
     "execution_count": 3,
     "metadata": {},
     "output_type": "execute_result"
    }
   ],
   "source": [
    "%%time\n",
    "members = get_json(\"https://malegislature.gov/api/LegislativeMembers\")\n",
    "len(members)"
   ]
  },
  {
   "cell_type": "code",
   "execution_count": 4,
   "metadata": {
    "execution": {
     "iopub.execute_input": "2021-11-18T08:17:30.239666Z",
     "iopub.status.busy": "2021-11-18T08:17:30.239216Z",
     "iopub.status.idle": "2021-11-18T08:17:30.241369Z",
     "shell.execute_reply": "2021-11-18T08:17:30.241711Z"
    }
   },
   "outputs": [
    {
     "data": {
      "text/plain": [
       "dict_keys(['GeneralCourtNumber', 'MemberCode', 'Details'])"
      ]
     },
     "execution_count": 4,
     "metadata": {},
     "output_type": "execute_result"
    }
   ],
   "source": [
    "members[0].keys()"
   ]
  },
  {
   "cell_type": "code",
   "execution_count": 5,
   "metadata": {
    "execution": {
     "iopub.execute_input": "2021-11-18T08:17:30.245571Z",
     "iopub.status.busy": "2021-11-18T08:17:30.245143Z",
     "iopub.status.idle": "2021-11-18T08:21:56.343497Z",
     "shell.execute_reply": "2021-11-18T08:21:56.343074Z"
    }
   },
   "outputs": [
    {
     "data": {
      "application/vnd.jupyter.widget-view+json": {
       "model_id": "7de6a8f8d47b4ebaa37cc421b647301a",
       "version_major": 2,
       "version_minor": 0
      },
      "text/plain": [
       "  0%|          | 0/200 [00:00<?, ?it/s]"
      ]
     },
     "metadata": {},
     "output_type": "display_data"
    },
    {
     "name": "stdout",
     "output_type": "stream",
     "text": [
      "CPU times: user 6.97 s, sys: 1.04 s, total: 8.02 s\n",
      "Wall time: 4min 26s\n"
     ]
    },
    {
     "data": {
      "text/plain": [
       "200"
      ]
     },
     "execution_count": 5,
     "metadata": {},
     "output_type": "execute_result"
    }
   ],
   "source": [
    "%%time\n",
    "member_details = [get_json(m['Details']) for m in tqdm(members)]\n",
    "len(member_details)"
   ]
  },
  {
   "cell_type": "code",
   "execution_count": 6,
   "metadata": {
    "execution": {
     "iopub.execute_input": "2021-11-18T08:21:56.347119Z",
     "iopub.status.busy": "2021-11-18T08:21:56.346729Z",
     "iopub.status.idle": "2021-11-18T08:21:56.349157Z",
     "shell.execute_reply": "2021-11-18T08:21:56.348821Z"
    }
   },
   "outputs": [],
   "source": [
    "import json"
   ]
  },
  {
   "cell_type": "code",
   "execution_count": 7,
   "metadata": {
    "execution": {
     "iopub.execute_input": "2021-11-18T08:21:56.353175Z",
     "iopub.status.busy": "2021-11-18T08:21:56.352799Z",
     "iopub.status.idle": "2021-11-18T08:22:01.843685Z",
     "shell.execute_reply": "2021-11-18T08:22:01.844170Z"
    }
   },
   "outputs": [
    {
     "name": "stdout",
     "output_type": "stream",
     "text": [
      "-rw-r--r-- 1 runner docker 160M Nov 18 08:22 ma_legislative_members.json\r\n"
     ]
    }
   ],
   "source": [
    "with open(\"ma_legislative_members.json\", \"w\") as f:\n",
    "    json.dump(member_details, f, indent=2)\n",
    "!ls -lh ma_legislative_members.json"
   ]
  },
  {
   "cell_type": "code",
   "execution_count": 8,
   "metadata": {
    "execution": {
     "iopub.execute_input": "2021-11-18T08:22:01.851113Z",
     "iopub.status.busy": "2021-11-18T08:22:01.850671Z",
     "iopub.status.idle": "2021-11-18T08:22:01.853908Z",
     "shell.execute_reply": "2021-11-18T08:22:01.854325Z"
    }
   },
   "outputs": [
    {
     "data": {
      "text/plain": [
       "Counter({'House': 160, 'Senate': 40})"
      ]
     },
     "execution_count": 8,
     "metadata": {},
     "output_type": "execute_result"
    }
   ],
   "source": [
    "from collections import Counter\n",
    "Counter(m['Branch'] for m in member_details)"
   ]
  },
  {
   "cell_type": "code",
   "execution_count": 9,
   "metadata": {
    "execution": {
     "iopub.execute_input": "2021-11-18T08:22:01.858731Z",
     "iopub.status.busy": "2021-11-18T08:22:01.856285Z",
     "iopub.status.idle": "2021-11-18T08:22:01.861297Z",
     "shell.execute_reply": "2021-11-18T08:22:01.860933Z"
    }
   },
   "outputs": [
    {
     "data": {
      "text/plain": [
       "dict_keys(['Name', 'GeneralCourtNumber', 'LeadershipPosition', 'Branch', 'MemberCode', 'District', 'Party', 'EmailAddress', 'RoomNumber', 'PhoneNumber', 'FaxNumber', 'SponsoredBills', 'CoSponsoredBills', 'Committees'])"
      ]
     },
     "execution_count": 9,
     "metadata": {},
     "output_type": "execute_result"
    }
   ],
   "source": [
    "member_details[0].keys()"
   ]
  },
  {
   "cell_type": "code",
   "execution_count": 10,
   "metadata": {
    "execution": {
     "iopub.execute_input": "2021-11-18T08:22:01.866611Z",
     "iopub.status.busy": "2021-11-18T08:22:01.865856Z",
     "iopub.status.idle": "2021-11-18T08:22:01.867858Z",
     "shell.execute_reply": "2021-11-18T08:22:01.868220Z"
    }
   },
   "outputs": [
    {
     "name": "stdout",
     "output_type": "stream",
     "text": [
      "Name: Rob Consalvo\n",
      "GeneralCourtNumber: 192\n",
      "LeadershipPosition: None\n",
      "Branch: House\n",
      "MemberCode: R_C1\n",
      "District: 14th Suffolk\n",
      "Party: Democrat\n",
      "EmailAddress: Rob.Consalvo@mahouse.gov\n",
      "RoomNumber: None\n",
      "PhoneNumber: (617) 722-2800 x7311\n",
      "FaxNumber: None\n",
      "SponsoredBills: <class 'list'>, len == 5\n",
      "CoSponsoredBills: <class 'list'>, len == 1431\n",
      "Committees: <class 'list'>, len == 4\n"
     ]
    }
   ],
   "source": [
    "for key, value in member_details[0].items():\n",
    "    if isinstance(value, (list, dict)):\n",
    "        value = f\"{type(value)}, len == {len(value)}\"\n",
    "    print(f\"{key}: {value}\")"
   ]
  },
  {
   "cell_type": "code",
   "execution_count": 11,
   "metadata": {
    "execution": {
     "iopub.execute_input": "2021-11-18T08:22:01.871370Z",
     "iopub.status.busy": "2021-11-18T08:22:01.870958Z",
     "iopub.status.idle": "2021-11-18T08:22:04.179255Z",
     "shell.execute_reply": "2021-11-18T08:22:04.179613Z"
    }
   },
   "outputs": [
    {
     "data": {
      "text/plain": [
       "200"
      ]
     },
     "execution_count": 11,
     "metadata": {},
     "output_type": "execute_result"
    }
   ],
   "source": [
    "with open(\"ma_legislative_members.json\") as f:\n",
    "    member_details = json.load(f)\n",
    "len(member_details)"
   ]
  },
  {
   "cell_type": "code",
   "execution_count": 12,
   "metadata": {
    "execution": {
     "iopub.execute_input": "2021-11-18T08:22:04.215172Z",
     "iopub.status.busy": "2021-11-18T08:22:04.192782Z",
     "iopub.status.idle": "2021-11-18T08:22:04.397720Z",
     "shell.execute_reply": "2021-11-18T08:22:04.397202Z"
    }
   },
   "outputs": [],
   "source": [
    "for member in member_details:\n",
    "    for key in [\"SponsoredBills\", \"CoSponsoredBills\"]:\n",
    "        try:\n",
    "            del member[key]\n",
    "        except KeyError:\n",
    "            pass"
   ]
  },
  {
   "cell_type": "code",
   "execution_count": 13,
   "metadata": {
    "execution": {
     "iopub.execute_input": "2021-11-18T08:22:04.402253Z",
     "iopub.status.busy": "2021-11-18T08:22:04.401755Z",
     "iopub.status.idle": "2021-11-18T08:22:04.586960Z",
     "shell.execute_reply": "2021-11-18T08:22:04.586126Z"
    }
   },
   "outputs": [
    {
     "name": "stdout",
     "output_type": "stream",
     "text": [
      "-rw-r--r-- 1 runner docker 218K Nov 18 08:22 ma_legislative_members.json\r\n"
     ]
    }
   ],
   "source": [
    "with open(\"ma_legislative_members.json\", \"w\") as f:\n",
    "    json.dump(member_details, f, indent=2)\n",
    "!ls -lh ma_legislative_members.json"
   ]
  },
  {
   "cell_type": "code",
   "execution_count": null,
   "metadata": {},
   "outputs": [],
   "source": []
  }
 ],
 "metadata": {
  "kernelspec": {
   "display_name": "Python 3 (ipykernel)",
   "language": "python",
   "name": "python3"
  },
  "language_info": {
   "codemirror_mode": {
    "name": "ipython",
    "version": 3
   },
   "file_extension": ".py",
   "mimetype": "text/x-python",
   "name": "python",
   "nbconvert_exporter": "python",
   "pygments_lexer": "ipython3",
   "version": "3.8.10"
  },
  "metadata": {
   "interpreter": {
    "hash": "b0fa6594d8f4cbf19f97940f81e996739fb7646882a419484c72d19e05852a7e"
   }
  },
  "widgets": {
   "application/vnd.jupyter.widget-state+json": {
    "state": {
     "0ba0878e3b7044ca9be991b3878eac23": {
      "model_module": "@jupyter-widgets/base",
      "model_module_version": "1.2.0",
      "model_name": "LayoutModel",
      "state": {
       "_model_module": "@jupyter-widgets/base",
       "_model_module_version": "1.2.0",
       "_model_name": "LayoutModel",
       "_view_count": null,
       "_view_module": "@jupyter-widgets/base",
       "_view_module_version": "1.2.0",
       "_view_name": "LayoutView",
       "align_content": null,
       "align_items": null,
       "align_self": null,
       "border": null,
       "bottom": null,
       "display": null,
       "flex": null,
       "flex_flow": null,
       "grid_area": null,
       "grid_auto_columns": null,
       "grid_auto_flow": null,
       "grid_auto_rows": null,
       "grid_column": null,
       "grid_gap": null,
       "grid_row": null,
       "grid_template_areas": null,
       "grid_template_columns": null,
       "grid_template_rows": null,
       "height": null,
       "justify_content": null,
       "justify_items": null,
       "left": null,
       "margin": null,
       "max_height": null,
       "max_width": null,
       "min_height": null,
       "min_width": null,
       "object_fit": null,
       "object_position": null,
       "order": null,
       "overflow": null,
       "overflow_x": null,
       "overflow_y": null,
       "padding": null,
       "right": null,
       "top": null,
       "visibility": null,
       "width": null
      }
     },
     "3a5113e5c7d14c3287436c1c770033b3": {
      "model_module": "@jupyter-widgets/controls",
      "model_module_version": "1.5.0",
      "model_name": "DescriptionStyleModel",
      "state": {
       "_model_module": "@jupyter-widgets/controls",
       "_model_module_version": "1.5.0",
       "_model_name": "DescriptionStyleModel",
       "_view_count": null,
       "_view_module": "@jupyter-widgets/base",
       "_view_module_version": "1.2.0",
       "_view_name": "StyleView",
       "description_width": ""
      }
     },
     "3f3b2b6a69b241d5a185ef182ebd032e": {
      "model_module": "@jupyter-widgets/controls",
      "model_module_version": "1.5.0",
      "model_name": "HTMLModel",
      "state": {
       "_dom_classes": [],
       "_model_module": "@jupyter-widgets/controls",
       "_model_module_version": "1.5.0",
       "_model_name": "HTMLModel",
       "_view_count": null,
       "_view_module": "@jupyter-widgets/controls",
       "_view_module_version": "1.5.0",
       "_view_name": "HTMLView",
       "description": "",
       "description_tooltip": null,
       "layout": "IPY_MODEL_e185b78a06b34038a16fd2701f03ce2e",
       "placeholder": "​",
       "style": "IPY_MODEL_3a5113e5c7d14c3287436c1c770033b3",
       "value": " 200/200 [04:26&lt;00:00,  1.25s/it]"
      }
     },
     "5851b50679f04539ad90d99784ef100d": {
      "model_module": "@jupyter-widgets/controls",
      "model_module_version": "1.5.0",
      "model_name": "FloatProgressModel",
      "state": {
       "_dom_classes": [],
       "_model_module": "@jupyter-widgets/controls",
       "_model_module_version": "1.5.0",
       "_model_name": "FloatProgressModel",
       "_view_count": null,
       "_view_module": "@jupyter-widgets/controls",
       "_view_module_version": "1.5.0",
       "_view_name": "ProgressView",
       "bar_style": "success",
       "description": "",
       "description_tooltip": null,
       "layout": "IPY_MODEL_ec4ae1863802443dacd59793e70a799f",
       "max": 200.0,
       "min": 0.0,
       "orientation": "horizontal",
       "style": "IPY_MODEL_b0298951efbe43e881007912c74d6e3b",
       "value": 200.0
      }
     },
     "7de6a8f8d47b4ebaa37cc421b647301a": {
      "model_module": "@jupyter-widgets/controls",
      "model_module_version": "1.5.0",
      "model_name": "HBoxModel",
      "state": {
       "_dom_classes": [],
       "_model_module": "@jupyter-widgets/controls",
       "_model_module_version": "1.5.0",
       "_model_name": "HBoxModel",
       "_view_count": null,
       "_view_module": "@jupyter-widgets/controls",
       "_view_module_version": "1.5.0",
       "_view_name": "HBoxView",
       "box_style": "",
       "children": [
        "IPY_MODEL_90e1f9d0e62d4af4a33ad4cf649a8858",
        "IPY_MODEL_5851b50679f04539ad90d99784ef100d",
        "IPY_MODEL_3f3b2b6a69b241d5a185ef182ebd032e"
       ],
       "layout": "IPY_MODEL_0ba0878e3b7044ca9be991b3878eac23"
      }
     },
     "90e1f9d0e62d4af4a33ad4cf649a8858": {
      "model_module": "@jupyter-widgets/controls",
      "model_module_version": "1.5.0",
      "model_name": "HTMLModel",
      "state": {
       "_dom_classes": [],
       "_model_module": "@jupyter-widgets/controls",
       "_model_module_version": "1.5.0",
       "_model_name": "HTMLModel",
       "_view_count": null,
       "_view_module": "@jupyter-widgets/controls",
       "_view_module_version": "1.5.0",
       "_view_name": "HTMLView",
       "description": "",
       "description_tooltip": null,
       "layout": "IPY_MODEL_9ad0e5b690094ff28e83e358c4c961f8",
       "placeholder": "​",
       "style": "IPY_MODEL_adf6150a23544bab92d7b9ab13c73195",
       "value": "100%"
      }
     },
     "9ad0e5b690094ff28e83e358c4c961f8": {
      "model_module": "@jupyter-widgets/base",
      "model_module_version": "1.2.0",
      "model_name": "LayoutModel",
      "state": {
       "_model_module": "@jupyter-widgets/base",
       "_model_module_version": "1.2.0",
       "_model_name": "LayoutModel",
       "_view_count": null,
       "_view_module": "@jupyter-widgets/base",
       "_view_module_version": "1.2.0",
       "_view_name": "LayoutView",
       "align_content": null,
       "align_items": null,
       "align_self": null,
       "border": null,
       "bottom": null,
       "display": null,
       "flex": null,
       "flex_flow": null,
       "grid_area": null,
       "grid_auto_columns": null,
       "grid_auto_flow": null,
       "grid_auto_rows": null,
       "grid_column": null,
       "grid_gap": null,
       "grid_row": null,
       "grid_template_areas": null,
       "grid_template_columns": null,
       "grid_template_rows": null,
       "height": null,
       "justify_content": null,
       "justify_items": null,
       "left": null,
       "margin": null,
       "max_height": null,
       "max_width": null,
       "min_height": null,
       "min_width": null,
       "object_fit": null,
       "object_position": null,
       "order": null,
       "overflow": null,
       "overflow_x": null,
       "overflow_y": null,
       "padding": null,
       "right": null,
       "top": null,
       "visibility": null,
       "width": null
      }
     },
     "adf6150a23544bab92d7b9ab13c73195": {
      "model_module": "@jupyter-widgets/controls",
      "model_module_version": "1.5.0",
      "model_name": "DescriptionStyleModel",
      "state": {
       "_model_module": "@jupyter-widgets/controls",
       "_model_module_version": "1.5.0",
       "_model_name": "DescriptionStyleModel",
       "_view_count": null,
       "_view_module": "@jupyter-widgets/base",
       "_view_module_version": "1.2.0",
       "_view_name": "StyleView",
       "description_width": ""
      }
     },
     "b0298951efbe43e881007912c74d6e3b": {
      "model_module": "@jupyter-widgets/controls",
      "model_module_version": "1.5.0",
      "model_name": "ProgressStyleModel",
      "state": {
       "_model_module": "@jupyter-widgets/controls",
       "_model_module_version": "1.5.0",
       "_model_name": "ProgressStyleModel",
       "_view_count": null,
       "_view_module": "@jupyter-widgets/base",
       "_view_module_version": "1.2.0",
       "_view_name": "StyleView",
       "bar_color": null,
       "description_width": ""
      }
     },
     "e185b78a06b34038a16fd2701f03ce2e": {
      "model_module": "@jupyter-widgets/base",
      "model_module_version": "1.2.0",
      "model_name": "LayoutModel",
      "state": {
       "_model_module": "@jupyter-widgets/base",
       "_model_module_version": "1.2.0",
       "_model_name": "LayoutModel",
       "_view_count": null,
       "_view_module": "@jupyter-widgets/base",
       "_view_module_version": "1.2.0",
       "_view_name": "LayoutView",
       "align_content": null,
       "align_items": null,
       "align_self": null,
       "border": null,
       "bottom": null,
       "display": null,
       "flex": null,
       "flex_flow": null,
       "grid_area": null,
       "grid_auto_columns": null,
       "grid_auto_flow": null,
       "grid_auto_rows": null,
       "grid_column": null,
       "grid_gap": null,
       "grid_row": null,
       "grid_template_areas": null,
       "grid_template_columns": null,
       "grid_template_rows": null,
       "height": null,
       "justify_content": null,
       "justify_items": null,
       "left": null,
       "margin": null,
       "max_height": null,
       "max_width": null,
       "min_height": null,
       "min_width": null,
       "object_fit": null,
       "object_position": null,
       "order": null,
       "overflow": null,
       "overflow_x": null,
       "overflow_y": null,
       "padding": null,
       "right": null,
       "top": null,
       "visibility": null,
       "width": null
      }
     },
     "ec4ae1863802443dacd59793e70a799f": {
      "model_module": "@jupyter-widgets/base",
      "model_module_version": "1.2.0",
      "model_name": "LayoutModel",
      "state": {
       "_model_module": "@jupyter-widgets/base",
       "_model_module_version": "1.2.0",
       "_model_name": "LayoutModel",
       "_view_count": null,
       "_view_module": "@jupyter-widgets/base",
       "_view_module_version": "1.2.0",
       "_view_name": "LayoutView",
       "align_content": null,
       "align_items": null,
       "align_self": null,
       "border": null,
       "bottom": null,
       "display": null,
       "flex": null,
       "flex_flow": null,
       "grid_area": null,
       "grid_auto_columns": null,
       "grid_auto_flow": null,
       "grid_auto_rows": null,
       "grid_column": null,
       "grid_gap": null,
       "grid_row": null,
       "grid_template_areas": null,
       "grid_template_columns": null,
       "grid_template_rows": null,
       "height": null,
       "justify_content": null,
       "justify_items": null,
       "left": null,
       "margin": null,
       "max_height": null,
       "max_width": null,
       "min_height": null,
       "min_width": null,
       "object_fit": null,
       "object_position": null,
       "order": null,
       "overflow": null,
       "overflow_x": null,
       "overflow_y": null,
       "padding": null,
       "right": null,
       "top": null,
       "visibility": null,
       "width": null
      }
     }
    },
    "version_major": 2,
    "version_minor": 0
   }
  }
 },
 "nbformat": 4,
 "nbformat_minor": 4
}
