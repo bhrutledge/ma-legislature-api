{
 "cells": [
  {
   "cell_type": "markdown",
   "metadata": {},
   "source": [
    "https://malegislature.gov/api/swagger/index.html?url=/api/swagger/v1/swagger.json#/LegislativeMembers"
   ]
  },
  {
   "cell_type": "code",
   "execution_count": 1,
   "metadata": {
    "execution": {
     "iopub.execute_input": "2021-08-28T08:17:50.792371Z",
     "iopub.status.busy": "2021-08-28T08:17:50.791686Z",
     "iopub.status.idle": "2021-08-28T08:17:50.926008Z",
     "shell.execute_reply": "2021-08-28T08:17:50.925396Z"
    }
   },
   "outputs": [],
   "source": [
    "import requests\n",
    "from tqdm.notebook import tqdm"
   ]
  },
  {
   "cell_type": "code",
   "execution_count": 2,
   "metadata": {
    "execution": {
     "iopub.execute_input": "2021-08-28T08:17:50.933620Z",
     "iopub.status.busy": "2021-08-28T08:17:50.932197Z",
     "iopub.status.idle": "2021-08-28T08:17:50.934252Z",
     "shell.execute_reply": "2021-08-28T08:17:50.934731Z"
    }
   },
   "outputs": [],
   "source": [
    "def get_json(url, verbose=True):\n",
    "    response = requests.get(url)\n",
    "    response.raise_for_status()\n",
    "    return response.json()"
   ]
  },
  {
   "cell_type": "code",
   "execution_count": 3,
   "metadata": {
    "execution": {
     "iopub.execute_input": "2021-08-28T08:17:50.941687Z",
     "iopub.status.busy": "2021-08-28T08:17:50.939326Z",
     "iopub.status.idle": "2021-08-28T08:17:51.864851Z",
     "shell.execute_reply": "2021-08-28T08:17:51.865354Z"
    }
   },
   "outputs": [
    {
     "name": "stdout",
     "output_type": "stream",
     "text": [
      "CPU times: user 12.8 ms, sys: 4.16 ms, total: 17 ms\n",
      "Wall time: 915 ms\n"
     ]
    },
    {
     "data": {
      "text/plain": [
       "200"
      ]
     },
     "execution_count": 3,
     "metadata": {},
     "output_type": "execute_result"
    }
   ],
   "source": [
    "%%time\n",
    "members = get_json(\"https://malegislature.gov/api/LegislativeMembers\")\n",
    "len(members)"
   ]
  },
  {
   "cell_type": "code",
   "execution_count": 4,
   "metadata": {
    "execution": {
     "iopub.execute_input": "2021-08-28T08:17:51.869923Z",
     "iopub.status.busy": "2021-08-28T08:17:51.867784Z",
     "iopub.status.idle": "2021-08-28T08:17:51.873372Z",
     "shell.execute_reply": "2021-08-28T08:17:51.872906Z"
    }
   },
   "outputs": [
    {
     "data": {
      "text/plain": [
       "dict_keys(['GeneralCourtNumber', 'MemberCode', 'Details'])"
      ]
     },
     "execution_count": 4,
     "metadata": {},
     "output_type": "execute_result"
    }
   ],
   "source": [
    "members[0].keys()"
   ]
  },
  {
   "cell_type": "code",
   "execution_count": 5,
   "metadata": {
    "execution": {
     "iopub.execute_input": "2021-08-28T08:17:51.878158Z",
     "iopub.status.busy": "2021-08-28T08:17:51.877492Z",
     "iopub.status.idle": "2021-08-28T08:35:46.969276Z",
     "shell.execute_reply": "2021-08-28T08:35:46.969696Z"
    }
   },
   "outputs": [
    {
     "data": {
      "application/vnd.jupyter.widget-view+json": {
       "model_id": "4196c8687c684f14876a2a157666ab61",
       "version_major": 2,
       "version_minor": 0
      },
      "text/plain": [
       "  0%|          | 0/200 [00:00<?, ?it/s]"
      ]
     },
     "metadata": {},
     "output_type": "display_data"
    },
    {
     "name": "stdout",
     "output_type": "stream",
     "text": [
      "CPU times: user 6.78 s, sys: 1.11 s, total: 7.89 s\n",
      "Wall time: 17min 55s\n"
     ]
    },
    {
     "data": {
      "text/plain": [
       "200"
      ]
     },
     "execution_count": 5,
     "metadata": {},
     "output_type": "execute_result"
    }
   ],
   "source": [
    "%%time\n",
    "member_details = [get_json(m['Details']) for m in tqdm(members)]\n",
    "len(member_details)"
   ]
  },
  {
   "cell_type": "code",
   "execution_count": 6,
   "metadata": {
    "execution": {
     "iopub.execute_input": "2021-08-28T08:35:46.974302Z",
     "iopub.status.busy": "2021-08-28T08:35:46.973757Z",
     "iopub.status.idle": "2021-08-28T08:35:46.975436Z",
     "shell.execute_reply": "2021-08-28T08:35:46.975959Z"
    }
   },
   "outputs": [],
   "source": [
    "import json"
   ]
  },
  {
   "cell_type": "code",
   "execution_count": 7,
   "metadata": {
    "execution": {
     "iopub.execute_input": "2021-08-28T08:35:46.981805Z",
     "iopub.status.busy": "2021-08-28T08:35:46.981256Z",
     "iopub.status.idle": "2021-08-28T08:35:53.519426Z",
     "shell.execute_reply": "2021-08-28T08:35:53.518890Z"
    }
   },
   "outputs": [
    {
     "name": "stdout",
     "output_type": "stream",
     "text": [
      "-rw-r--r-- 1 runner docker 159M Aug 28 08:35 ma_legislative_members.json\r\n"
     ]
    }
   ],
   "source": [
    "with open(\"ma_legislative_members.json\", \"w\") as f:\n",
    "    json.dump(member_details, f, indent=2)\n",
    "!ls -lh ma_legislative_members.json"
   ]
  },
  {
   "cell_type": "code",
   "execution_count": 8,
   "metadata": {
    "execution": {
     "iopub.execute_input": "2021-08-28T08:35:53.526626Z",
     "iopub.status.busy": "2021-08-28T08:35:53.525881Z",
     "iopub.status.idle": "2021-08-28T08:35:53.530180Z",
     "shell.execute_reply": "2021-08-28T08:35:53.529735Z"
    }
   },
   "outputs": [
    {
     "data": {
      "text/plain": [
       "Counter({'House': 160, 'Senate': 40})"
      ]
     },
     "execution_count": 8,
     "metadata": {},
     "output_type": "execute_result"
    }
   ],
   "source": [
    "from collections import Counter\n",
    "Counter(m['Branch'] for m in member_details)"
   ]
  },
  {
   "cell_type": "code",
   "execution_count": 9,
   "metadata": {
    "execution": {
     "iopub.execute_input": "2021-08-28T08:35:53.536741Z",
     "iopub.status.busy": "2021-08-28T08:35:53.535725Z",
     "iopub.status.idle": "2021-08-28T08:35:53.538635Z",
     "shell.execute_reply": "2021-08-28T08:35:53.539066Z"
    }
   },
   "outputs": [
    {
     "data": {
      "text/plain": [
       "dict_keys(['Name', 'GeneralCourtNumber', 'LeadershipPosition', 'Branch', 'MemberCode', 'District', 'Party', 'EmailAddress', 'RoomNumber', 'PhoneNumber', 'FaxNumber', 'SponsoredBills', 'CoSponsoredBills', 'Committees'])"
      ]
     },
     "execution_count": 9,
     "metadata": {},
     "output_type": "execute_result"
    }
   ],
   "source": [
    "member_details[0].keys()"
   ]
  },
  {
   "cell_type": "code",
   "execution_count": 10,
   "metadata": {
    "execution": {
     "iopub.execute_input": "2021-08-28T08:35:53.546908Z",
     "iopub.status.busy": "2021-08-28T08:35:53.545597Z",
     "iopub.status.idle": "2021-08-28T08:35:53.548902Z",
     "shell.execute_reply": "2021-08-28T08:35:53.548405Z"
    }
   },
   "outputs": [
    {
     "name": "stdout",
     "output_type": "stream",
     "text": [
      "Name: Rob Consalvo\n",
      "GeneralCourtNumber: 192\n",
      "LeadershipPosition: None\n",
      "Branch: House\n",
      "MemberCode: R_C1\n",
      "District: 14th Suffolk\n",
      "Party: Democrat\n",
      "EmailAddress: Rob.Consalvo@mahouse.gov\n",
      "RoomNumber: None\n",
      "PhoneNumber: (617) 722-2800 x7311\n",
      "FaxNumber: None\n",
      "SponsoredBills: <class 'list'>, len == 4\n",
      "CoSponsoredBills: <class 'list'>, len == 1427\n",
      "Committees: <class 'list'>, len == 4\n"
     ]
    }
   ],
   "source": [
    "for key, value in member_details[0].items():\n",
    "    if isinstance(value, (list, dict)):\n",
    "        value = f\"{type(value)}, len == {len(value)}\"\n",
    "    print(f\"{key}: {value}\")"
   ]
  },
  {
   "cell_type": "code",
   "execution_count": 11,
   "metadata": {
    "execution": {
     "iopub.execute_input": "2021-08-28T08:35:53.553882Z",
     "iopub.status.busy": "2021-08-28T08:35:53.553306Z",
     "iopub.status.idle": "2021-08-28T08:35:55.704528Z",
     "shell.execute_reply": "2021-08-28T08:35:55.704052Z"
    }
   },
   "outputs": [
    {
     "data": {
      "text/plain": [
       "200"
      ]
     },
     "execution_count": 11,
     "metadata": {},
     "output_type": "execute_result"
    }
   ],
   "source": [
    "with open(\"ma_legislative_members.json\") as f:\n",
    "    member_details = json.load(f)\n",
    "len(member_details)"
   ]
  },
  {
   "cell_type": "code",
   "execution_count": 12,
   "metadata": {
    "execution": {
     "iopub.execute_input": "2021-08-28T08:35:55.799690Z",
     "iopub.status.busy": "2021-08-28T08:35:55.759878Z",
     "iopub.status.idle": "2021-08-28T08:35:55.898807Z",
     "shell.execute_reply": "2021-08-28T08:35:55.898244Z"
    }
   },
   "outputs": [],
   "source": [
    "for member in member_details:\n",
    "    for key in [\"SponsoredBills\", \"CoSponsoredBills\"]:\n",
    "        try:\n",
    "            del member[key]\n",
    "        except KeyError:\n",
    "            pass"
   ]
  },
  {
   "cell_type": "code",
   "execution_count": 13,
   "metadata": {
    "execution": {
     "iopub.execute_input": "2021-08-28T08:35:55.903349Z",
     "iopub.status.busy": "2021-08-28T08:35:55.901263Z",
     "iopub.status.idle": "2021-08-28T08:35:56.091299Z",
     "shell.execute_reply": "2021-08-28T08:35:56.090829Z"
    }
   },
   "outputs": [
    {
     "name": "stdout",
     "output_type": "stream",
     "text": [
      "-rw-r--r-- 1 runner docker 219K Aug 28 08:35 ma_legislative_members.json\r\n"
     ]
    }
   ],
   "source": [
    "with open(\"ma_legislative_members.json\", \"w\") as f:\n",
    "    json.dump(member_details, f, indent=2)\n",
    "!ls -lh ma_legislative_members.json"
   ]
  },
  {
   "cell_type": "code",
   "execution_count": null,
   "metadata": {},
   "outputs": [],
   "source": []
  }
 ],
 "metadata": {
  "kernelspec": {
   "display_name": "Python 3 (ipykernel)",
   "language": "python",
   "name": "python3"
  },
  "language_info": {
   "codemirror_mode": {
    "name": "ipython",
    "version": 3
   },
   "file_extension": ".py",
   "mimetype": "text/x-python",
   "name": "python",
   "nbconvert_exporter": "python",
   "pygments_lexer": "ipython3",
   "version": "3.8.10"
  },
  "metadata": {
   "interpreter": {
    "hash": "b0fa6594d8f4cbf19f97940f81e996739fb7646882a419484c72d19e05852a7e"
   }
  },
  "widgets": {
   "application/vnd.jupyter.widget-state+json": {
    "state": {
     "16910ec645fa4847bb385146717e02ca": {
      "model_module": "@jupyter-widgets/controls",
      "model_module_version": "1.5.0",
      "model_name": "ProgressStyleModel",
      "state": {
       "_model_module": "@jupyter-widgets/controls",
       "_model_module_version": "1.5.0",
       "_model_name": "ProgressStyleModel",
       "_view_count": null,
       "_view_module": "@jupyter-widgets/base",
       "_view_module_version": "1.2.0",
       "_view_name": "StyleView",
       "bar_color": null,
       "description_width": ""
      }
     },
     "313a1bd99f304cd58f91f0906cbfa486": {
      "model_module": "@jupyter-widgets/controls",
      "model_module_version": "1.5.0",
      "model_name": "FloatProgressModel",
      "state": {
       "_dom_classes": [],
       "_model_module": "@jupyter-widgets/controls",
       "_model_module_version": "1.5.0",
       "_model_name": "FloatProgressModel",
       "_view_count": null,
       "_view_module": "@jupyter-widgets/controls",
       "_view_module_version": "1.5.0",
       "_view_name": "ProgressView",
       "bar_style": "success",
       "description": "",
       "description_tooltip": null,
       "layout": "IPY_MODEL_95ce58260484430cb8d2962fd41ab120",
       "max": 200.0,
       "min": 0.0,
       "orientation": "horizontal",
       "style": "IPY_MODEL_16910ec645fa4847bb385146717e02ca",
       "value": 200.0
      }
     },
     "35ec24ea0d0147e09f8e7a4e6ccda865": {
      "model_module": "@jupyter-widgets/controls",
      "model_module_version": "1.5.0",
      "model_name": "HTMLModel",
      "state": {
       "_dom_classes": [],
       "_model_module": "@jupyter-widgets/controls",
       "_model_module_version": "1.5.0",
       "_model_name": "HTMLModel",
       "_view_count": null,
       "_view_module": "@jupyter-widgets/controls",
       "_view_module_version": "1.5.0",
       "_view_name": "HTMLView",
       "description": "",
       "description_tooltip": null,
       "layout": "IPY_MODEL_b6bdee430f7844e0965f39cd3b2c428b",
       "placeholder": "​",
       "style": "IPY_MODEL_7f4094390d494ebaa24b7e76af38f692",
       "value": " 200/200 [17:55&lt;00:00,  3.85s/it]"
      }
     },
     "4196c8687c684f14876a2a157666ab61": {
      "model_module": "@jupyter-widgets/controls",
      "model_module_version": "1.5.0",
      "model_name": "HBoxModel",
      "state": {
       "_dom_classes": [],
       "_model_module": "@jupyter-widgets/controls",
       "_model_module_version": "1.5.0",
       "_model_name": "HBoxModel",
       "_view_count": null,
       "_view_module": "@jupyter-widgets/controls",
       "_view_module_version": "1.5.0",
       "_view_name": "HBoxView",
       "box_style": "",
       "children": [
        "IPY_MODEL_8d337a4419d645e28f4cf03fd3294c5b",
        "IPY_MODEL_313a1bd99f304cd58f91f0906cbfa486",
        "IPY_MODEL_35ec24ea0d0147e09f8e7a4e6ccda865"
       ],
       "layout": "IPY_MODEL_47e3bdc66bdb40128ade58a0bfd4d852"
      }
     },
     "47e3bdc66bdb40128ade58a0bfd4d852": {
      "model_module": "@jupyter-widgets/base",
      "model_module_version": "1.2.0",
      "model_name": "LayoutModel",
      "state": {
       "_model_module": "@jupyter-widgets/base",
       "_model_module_version": "1.2.0",
       "_model_name": "LayoutModel",
       "_view_count": null,
       "_view_module": "@jupyter-widgets/base",
       "_view_module_version": "1.2.0",
       "_view_name": "LayoutView",
       "align_content": null,
       "align_items": null,
       "align_self": null,
       "border": null,
       "bottom": null,
       "display": null,
       "flex": null,
       "flex_flow": null,
       "grid_area": null,
       "grid_auto_columns": null,
       "grid_auto_flow": null,
       "grid_auto_rows": null,
       "grid_column": null,
       "grid_gap": null,
       "grid_row": null,
       "grid_template_areas": null,
       "grid_template_columns": null,
       "grid_template_rows": null,
       "height": null,
       "justify_content": null,
       "justify_items": null,
       "left": null,
       "margin": null,
       "max_height": null,
       "max_width": null,
       "min_height": null,
       "min_width": null,
       "object_fit": null,
       "object_position": null,
       "order": null,
       "overflow": null,
       "overflow_x": null,
       "overflow_y": null,
       "padding": null,
       "right": null,
       "top": null,
       "visibility": null,
       "width": null
      }
     },
     "5f6ed79a95a54d48953c76defe33be99": {
      "model_module": "@jupyter-widgets/base",
      "model_module_version": "1.2.0",
      "model_name": "LayoutModel",
      "state": {
       "_model_module": "@jupyter-widgets/base",
       "_model_module_version": "1.2.0",
       "_model_name": "LayoutModel",
       "_view_count": null,
       "_view_module": "@jupyter-widgets/base",
       "_view_module_version": "1.2.0",
       "_view_name": "LayoutView",
       "align_content": null,
       "align_items": null,
       "align_self": null,
       "border": null,
       "bottom": null,
       "display": null,
       "flex": null,
       "flex_flow": null,
       "grid_area": null,
       "grid_auto_columns": null,
       "grid_auto_flow": null,
       "grid_auto_rows": null,
       "grid_column": null,
       "grid_gap": null,
       "grid_row": null,
       "grid_template_areas": null,
       "grid_template_columns": null,
       "grid_template_rows": null,
       "height": null,
       "justify_content": null,
       "justify_items": null,
       "left": null,
       "margin": null,
       "max_height": null,
       "max_width": null,
       "min_height": null,
       "min_width": null,
       "object_fit": null,
       "object_position": null,
       "order": null,
       "overflow": null,
       "overflow_x": null,
       "overflow_y": null,
       "padding": null,
       "right": null,
       "top": null,
       "visibility": null,
       "width": null
      }
     },
     "7f4094390d494ebaa24b7e76af38f692": {
      "model_module": "@jupyter-widgets/controls",
      "model_module_version": "1.5.0",
      "model_name": "DescriptionStyleModel",
      "state": {
       "_model_module": "@jupyter-widgets/controls",
       "_model_module_version": "1.5.0",
       "_model_name": "DescriptionStyleModel",
       "_view_count": null,
       "_view_module": "@jupyter-widgets/base",
       "_view_module_version": "1.2.0",
       "_view_name": "StyleView",
       "description_width": ""
      }
     },
     "8d337a4419d645e28f4cf03fd3294c5b": {
      "model_module": "@jupyter-widgets/controls",
      "model_module_version": "1.5.0",
      "model_name": "HTMLModel",
      "state": {
       "_dom_classes": [],
       "_model_module": "@jupyter-widgets/controls",
       "_model_module_version": "1.5.0",
       "_model_name": "HTMLModel",
       "_view_count": null,
       "_view_module": "@jupyter-widgets/controls",
       "_view_module_version": "1.5.0",
       "_view_name": "HTMLView",
       "description": "",
       "description_tooltip": null,
       "layout": "IPY_MODEL_5f6ed79a95a54d48953c76defe33be99",
       "placeholder": "​",
       "style": "IPY_MODEL_c5bedbce53df45df8ede00969ad59c35",
       "value": "100%"
      }
     },
     "95ce58260484430cb8d2962fd41ab120": {
      "model_module": "@jupyter-widgets/base",
      "model_module_version": "1.2.0",
      "model_name": "LayoutModel",
      "state": {
       "_model_module": "@jupyter-widgets/base",
       "_model_module_version": "1.2.0",
       "_model_name": "LayoutModel",
       "_view_count": null,
       "_view_module": "@jupyter-widgets/base",
       "_view_module_version": "1.2.0",
       "_view_name": "LayoutView",
       "align_content": null,
       "align_items": null,
       "align_self": null,
       "border": null,
       "bottom": null,
       "display": null,
       "flex": null,
       "flex_flow": null,
       "grid_area": null,
       "grid_auto_columns": null,
       "grid_auto_flow": null,
       "grid_auto_rows": null,
       "grid_column": null,
       "grid_gap": null,
       "grid_row": null,
       "grid_template_areas": null,
       "grid_template_columns": null,
       "grid_template_rows": null,
       "height": null,
       "justify_content": null,
       "justify_items": null,
       "left": null,
       "margin": null,
       "max_height": null,
       "max_width": null,
       "min_height": null,
       "min_width": null,
       "object_fit": null,
       "object_position": null,
       "order": null,
       "overflow": null,
       "overflow_x": null,
       "overflow_y": null,
       "padding": null,
       "right": null,
       "top": null,
       "visibility": null,
       "width": null
      }
     },
     "b6bdee430f7844e0965f39cd3b2c428b": {
      "model_module": "@jupyter-widgets/base",
      "model_module_version": "1.2.0",
      "model_name": "LayoutModel",
      "state": {
       "_model_module": "@jupyter-widgets/base",
       "_model_module_version": "1.2.0",
       "_model_name": "LayoutModel",
       "_view_count": null,
       "_view_module": "@jupyter-widgets/base",
       "_view_module_version": "1.2.0",
       "_view_name": "LayoutView",
       "align_content": null,
       "align_items": null,
       "align_self": null,
       "border": null,
       "bottom": null,
       "display": null,
       "flex": null,
       "flex_flow": null,
       "grid_area": null,
       "grid_auto_columns": null,
       "grid_auto_flow": null,
       "grid_auto_rows": null,
       "grid_column": null,
       "grid_gap": null,
       "grid_row": null,
       "grid_template_areas": null,
       "grid_template_columns": null,
       "grid_template_rows": null,
       "height": null,
       "justify_content": null,
       "justify_items": null,
       "left": null,
       "margin": null,
       "max_height": null,
       "max_width": null,
       "min_height": null,
       "min_width": null,
       "object_fit": null,
       "object_position": null,
       "order": null,
       "overflow": null,
       "overflow_x": null,
       "overflow_y": null,
       "padding": null,
       "right": null,
       "top": null,
       "visibility": null,
       "width": null
      }
     },
     "c5bedbce53df45df8ede00969ad59c35": {
      "model_module": "@jupyter-widgets/controls",
      "model_module_version": "1.5.0",
      "model_name": "DescriptionStyleModel",
      "state": {
       "_model_module": "@jupyter-widgets/controls",
       "_model_module_version": "1.5.0",
       "_model_name": "DescriptionStyleModel",
       "_view_count": null,
       "_view_module": "@jupyter-widgets/base",
       "_view_module_version": "1.2.0",
       "_view_name": "StyleView",
       "description_width": ""
      }
     }
    },
    "version_major": 2,
    "version_minor": 0
   }
  }
 },
 "nbformat": 4,
 "nbformat_minor": 4
}
