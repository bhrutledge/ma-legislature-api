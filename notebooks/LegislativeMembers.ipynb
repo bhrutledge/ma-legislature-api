{
 "cells": [
  {
   "cell_type": "markdown",
   "metadata": {},
   "source": [
    "https://malegislature.gov/api/swagger/index.html?url=/api/swagger/v1/swagger.json#/LegislativeMembers"
   ]
  },
  {
   "cell_type": "code",
   "execution_count": 1,
   "metadata": {
    "execution": {
     "iopub.execute_input": "2021-10-10T08:16:23.014485Z",
     "iopub.status.busy": "2021-10-10T08:16:23.013844Z",
     "iopub.status.idle": "2021-10-10T08:16:23.171611Z",
     "shell.execute_reply": "2021-10-10T08:16:23.170892Z"
    }
   },
   "outputs": [],
   "source": [
    "import requests\n",
    "from tqdm.notebook import tqdm"
   ]
  },
  {
   "cell_type": "code",
   "execution_count": 2,
   "metadata": {
    "execution": {
     "iopub.execute_input": "2021-10-10T08:16:23.176676Z",
     "iopub.status.busy": "2021-10-10T08:16:23.175667Z",
     "iopub.status.idle": "2021-10-10T08:16:23.177824Z",
     "shell.execute_reply": "2021-10-10T08:16:23.178187Z"
    }
   },
   "outputs": [],
   "source": [
    "def get_json(url, verbose=True):\n",
    "    response = requests.get(url)\n",
    "    response.raise_for_status()\n",
    "    return response.json()"
   ]
  },
  {
   "cell_type": "code",
   "execution_count": 3,
   "metadata": {
    "execution": {
     "iopub.execute_input": "2021-10-10T08:16:23.183452Z",
     "iopub.status.busy": "2021-10-10T08:16:23.182884Z",
     "iopub.status.idle": "2021-10-10T08:16:23.623758Z",
     "shell.execute_reply": "2021-10-10T08:16:23.623217Z"
    }
   },
   "outputs": [
    {
     "name": "stdout",
     "output_type": "stream",
     "text": [
      "CPU times: user 11.6 ms, sys: 7.58 ms, total: 19.2 ms\n",
      "Wall time: 428 ms\n"
     ]
    },
    {
     "data": {
      "text/plain": [
       "200"
      ]
     },
     "execution_count": 3,
     "metadata": {},
     "output_type": "execute_result"
    }
   ],
   "source": [
    "%%time\n",
    "members = get_json(\"https://malegislature.gov/api/LegislativeMembers\")\n",
    "len(members)"
   ]
  },
  {
   "cell_type": "code",
   "execution_count": 4,
   "metadata": {
    "execution": {
     "iopub.execute_input": "2021-10-10T08:16:23.629175Z",
     "iopub.status.busy": "2021-10-10T08:16:23.628651Z",
     "iopub.status.idle": "2021-10-10T08:16:23.631194Z",
     "shell.execute_reply": "2021-10-10T08:16:23.631888Z"
    }
   },
   "outputs": [
    {
     "data": {
      "text/plain": [
       "dict_keys(['GeneralCourtNumber', 'MemberCode', 'Details'])"
      ]
     },
     "execution_count": 4,
     "metadata": {},
     "output_type": "execute_result"
    }
   ],
   "source": [
    "members[0].keys()"
   ]
  },
  {
   "cell_type": "code",
   "execution_count": 5,
   "metadata": {
    "execution": {
     "iopub.execute_input": "2021-10-10T08:16:23.637008Z",
     "iopub.status.busy": "2021-10-10T08:16:23.636308Z",
     "iopub.status.idle": "2021-10-10T08:26:20.240082Z",
     "shell.execute_reply": "2021-10-10T08:26:20.240583Z"
    }
   },
   "outputs": [
    {
     "data": {
      "application/vnd.jupyter.widget-view+json": {
       "model_id": "78c7732b5cb143b184603852d04b5e7b",
       "version_major": 2,
       "version_minor": 0
      },
      "text/plain": [
       "  0%|          | 0/200 [00:00<?, ?it/s]"
      ]
     },
     "metadata": {},
     "output_type": "display_data"
    },
    {
     "name": "stdout",
     "output_type": "stream",
     "text": [
      "CPU times: user 6.37 s, sys: 1.17 s, total: 7.54 s\n",
      "Wall time: 9min 56s\n"
     ]
    },
    {
     "data": {
      "text/plain": [
       "200"
      ]
     },
     "execution_count": 5,
     "metadata": {},
     "output_type": "execute_result"
    }
   ],
   "source": [
    "%%time\n",
    "member_details = [get_json(m['Details']) for m in tqdm(members)]\n",
    "len(member_details)"
   ]
  },
  {
   "cell_type": "code",
   "execution_count": 6,
   "metadata": {
    "execution": {
     "iopub.execute_input": "2021-10-10T08:26:20.245766Z",
     "iopub.status.busy": "2021-10-10T08:26:20.244636Z",
     "iopub.status.idle": "2021-10-10T08:26:20.246334Z",
     "shell.execute_reply": "2021-10-10T08:26:20.246690Z"
    }
   },
   "outputs": [],
   "source": [
    "import json"
   ]
  },
  {
   "cell_type": "code",
   "execution_count": 7,
   "metadata": {
    "execution": {
     "iopub.execute_input": "2021-10-10T08:26:20.250705Z",
     "iopub.status.busy": "2021-10-10T08:26:20.250272Z",
     "iopub.status.idle": "2021-10-10T08:26:26.246016Z",
     "shell.execute_reply": "2021-10-10T08:26:26.247322Z"
    }
   },
   "outputs": [
    {
     "name": "stdout",
     "output_type": "stream",
     "text": [
      "-rw-r--r-- 1 runner docker 159M Oct 10 08:26 ma_legislative_members.json\r\n"
     ]
    }
   ],
   "source": [
    "with open(\"ma_legislative_members.json\", \"w\") as f:\n",
    "    json.dump(member_details, f, indent=2)\n",
    "!ls -lh ma_legislative_members.json"
   ]
  },
  {
   "cell_type": "code",
   "execution_count": 8,
   "metadata": {
    "execution": {
     "iopub.execute_input": "2021-10-10T08:26:26.253875Z",
     "iopub.status.busy": "2021-10-10T08:26:26.253322Z",
     "iopub.status.idle": "2021-10-10T08:26:26.258169Z",
     "shell.execute_reply": "2021-10-10T08:26:26.257755Z"
    }
   },
   "outputs": [
    {
     "data": {
      "text/plain": [
       "Counter({'House': 160, 'Senate': 40})"
      ]
     },
     "execution_count": 8,
     "metadata": {},
     "output_type": "execute_result"
    }
   ],
   "source": [
    "from collections import Counter\n",
    "Counter(m['Branch'] for m in member_details)"
   ]
  },
  {
   "cell_type": "code",
   "execution_count": 9,
   "metadata": {
    "execution": {
     "iopub.execute_input": "2021-10-10T08:26:26.263539Z",
     "iopub.status.busy": "2021-10-10T08:26:26.262954Z",
     "iopub.status.idle": "2021-10-10T08:26:26.265566Z",
     "shell.execute_reply": "2021-10-10T08:26:26.266184Z"
    }
   },
   "outputs": [
    {
     "data": {
      "text/plain": [
       "dict_keys(['Name', 'GeneralCourtNumber', 'LeadershipPosition', 'Branch', 'MemberCode', 'District', 'Party', 'EmailAddress', 'RoomNumber', 'PhoneNumber', 'FaxNumber', 'SponsoredBills', 'CoSponsoredBills', 'Committees'])"
      ]
     },
     "execution_count": 9,
     "metadata": {},
     "output_type": "execute_result"
    }
   ],
   "source": [
    "member_details[0].keys()"
   ]
  },
  {
   "cell_type": "code",
   "execution_count": 10,
   "metadata": {
    "execution": {
     "iopub.execute_input": "2021-10-10T08:26:26.273382Z",
     "iopub.status.busy": "2021-10-10T08:26:26.272185Z",
     "iopub.status.idle": "2021-10-10T08:26:26.274939Z",
     "shell.execute_reply": "2021-10-10T08:26:26.274520Z"
    }
   },
   "outputs": [
    {
     "name": "stdout",
     "output_type": "stream",
     "text": [
      "Name: Rob Consalvo\n",
      "GeneralCourtNumber: 192\n",
      "LeadershipPosition: None\n",
      "Branch: House\n",
      "MemberCode: R_C1\n",
      "District: 14th Suffolk\n",
      "Party: Democrat\n",
      "EmailAddress: Rob.Consalvo@mahouse.gov\n",
      "RoomNumber: None\n",
      "PhoneNumber: (617) 722-2800 x7311\n",
      "FaxNumber: None\n",
      "SponsoredBills: <class 'list'>, len == 4\n",
      "CoSponsoredBills: <class 'list'>, len == 1426\n",
      "Committees: <class 'list'>, len == 4\n"
     ]
    }
   ],
   "source": [
    "for key, value in member_details[0].items():\n",
    "    if isinstance(value, (list, dict)):\n",
    "        value = f\"{type(value)}, len == {len(value)}\"\n",
    "    print(f\"{key}: {value}\")"
   ]
  },
  {
   "cell_type": "code",
   "execution_count": 11,
   "metadata": {
    "execution": {
     "iopub.execute_input": "2021-10-10T08:26:26.279641Z",
     "iopub.status.busy": "2021-10-10T08:26:26.278954Z",
     "iopub.status.idle": "2021-10-10T08:26:28.355331Z",
     "shell.execute_reply": "2021-10-10T08:26:28.354817Z"
    }
   },
   "outputs": [
    {
     "data": {
      "text/plain": [
       "200"
      ]
     },
     "execution_count": 11,
     "metadata": {},
     "output_type": "execute_result"
    }
   ],
   "source": [
    "with open(\"ma_legislative_members.json\") as f:\n",
    "    member_details = json.load(f)\n",
    "len(member_details)"
   ]
  },
  {
   "cell_type": "code",
   "execution_count": 12,
   "metadata": {
    "execution": {
     "iopub.execute_input": "2021-10-10T08:26:28.374721Z",
     "iopub.status.busy": "2021-10-10T08:26:28.363255Z",
     "iopub.status.idle": "2021-10-10T08:26:28.532947Z",
     "shell.execute_reply": "2021-10-10T08:26:28.533318Z"
    }
   },
   "outputs": [],
   "source": [
    "for member in member_details:\n",
    "    for key in [\"SponsoredBills\", \"CoSponsoredBills\"]:\n",
    "        try:\n",
    "            del member[key]\n",
    "        except KeyError:\n",
    "            pass"
   ]
  },
  {
   "cell_type": "code",
   "execution_count": 13,
   "metadata": {
    "execution": {
     "iopub.execute_input": "2021-10-10T08:26:28.537704Z",
     "iopub.status.busy": "2021-10-10T08:26:28.537252Z",
     "iopub.status.idle": "2021-10-10T08:26:28.718633Z",
     "shell.execute_reply": "2021-10-10T08:26:28.719144Z"
    }
   },
   "outputs": [
    {
     "name": "stdout",
     "output_type": "stream",
     "text": [
      "-rw-r--r-- 1 runner docker 217K Oct 10 08:26 ma_legislative_members.json\r\n"
     ]
    }
   ],
   "source": [
    "with open(\"ma_legislative_members.json\", \"w\") as f:\n",
    "    json.dump(member_details, f, indent=2)\n",
    "!ls -lh ma_legislative_members.json"
   ]
  },
  {
   "cell_type": "code",
   "execution_count": null,
   "metadata": {},
   "outputs": [],
   "source": []
  }
 ],
 "metadata": {
  "kernelspec": {
   "display_name": "Python 3 (ipykernel)",
   "language": "python",
   "name": "python3"
  },
  "language_info": {
   "codemirror_mode": {
    "name": "ipython",
    "version": 3
   },
   "file_extension": ".py",
   "mimetype": "text/x-python",
   "name": "python",
   "nbconvert_exporter": "python",
   "pygments_lexer": "ipython3",
   "version": "3.8.10"
  },
  "metadata": {
   "interpreter": {
    "hash": "b0fa6594d8f4cbf19f97940f81e996739fb7646882a419484c72d19e05852a7e"
   }
  },
  "widgets": {
   "application/vnd.jupyter.widget-state+json": {
    "state": {
     "1ed48c42a34a4f6dbc0ad55a6499ca07": {
      "model_module": "@jupyter-widgets/base",
      "model_module_version": "1.2.0",
      "model_name": "LayoutModel",
      "state": {
       "_model_module": "@jupyter-widgets/base",
       "_model_module_version": "1.2.0",
       "_model_name": "LayoutModel",
       "_view_count": null,
       "_view_module": "@jupyter-widgets/base",
       "_view_module_version": "1.2.0",
       "_view_name": "LayoutView",
       "align_content": null,
       "align_items": null,
       "align_self": null,
       "border": null,
       "bottom": null,
       "display": null,
       "flex": null,
       "flex_flow": null,
       "grid_area": null,
       "grid_auto_columns": null,
       "grid_auto_flow": null,
       "grid_auto_rows": null,
       "grid_column": null,
       "grid_gap": null,
       "grid_row": null,
       "grid_template_areas": null,
       "grid_template_columns": null,
       "grid_template_rows": null,
       "height": null,
       "justify_content": null,
       "justify_items": null,
       "left": null,
       "margin": null,
       "max_height": null,
       "max_width": null,
       "min_height": null,
       "min_width": null,
       "object_fit": null,
       "object_position": null,
       "order": null,
       "overflow": null,
       "overflow_x": null,
       "overflow_y": null,
       "padding": null,
       "right": null,
       "top": null,
       "visibility": null,
       "width": null
      }
     },
     "2a48bacaf14a4994a3b550106cd0cf58": {
      "model_module": "@jupyter-widgets/controls",
      "model_module_version": "1.5.0",
      "model_name": "DescriptionStyleModel",
      "state": {
       "_model_module": "@jupyter-widgets/controls",
       "_model_module_version": "1.5.0",
       "_model_name": "DescriptionStyleModel",
       "_view_count": null,
       "_view_module": "@jupyter-widgets/base",
       "_view_module_version": "1.2.0",
       "_view_name": "StyleView",
       "description_width": ""
      }
     },
     "47fbc7a4f7b14ff9af0a10671e76d9ad": {
      "model_module": "@jupyter-widgets/controls",
      "model_module_version": "1.5.0",
      "model_name": "DescriptionStyleModel",
      "state": {
       "_model_module": "@jupyter-widgets/controls",
       "_model_module_version": "1.5.0",
       "_model_name": "DescriptionStyleModel",
       "_view_count": null,
       "_view_module": "@jupyter-widgets/base",
       "_view_module_version": "1.2.0",
       "_view_name": "StyleView",
       "description_width": ""
      }
     },
     "48836f82243242db8fa5d7af9ff1d67a": {
      "model_module": "@jupyter-widgets/base",
      "model_module_version": "1.2.0",
      "model_name": "LayoutModel",
      "state": {
       "_model_module": "@jupyter-widgets/base",
       "_model_module_version": "1.2.0",
       "_model_name": "LayoutModel",
       "_view_count": null,
       "_view_module": "@jupyter-widgets/base",
       "_view_module_version": "1.2.0",
       "_view_name": "LayoutView",
       "align_content": null,
       "align_items": null,
       "align_self": null,
       "border": null,
       "bottom": null,
       "display": null,
       "flex": null,
       "flex_flow": null,
       "grid_area": null,
       "grid_auto_columns": null,
       "grid_auto_flow": null,
       "grid_auto_rows": null,
       "grid_column": null,
       "grid_gap": null,
       "grid_row": null,
       "grid_template_areas": null,
       "grid_template_columns": null,
       "grid_template_rows": null,
       "height": null,
       "justify_content": null,
       "justify_items": null,
       "left": null,
       "margin": null,
       "max_height": null,
       "max_width": null,
       "min_height": null,
       "min_width": null,
       "object_fit": null,
       "object_position": null,
       "order": null,
       "overflow": null,
       "overflow_x": null,
       "overflow_y": null,
       "padding": null,
       "right": null,
       "top": null,
       "visibility": null,
       "width": null
      }
     },
     "6bc7ec5ff5164d37bc184af62e883c9f": {
      "model_module": "@jupyter-widgets/controls",
      "model_module_version": "1.5.0",
      "model_name": "HTMLModel",
      "state": {
       "_dom_classes": [],
       "_model_module": "@jupyter-widgets/controls",
       "_model_module_version": "1.5.0",
       "_model_name": "HTMLModel",
       "_view_count": null,
       "_view_module": "@jupyter-widgets/controls",
       "_view_module_version": "1.5.0",
       "_view_name": "HTMLView",
       "description": "",
       "description_tooltip": null,
       "layout": "IPY_MODEL_48836f82243242db8fa5d7af9ff1d67a",
       "placeholder": "​",
       "style": "IPY_MODEL_2a48bacaf14a4994a3b550106cd0cf58",
       "value": "100%"
      }
     },
     "7125c30a849b4b5a8edc553b8059ddcb": {
      "model_module": "@jupyter-widgets/controls",
      "model_module_version": "1.5.0",
      "model_name": "FloatProgressModel",
      "state": {
       "_dom_classes": [],
       "_model_module": "@jupyter-widgets/controls",
       "_model_module_version": "1.5.0",
       "_model_name": "FloatProgressModel",
       "_view_count": null,
       "_view_module": "@jupyter-widgets/controls",
       "_view_module_version": "1.5.0",
       "_view_name": "ProgressView",
       "bar_style": "success",
       "description": "",
       "description_tooltip": null,
       "layout": "IPY_MODEL_815c615d30934a51bdcdd6c1234105c9",
       "max": 200.0,
       "min": 0.0,
       "orientation": "horizontal",
       "style": "IPY_MODEL_ca9cf95b98c3437ea219792f20a35439",
       "value": 200.0
      }
     },
     "78c7732b5cb143b184603852d04b5e7b": {
      "model_module": "@jupyter-widgets/controls",
      "model_module_version": "1.5.0",
      "model_name": "HBoxModel",
      "state": {
       "_dom_classes": [],
       "_model_module": "@jupyter-widgets/controls",
       "_model_module_version": "1.5.0",
       "_model_name": "HBoxModel",
       "_view_count": null,
       "_view_module": "@jupyter-widgets/controls",
       "_view_module_version": "1.5.0",
       "_view_name": "HBoxView",
       "box_style": "",
       "children": [
        "IPY_MODEL_6bc7ec5ff5164d37bc184af62e883c9f",
        "IPY_MODEL_7125c30a849b4b5a8edc553b8059ddcb",
        "IPY_MODEL_9922ce9a2bb9426fbd9fc46b260bdfc0"
       ],
       "layout": "IPY_MODEL_ca532ca6ae6c497b83247cbac581c776"
      }
     },
     "815c615d30934a51bdcdd6c1234105c9": {
      "model_module": "@jupyter-widgets/base",
      "model_module_version": "1.2.0",
      "model_name": "LayoutModel",
      "state": {
       "_model_module": "@jupyter-widgets/base",
       "_model_module_version": "1.2.0",
       "_model_name": "LayoutModel",
       "_view_count": null,
       "_view_module": "@jupyter-widgets/base",
       "_view_module_version": "1.2.0",
       "_view_name": "LayoutView",
       "align_content": null,
       "align_items": null,
       "align_self": null,
       "border": null,
       "bottom": null,
       "display": null,
       "flex": null,
       "flex_flow": null,
       "grid_area": null,
       "grid_auto_columns": null,
       "grid_auto_flow": null,
       "grid_auto_rows": null,
       "grid_column": null,
       "grid_gap": null,
       "grid_row": null,
       "grid_template_areas": null,
       "grid_template_columns": null,
       "grid_template_rows": null,
       "height": null,
       "justify_content": null,
       "justify_items": null,
       "left": null,
       "margin": null,
       "max_height": null,
       "max_width": null,
       "min_height": null,
       "min_width": null,
       "object_fit": null,
       "object_position": null,
       "order": null,
       "overflow": null,
       "overflow_x": null,
       "overflow_y": null,
       "padding": null,
       "right": null,
       "top": null,
       "visibility": null,
       "width": null
      }
     },
     "9922ce9a2bb9426fbd9fc46b260bdfc0": {
      "model_module": "@jupyter-widgets/controls",
      "model_module_version": "1.5.0",
      "model_name": "HTMLModel",
      "state": {
       "_dom_classes": [],
       "_model_module": "@jupyter-widgets/controls",
       "_model_module_version": "1.5.0",
       "_model_name": "HTMLModel",
       "_view_count": null,
       "_view_module": "@jupyter-widgets/controls",
       "_view_module_version": "1.5.0",
       "_view_name": "HTMLView",
       "description": "",
       "description_tooltip": null,
       "layout": "IPY_MODEL_1ed48c42a34a4f6dbc0ad55a6499ca07",
       "placeholder": "​",
       "style": "IPY_MODEL_47fbc7a4f7b14ff9af0a10671e76d9ad",
       "value": " 200/200 [09:56&lt;00:00,  3.01s/it]"
      }
     },
     "ca532ca6ae6c497b83247cbac581c776": {
      "model_module": "@jupyter-widgets/base",
      "model_module_version": "1.2.0",
      "model_name": "LayoutModel",
      "state": {
       "_model_module": "@jupyter-widgets/base",
       "_model_module_version": "1.2.0",
       "_model_name": "LayoutModel",
       "_view_count": null,
       "_view_module": "@jupyter-widgets/base",
       "_view_module_version": "1.2.0",
       "_view_name": "LayoutView",
       "align_content": null,
       "align_items": null,
       "align_self": null,
       "border": null,
       "bottom": null,
       "display": null,
       "flex": null,
       "flex_flow": null,
       "grid_area": null,
       "grid_auto_columns": null,
       "grid_auto_flow": null,
       "grid_auto_rows": null,
       "grid_column": null,
       "grid_gap": null,
       "grid_row": null,
       "grid_template_areas": null,
       "grid_template_columns": null,
       "grid_template_rows": null,
       "height": null,
       "justify_content": null,
       "justify_items": null,
       "left": null,
       "margin": null,
       "max_height": null,
       "max_width": null,
       "min_height": null,
       "min_width": null,
       "object_fit": null,
       "object_position": null,
       "order": null,
       "overflow": null,
       "overflow_x": null,
       "overflow_y": null,
       "padding": null,
       "right": null,
       "top": null,
       "visibility": null,
       "width": null
      }
     },
     "ca9cf95b98c3437ea219792f20a35439": {
      "model_module": "@jupyter-widgets/controls",
      "model_module_version": "1.5.0",
      "model_name": "ProgressStyleModel",
      "state": {
       "_model_module": "@jupyter-widgets/controls",
       "_model_module_version": "1.5.0",
       "_model_name": "ProgressStyleModel",
       "_view_count": null,
       "_view_module": "@jupyter-widgets/base",
       "_view_module_version": "1.2.0",
       "_view_name": "StyleView",
       "bar_color": null,
       "description_width": ""
      }
     }
    },
    "version_major": 2,
    "version_minor": 0
   }
  }
 },
 "nbformat": 4,
 "nbformat_minor": 4
}
