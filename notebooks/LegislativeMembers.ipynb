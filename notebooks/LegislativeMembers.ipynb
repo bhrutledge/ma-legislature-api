{
 "cells": [
  {
   "cell_type": "markdown",
   "metadata": {},
   "source": [
    "https://malegislature.gov/api/swagger/index.html?url=/api/swagger/v1/swagger.json#/LegislativeMembers"
   ]
  },
  {
   "cell_type": "code",
   "execution_count": 1,
   "metadata": {
    "execution": {
     "iopub.execute_input": "2021-11-30T08:14:57.949218Z",
     "iopub.status.busy": "2021-11-30T08:14:57.948521Z",
     "iopub.status.idle": "2021-11-30T08:14:58.098878Z",
     "shell.execute_reply": "2021-11-30T08:14:58.098227Z"
    }
   },
   "outputs": [],
   "source": [
    "import requests\n",
    "from tqdm.notebook import tqdm"
   ]
  },
  {
   "cell_type": "code",
   "execution_count": 2,
   "metadata": {
    "execution": {
     "iopub.execute_input": "2021-11-30T08:14:58.104361Z",
     "iopub.status.busy": "2021-11-30T08:14:58.103219Z",
     "iopub.status.idle": "2021-11-30T08:14:58.105639Z",
     "shell.execute_reply": "2021-11-30T08:14:58.106131Z"
    }
   },
   "outputs": [],
   "source": [
    "def get_json(url, verbose=True):\n",
    "    response = requests.get(url)\n",
    "    response.raise_for_status()\n",
    "    return response.json()"
   ]
  },
  {
   "cell_type": "code",
   "execution_count": 3,
   "metadata": {
    "execution": {
     "iopub.execute_input": "2021-11-30T08:14:58.113874Z",
     "iopub.status.busy": "2021-11-30T08:14:58.113265Z",
     "iopub.status.idle": "2021-11-30T08:14:58.677069Z",
     "shell.execute_reply": "2021-11-30T08:14:58.677668Z"
    }
   },
   "outputs": [
    {
     "name": "stdout",
     "output_type": "stream",
     "text": [
      "CPU times: user 14.5 ms, sys: 4.65 ms, total: 19.1 ms\n",
      "Wall time: 555 ms\n"
     ]
    },
    {
     "data": {
      "text/plain": [
       "200"
      ]
     },
     "execution_count": 3,
     "metadata": {},
     "output_type": "execute_result"
    }
   ],
   "source": [
    "%%time\n",
    "members = get_json(\"https://malegislature.gov/api/LegislativeMembers\")\n",
    "len(members)"
   ]
  },
  {
   "cell_type": "code",
   "execution_count": 4,
   "metadata": {
    "execution": {
     "iopub.execute_input": "2021-11-30T08:14:58.680672Z",
     "iopub.status.busy": "2021-11-30T08:14:58.680095Z",
     "iopub.status.idle": "2021-11-30T08:14:58.685668Z",
     "shell.execute_reply": "2021-11-30T08:14:58.686126Z"
    }
   },
   "outputs": [
    {
     "data": {
      "text/plain": [
       "dict_keys(['GeneralCourtNumber', 'MemberCode', 'Details'])"
      ]
     },
     "execution_count": 4,
     "metadata": {},
     "output_type": "execute_result"
    }
   ],
   "source": [
    "members[0].keys()"
   ]
  },
  {
   "cell_type": "code",
   "execution_count": 5,
   "metadata": {
    "execution": {
     "iopub.execute_input": "2021-11-30T08:14:58.691331Z",
     "iopub.status.busy": "2021-11-30T08:14:58.690755Z",
     "iopub.status.idle": "2021-11-30T08:22:49.637066Z",
     "shell.execute_reply": "2021-11-30T08:22:49.637555Z"
    }
   },
   "outputs": [
    {
     "data": {
      "application/vnd.jupyter.widget-view+json": {
       "model_id": "c62568e08bcf48419b199be671192c02",
       "version_major": 2,
       "version_minor": 0
      },
      "text/plain": [
       "  0%|          | 0/200 [00:00<?, ?it/s]"
      ]
     },
     "metadata": {},
     "output_type": "display_data"
    },
    {
     "name": "stdout",
     "output_type": "stream",
     "text": [
      "CPU times: user 7.23 s, sys: 1.06 s, total: 8.28 s\n",
      "Wall time: 7min 50s\n"
     ]
    },
    {
     "data": {
      "text/plain": [
       "200"
      ]
     },
     "execution_count": 5,
     "metadata": {},
     "output_type": "execute_result"
    }
   ],
   "source": [
    "%%time\n",
    "member_details = [get_json(m['Details']) for m in tqdm(members)]\n",
    "len(member_details)"
   ]
  },
  {
   "cell_type": "code",
   "execution_count": 6,
   "metadata": {
    "execution": {
     "iopub.execute_input": "2021-11-30T08:22:49.644771Z",
     "iopub.status.busy": "2021-11-30T08:22:49.642221Z",
     "iopub.status.idle": "2021-11-30T08:22:49.647297Z",
     "shell.execute_reply": "2021-11-30T08:22:49.646705Z"
    }
   },
   "outputs": [],
   "source": [
    "import json"
   ]
  },
  {
   "cell_type": "code",
   "execution_count": 7,
   "metadata": {
    "execution": {
     "iopub.execute_input": "2021-11-30T08:22:49.651745Z",
     "iopub.status.busy": "2021-11-30T08:22:49.649543Z",
     "iopub.status.idle": "2021-11-30T08:22:56.793813Z",
     "shell.execute_reply": "2021-11-30T08:22:56.793202Z"
    }
   },
   "outputs": [
    {
     "name": "stdout",
     "output_type": "stream",
     "text": [
      "-rw-r--r-- 1 runner docker 160M Nov 30 08:22 ma_legislative_members.json\r\n"
     ]
    }
   ],
   "source": [
    "with open(\"ma_legislative_members.json\", \"w\") as f:\n",
    "    json.dump(member_details, f, indent=2)\n",
    "!ls -lh ma_legislative_members.json"
   ]
  },
  {
   "cell_type": "code",
   "execution_count": 8,
   "metadata": {
    "execution": {
     "iopub.execute_input": "2021-11-30T08:22:56.800864Z",
     "iopub.status.busy": "2021-11-30T08:22:56.800207Z",
     "iopub.status.idle": "2021-11-30T08:22:56.807034Z",
     "shell.execute_reply": "2021-11-30T08:22:56.806552Z"
    }
   },
   "outputs": [
    {
     "data": {
      "text/plain": [
       "Counter({'House': 160, 'Senate': 40})"
      ]
     },
     "execution_count": 8,
     "metadata": {},
     "output_type": "execute_result"
    }
   ],
   "source": [
    "from collections import Counter\n",
    "Counter(m['Branch'] for m in member_details)"
   ]
  },
  {
   "cell_type": "code",
   "execution_count": 9,
   "metadata": {
    "execution": {
     "iopub.execute_input": "2021-11-30T08:22:56.811250Z",
     "iopub.status.busy": "2021-11-30T08:22:56.810728Z",
     "iopub.status.idle": "2021-11-30T08:22:56.815728Z",
     "shell.execute_reply": "2021-11-30T08:22:56.816216Z"
    }
   },
   "outputs": [
    {
     "data": {
      "text/plain": [
       "dict_keys(['Name', 'GeneralCourtNumber', 'LeadershipPosition', 'Branch', 'MemberCode', 'District', 'Party', 'EmailAddress', 'RoomNumber', 'PhoneNumber', 'FaxNumber', 'SponsoredBills', 'CoSponsoredBills', 'Committees'])"
      ]
     },
     "execution_count": 9,
     "metadata": {},
     "output_type": "execute_result"
    }
   ],
   "source": [
    "member_details[0].keys()"
   ]
  },
  {
   "cell_type": "code",
   "execution_count": 10,
   "metadata": {
    "execution": {
     "iopub.execute_input": "2021-11-30T08:22:56.822608Z",
     "iopub.status.busy": "2021-11-30T08:22:56.822094Z",
     "iopub.status.idle": "2021-11-30T08:22:56.825531Z",
     "shell.execute_reply": "2021-11-30T08:22:56.825112Z"
    }
   },
   "outputs": [
    {
     "name": "stdout",
     "output_type": "stream",
     "text": [
      "Name: Rob Consalvo\n",
      "GeneralCourtNumber: 192\n",
      "LeadershipPosition: None\n",
      "Branch: House\n",
      "MemberCode: R_C1\n",
      "District: 14th Suffolk\n",
      "Party: Democrat\n",
      "EmailAddress: Rob.Consalvo@mahouse.gov\n",
      "RoomNumber: None\n",
      "PhoneNumber: (617) 722-2800 x7311\n",
      "FaxNumber: None\n",
      "SponsoredBills: <class 'list'>, len == 5\n",
      "CoSponsoredBills: <class 'list'>, len == 1431\n",
      "Committees: <class 'list'>, len == 4\n"
     ]
    }
   ],
   "source": [
    "for key, value in member_details[0].items():\n",
    "    if isinstance(value, (list, dict)):\n",
    "        value = f\"{type(value)}, len == {len(value)}\"\n",
    "    print(f\"{key}: {value}\")"
   ]
  },
  {
   "cell_type": "code",
   "execution_count": 11,
   "metadata": {
    "execution": {
     "iopub.execute_input": "2021-11-30T08:22:56.829815Z",
     "iopub.status.busy": "2021-11-30T08:22:56.829253Z",
     "iopub.status.idle": "2021-11-30T08:22:59.018846Z",
     "shell.execute_reply": "2021-11-30T08:22:59.019569Z"
    }
   },
   "outputs": [
    {
     "data": {
      "text/plain": [
       "200"
      ]
     },
     "execution_count": 11,
     "metadata": {},
     "output_type": "execute_result"
    }
   ],
   "source": [
    "with open(\"ma_legislative_members.json\") as f:\n",
    "    member_details = json.load(f)\n",
    "len(member_details)"
   ]
  },
  {
   "cell_type": "code",
   "execution_count": 12,
   "metadata": {
    "execution": {
     "iopub.execute_input": "2021-11-30T08:22:59.050420Z",
     "iopub.status.busy": "2021-11-30T08:22:59.033625Z",
     "iopub.status.idle": "2021-11-30T08:22:59.206595Z",
     "shell.execute_reply": "2021-11-30T08:22:59.205512Z"
    }
   },
   "outputs": [],
   "source": [
    "for member in member_details:\n",
    "    for key in [\"SponsoredBills\", \"CoSponsoredBills\"]:\n",
    "        try:\n",
    "            del member[key]\n",
    "        except KeyError:\n",
    "            pass"
   ]
  },
  {
   "cell_type": "code",
   "execution_count": 13,
   "metadata": {
    "execution": {
     "iopub.execute_input": "2021-11-30T08:22:59.211752Z",
     "iopub.status.busy": "2021-11-30T08:22:59.211183Z",
     "iopub.status.idle": "2021-11-30T08:22:59.400423Z",
     "shell.execute_reply": "2021-11-30T08:22:59.399961Z"
    }
   },
   "outputs": [
    {
     "name": "stdout",
     "output_type": "stream",
     "text": [
      "-rw-r--r-- 1 runner docker 218K Nov 30 08:22 ma_legislative_members.json\r\n"
     ]
    }
   ],
   "source": [
    "with open(\"ma_legislative_members.json\", \"w\") as f:\n",
    "    json.dump(member_details, f, indent=2)\n",
    "!ls -lh ma_legislative_members.json"
   ]
  },
  {
   "cell_type": "code",
   "execution_count": null,
   "metadata": {},
   "outputs": [],
   "source": []
  }
 ],
 "metadata": {
  "kernelspec": {
   "display_name": "Python 3 (ipykernel)",
   "language": "python",
   "name": "python3"
  },
  "language_info": {
   "codemirror_mode": {
    "name": "ipython",
    "version": 3
   },
   "file_extension": ".py",
   "mimetype": "text/x-python",
   "name": "python",
   "nbconvert_exporter": "python",
   "pygments_lexer": "ipython3",
   "version": "3.8.10"
  },
  "metadata": {
   "interpreter": {
    "hash": "b0fa6594d8f4cbf19f97940f81e996739fb7646882a419484c72d19e05852a7e"
   }
  },
  "widgets": {
   "application/vnd.jupyter.widget-state+json": {
    "state": {
     "095a15b62a324459bcacc97247d7e6d8": {
      "model_module": "@jupyter-widgets/base",
      "model_module_version": "1.2.0",
      "model_name": "LayoutModel",
      "state": {
       "_model_module": "@jupyter-widgets/base",
       "_model_module_version": "1.2.0",
       "_model_name": "LayoutModel",
       "_view_count": null,
       "_view_module": "@jupyter-widgets/base",
       "_view_module_version": "1.2.0",
       "_view_name": "LayoutView",
       "align_content": null,
       "align_items": null,
       "align_self": null,
       "border": null,
       "bottom": null,
       "display": null,
       "flex": null,
       "flex_flow": null,
       "grid_area": null,
       "grid_auto_columns": null,
       "grid_auto_flow": null,
       "grid_auto_rows": null,
       "grid_column": null,
       "grid_gap": null,
       "grid_row": null,
       "grid_template_areas": null,
       "grid_template_columns": null,
       "grid_template_rows": null,
       "height": null,
       "justify_content": null,
       "justify_items": null,
       "left": null,
       "margin": null,
       "max_height": null,
       "max_width": null,
       "min_height": null,
       "min_width": null,
       "object_fit": null,
       "object_position": null,
       "order": null,
       "overflow": null,
       "overflow_x": null,
       "overflow_y": null,
       "padding": null,
       "right": null,
       "top": null,
       "visibility": null,
       "width": null
      }
     },
     "147ec3aebde14d159e083ca1e3648f6f": {
      "model_module": "@jupyter-widgets/controls",
      "model_module_version": "1.5.0",
      "model_name": "DescriptionStyleModel",
      "state": {
       "_model_module": "@jupyter-widgets/controls",
       "_model_module_version": "1.5.0",
       "_model_name": "DescriptionStyleModel",
       "_view_count": null,
       "_view_module": "@jupyter-widgets/base",
       "_view_module_version": "1.2.0",
       "_view_name": "StyleView",
       "description_width": ""
      }
     },
     "17d952a21f30437a86778e73c8aa8c98": {
      "model_module": "@jupyter-widgets/base",
      "model_module_version": "1.2.0",
      "model_name": "LayoutModel",
      "state": {
       "_model_module": "@jupyter-widgets/base",
       "_model_module_version": "1.2.0",
       "_model_name": "LayoutModel",
       "_view_count": null,
       "_view_module": "@jupyter-widgets/base",
       "_view_module_version": "1.2.0",
       "_view_name": "LayoutView",
       "align_content": null,
       "align_items": null,
       "align_self": null,
       "border": null,
       "bottom": null,
       "display": null,
       "flex": null,
       "flex_flow": null,
       "grid_area": null,
       "grid_auto_columns": null,
       "grid_auto_flow": null,
       "grid_auto_rows": null,
       "grid_column": null,
       "grid_gap": null,
       "grid_row": null,
       "grid_template_areas": null,
       "grid_template_columns": null,
       "grid_template_rows": null,
       "height": null,
       "justify_content": null,
       "justify_items": null,
       "left": null,
       "margin": null,
       "max_height": null,
       "max_width": null,
       "min_height": null,
       "min_width": null,
       "object_fit": null,
       "object_position": null,
       "order": null,
       "overflow": null,
       "overflow_x": null,
       "overflow_y": null,
       "padding": null,
       "right": null,
       "top": null,
       "visibility": null,
       "width": null
      }
     },
     "23f51368193f4388bee7e3ba66399e62": {
      "model_module": "@jupyter-widgets/base",
      "model_module_version": "1.2.0",
      "model_name": "LayoutModel",
      "state": {
       "_model_module": "@jupyter-widgets/base",
       "_model_module_version": "1.2.0",
       "_model_name": "LayoutModel",
       "_view_count": null,
       "_view_module": "@jupyter-widgets/base",
       "_view_module_version": "1.2.0",
       "_view_name": "LayoutView",
       "align_content": null,
       "align_items": null,
       "align_self": null,
       "border": null,
       "bottom": null,
       "display": null,
       "flex": null,
       "flex_flow": null,
       "grid_area": null,
       "grid_auto_columns": null,
       "grid_auto_flow": null,
       "grid_auto_rows": null,
       "grid_column": null,
       "grid_gap": null,
       "grid_row": null,
       "grid_template_areas": null,
       "grid_template_columns": null,
       "grid_template_rows": null,
       "height": null,
       "justify_content": null,
       "justify_items": null,
       "left": null,
       "margin": null,
       "max_height": null,
       "max_width": null,
       "min_height": null,
       "min_width": null,
       "object_fit": null,
       "object_position": null,
       "order": null,
       "overflow": null,
       "overflow_x": null,
       "overflow_y": null,
       "padding": null,
       "right": null,
       "top": null,
       "visibility": null,
       "width": null
      }
     },
     "4d198dd780954de1ab3184349bd73ddb": {
      "model_module": "@jupyter-widgets/controls",
      "model_module_version": "1.5.0",
      "model_name": "ProgressStyleModel",
      "state": {
       "_model_module": "@jupyter-widgets/controls",
       "_model_module_version": "1.5.0",
       "_model_name": "ProgressStyleModel",
       "_view_count": null,
       "_view_module": "@jupyter-widgets/base",
       "_view_module_version": "1.2.0",
       "_view_name": "StyleView",
       "bar_color": null,
       "description_width": ""
      }
     },
     "503c070c108842cea32f7915733501b3": {
      "model_module": "@jupyter-widgets/controls",
      "model_module_version": "1.5.0",
      "model_name": "HTMLModel",
      "state": {
       "_dom_classes": [],
       "_model_module": "@jupyter-widgets/controls",
       "_model_module_version": "1.5.0",
       "_model_name": "HTMLModel",
       "_view_count": null,
       "_view_module": "@jupyter-widgets/controls",
       "_view_module_version": "1.5.0",
       "_view_name": "HTMLView",
       "description": "",
       "description_tooltip": null,
       "layout": "IPY_MODEL_23f51368193f4388bee7e3ba66399e62",
       "placeholder": "​",
       "style": "IPY_MODEL_147ec3aebde14d159e083ca1e3648f6f",
       "value": " 200/200 [07:50&lt;00:00,  2.14s/it]"
      }
     },
     "6166014f3aca4f5eaff8bfc91785b445": {
      "model_module": "@jupyter-widgets/controls",
      "model_module_version": "1.5.0",
      "model_name": "HTMLModel",
      "state": {
       "_dom_classes": [],
       "_model_module": "@jupyter-widgets/controls",
       "_model_module_version": "1.5.0",
       "_model_name": "HTMLModel",
       "_view_count": null,
       "_view_module": "@jupyter-widgets/controls",
       "_view_module_version": "1.5.0",
       "_view_name": "HTMLView",
       "description": "",
       "description_tooltip": null,
       "layout": "IPY_MODEL_17d952a21f30437a86778e73c8aa8c98",
       "placeholder": "​",
       "style": "IPY_MODEL_d9dc180958de434780eeae375b5b01ef",
       "value": "100%"
      }
     },
     "c13d0f6300be4a05aa2d9943f57d8ff7": {
      "model_module": "@jupyter-widgets/base",
      "model_module_version": "1.2.0",
      "model_name": "LayoutModel",
      "state": {
       "_model_module": "@jupyter-widgets/base",
       "_model_module_version": "1.2.0",
       "_model_name": "LayoutModel",
       "_view_count": null,
       "_view_module": "@jupyter-widgets/base",
       "_view_module_version": "1.2.0",
       "_view_name": "LayoutView",
       "align_content": null,
       "align_items": null,
       "align_self": null,
       "border": null,
       "bottom": null,
       "display": null,
       "flex": null,
       "flex_flow": null,
       "grid_area": null,
       "grid_auto_columns": null,
       "grid_auto_flow": null,
       "grid_auto_rows": null,
       "grid_column": null,
       "grid_gap": null,
       "grid_row": null,
       "grid_template_areas": null,
       "grid_template_columns": null,
       "grid_template_rows": null,
       "height": null,
       "justify_content": null,
       "justify_items": null,
       "left": null,
       "margin": null,
       "max_height": null,
       "max_width": null,
       "min_height": null,
       "min_width": null,
       "object_fit": null,
       "object_position": null,
       "order": null,
       "overflow": null,
       "overflow_x": null,
       "overflow_y": null,
       "padding": null,
       "right": null,
       "top": null,
       "visibility": null,
       "width": null
      }
     },
     "c62568e08bcf48419b199be671192c02": {
      "model_module": "@jupyter-widgets/controls",
      "model_module_version": "1.5.0",
      "model_name": "HBoxModel",
      "state": {
       "_dom_classes": [],
       "_model_module": "@jupyter-widgets/controls",
       "_model_module_version": "1.5.0",
       "_model_name": "HBoxModel",
       "_view_count": null,
       "_view_module": "@jupyter-widgets/controls",
       "_view_module_version": "1.5.0",
       "_view_name": "HBoxView",
       "box_style": "",
       "children": [
        "IPY_MODEL_6166014f3aca4f5eaff8bfc91785b445",
        "IPY_MODEL_ff9bfcf913df4487982d89bf5d85c7cd",
        "IPY_MODEL_503c070c108842cea32f7915733501b3"
       ],
       "layout": "IPY_MODEL_095a15b62a324459bcacc97247d7e6d8"
      }
     },
     "d9dc180958de434780eeae375b5b01ef": {
      "model_module": "@jupyter-widgets/controls",
      "model_module_version": "1.5.0",
      "model_name": "DescriptionStyleModel",
      "state": {
       "_model_module": "@jupyter-widgets/controls",
       "_model_module_version": "1.5.0",
       "_model_name": "DescriptionStyleModel",
       "_view_count": null,
       "_view_module": "@jupyter-widgets/base",
       "_view_module_version": "1.2.0",
       "_view_name": "StyleView",
       "description_width": ""
      }
     },
     "ff9bfcf913df4487982d89bf5d85c7cd": {
      "model_module": "@jupyter-widgets/controls",
      "model_module_version": "1.5.0",
      "model_name": "FloatProgressModel",
      "state": {
       "_dom_classes": [],
       "_model_module": "@jupyter-widgets/controls",
       "_model_module_version": "1.5.0",
       "_model_name": "FloatProgressModel",
       "_view_count": null,
       "_view_module": "@jupyter-widgets/controls",
       "_view_module_version": "1.5.0",
       "_view_name": "ProgressView",
       "bar_style": "success",
       "description": "",
       "description_tooltip": null,
       "layout": "IPY_MODEL_c13d0f6300be4a05aa2d9943f57d8ff7",
       "max": 200.0,
       "min": 0.0,
       "orientation": "horizontal",
       "style": "IPY_MODEL_4d198dd780954de1ab3184349bd73ddb",
       "value": 200.0
      }
     }
    },
    "version_major": 2,
    "version_minor": 0
   }
  }
 },
 "nbformat": 4,
 "nbformat_minor": 4
}
