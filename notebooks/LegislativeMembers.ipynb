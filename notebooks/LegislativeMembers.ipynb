{
 "cells": [
  {
   "cell_type": "markdown",
   "metadata": {},
   "source": [
    "https://malegislature.gov/api/swagger/index.html?url=/api/swagger/v1/swagger.json#/LegislativeMembers"
   ]
  },
  {
   "cell_type": "code",
   "execution_count": 1,
   "metadata": {
    "execution": {
     "iopub.execute_input": "2021-11-16T08:17:59.250146Z",
     "iopub.status.busy": "2021-11-16T08:17:59.249487Z",
     "iopub.status.idle": "2021-11-16T08:17:59.409088Z",
     "shell.execute_reply": "2021-11-16T08:17:59.408219Z"
    }
   },
   "outputs": [],
   "source": [
    "import requests\n",
    "from tqdm.notebook import tqdm"
   ]
  },
  {
   "cell_type": "code",
   "execution_count": 2,
   "metadata": {
    "execution": {
     "iopub.execute_input": "2021-11-16T08:17:59.415120Z",
     "iopub.status.busy": "2021-11-16T08:17:59.413679Z",
     "iopub.status.idle": "2021-11-16T08:17:59.415769Z",
     "shell.execute_reply": "2021-11-16T08:17:59.416257Z"
    }
   },
   "outputs": [],
   "source": [
    "def get_json(url, verbose=True):\n",
    "    response = requests.get(url)\n",
    "    response.raise_for_status()\n",
    "    return response.json()"
   ]
  },
  {
   "cell_type": "code",
   "execution_count": 3,
   "metadata": {
    "execution": {
     "iopub.execute_input": "2021-11-16T08:17:59.425550Z",
     "iopub.status.busy": "2021-11-16T08:17:59.423345Z",
     "iopub.status.idle": "2021-11-16T08:18:00.013872Z",
     "shell.execute_reply": "2021-11-16T08:18:00.014390Z"
    }
   },
   "outputs": [
    {
     "name": "stdout",
     "output_type": "stream",
     "text": [
      "CPU times: user 18.6 ms, sys: 1.2 ms, total: 19.8 ms\n",
      "Wall time: 581 ms\n"
     ]
    },
    {
     "data": {
      "text/plain": [
       "200"
      ]
     },
     "execution_count": 3,
     "metadata": {},
     "output_type": "execute_result"
    }
   ],
   "source": [
    "%%time\n",
    "members = get_json(\"https://malegislature.gov/api/LegislativeMembers\")\n",
    "len(members)"
   ]
  },
  {
   "cell_type": "code",
   "execution_count": 4,
   "metadata": {
    "execution": {
     "iopub.execute_input": "2021-11-16T08:18:00.022175Z",
     "iopub.status.busy": "2021-11-16T08:18:00.020674Z",
     "iopub.status.idle": "2021-11-16T08:18:00.024326Z",
     "shell.execute_reply": "2021-11-16T08:18:00.023782Z"
    }
   },
   "outputs": [
    {
     "data": {
      "text/plain": [
       "dict_keys(['GeneralCourtNumber', 'MemberCode', 'Details'])"
      ]
     },
     "execution_count": 4,
     "metadata": {},
     "output_type": "execute_result"
    }
   ],
   "source": [
    "members[0].keys()"
   ]
  },
  {
   "cell_type": "code",
   "execution_count": 5,
   "metadata": {
    "execution": {
     "iopub.execute_input": "2021-11-16T08:18:00.029984Z",
     "iopub.status.busy": "2021-11-16T08:18:00.029373Z",
     "iopub.status.idle": "2021-11-16T08:29:09.553705Z",
     "shell.execute_reply": "2021-11-16T08:29:09.554775Z"
    }
   },
   "outputs": [
    {
     "data": {
      "application/vnd.jupyter.widget-view+json": {
       "model_id": "72ef82f556e5422b9aefa026d499f6a9",
       "version_major": 2,
       "version_minor": 0
      },
      "text/plain": [
       "  0%|          | 0/200 [00:00<?, ?it/s]"
      ]
     },
     "metadata": {},
     "output_type": "display_data"
    },
    {
     "name": "stdout",
     "output_type": "stream",
     "text": [
      "CPU times: user 7.1 s, sys: 1.22 s, total: 8.32 s\n",
      "Wall time: 11min 9s\n"
     ]
    },
    {
     "data": {
      "text/plain": [
       "200"
      ]
     },
     "execution_count": 5,
     "metadata": {},
     "output_type": "execute_result"
    }
   ],
   "source": [
    "%%time\n",
    "member_details = [get_json(m['Details']) for m in tqdm(members)]\n",
    "len(member_details)"
   ]
  },
  {
   "cell_type": "code",
   "execution_count": 6,
   "metadata": {
    "execution": {
     "iopub.execute_input": "2021-11-16T08:29:09.560409Z",
     "iopub.status.busy": "2021-11-16T08:29:09.559090Z",
     "iopub.status.idle": "2021-11-16T08:29:09.561041Z",
     "shell.execute_reply": "2021-11-16T08:29:09.561584Z"
    }
   },
   "outputs": [],
   "source": [
    "import json"
   ]
  },
  {
   "cell_type": "code",
   "execution_count": 7,
   "metadata": {
    "execution": {
     "iopub.execute_input": "2021-11-16T08:29:09.568026Z",
     "iopub.status.busy": "2021-11-16T08:29:09.567089Z",
     "iopub.status.idle": "2021-11-16T08:29:16.815593Z",
     "shell.execute_reply": "2021-11-16T08:29:16.816149Z"
    }
   },
   "outputs": [
    {
     "name": "stdout",
     "output_type": "stream",
     "text": [
      "-rw-r--r-- 1 runner docker 160M Nov 16 08:29 ma_legislative_members.json\r\n"
     ]
    }
   ],
   "source": [
    "with open(\"ma_legislative_members.json\", \"w\") as f:\n",
    "    json.dump(member_details, f, indent=2)\n",
    "!ls -lh ma_legislative_members.json"
   ]
  },
  {
   "cell_type": "code",
   "execution_count": 8,
   "metadata": {
    "execution": {
     "iopub.execute_input": "2021-11-16T08:29:16.823701Z",
     "iopub.status.busy": "2021-11-16T08:29:16.822608Z",
     "iopub.status.idle": "2021-11-16T08:29:16.826244Z",
     "shell.execute_reply": "2021-11-16T08:29:16.825797Z"
    }
   },
   "outputs": [
    {
     "data": {
      "text/plain": [
       "Counter({'House': 160, 'Senate': 40})"
      ]
     },
     "execution_count": 8,
     "metadata": {},
     "output_type": "execute_result"
    }
   ],
   "source": [
    "from collections import Counter\n",
    "Counter(m['Branch'] for m in member_details)"
   ]
  },
  {
   "cell_type": "code",
   "execution_count": 9,
   "metadata": {
    "execution": {
     "iopub.execute_input": "2021-11-16T08:29:16.831600Z",
     "iopub.status.busy": "2021-11-16T08:29:16.830820Z",
     "iopub.status.idle": "2021-11-16T08:29:16.833480Z",
     "shell.execute_reply": "2021-11-16T08:29:16.834096Z"
    }
   },
   "outputs": [
    {
     "data": {
      "text/plain": [
       "dict_keys(['Name', 'GeneralCourtNumber', 'LeadershipPosition', 'Branch', 'MemberCode', 'District', 'Party', 'EmailAddress', 'RoomNumber', 'PhoneNumber', 'FaxNumber', 'SponsoredBills', 'CoSponsoredBills', 'Committees'])"
      ]
     },
     "execution_count": 9,
     "metadata": {},
     "output_type": "execute_result"
    }
   ],
   "source": [
    "member_details[0].keys()"
   ]
  },
  {
   "cell_type": "code",
   "execution_count": 10,
   "metadata": {
    "execution": {
     "iopub.execute_input": "2021-11-16T08:29:16.841328Z",
     "iopub.status.busy": "2021-11-16T08:29:16.840001Z",
     "iopub.status.idle": "2021-11-16T08:29:16.843219Z",
     "shell.execute_reply": "2021-11-16T08:29:16.842737Z"
    }
   },
   "outputs": [
    {
     "name": "stdout",
     "output_type": "stream",
     "text": [
      "Name: Rob Consalvo\n",
      "GeneralCourtNumber: 192\n",
      "LeadershipPosition: None\n",
      "Branch: House\n",
      "MemberCode: R_C1\n",
      "District: 14th Suffolk\n",
      "Party: Democrat\n",
      "EmailAddress: Rob.Consalvo@mahouse.gov\n",
      "RoomNumber: None\n",
      "PhoneNumber: (617) 722-2800 x7311\n",
      "FaxNumber: None\n",
      "SponsoredBills: <class 'list'>, len == 5\n",
      "CoSponsoredBills: <class 'list'>, len == 1431\n",
      "Committees: <class 'list'>, len == 4\n"
     ]
    }
   ],
   "source": [
    "for key, value in member_details[0].items():\n",
    "    if isinstance(value, (list, dict)):\n",
    "        value = f\"{type(value)}, len == {len(value)}\"\n",
    "    print(f\"{key}: {value}\")"
   ]
  },
  {
   "cell_type": "code",
   "execution_count": 11,
   "metadata": {
    "execution": {
     "iopub.execute_input": "2021-11-16T08:29:16.846960Z",
     "iopub.status.busy": "2021-11-16T08:29:16.846416Z",
     "iopub.status.idle": "2021-11-16T08:29:19.143195Z",
     "shell.execute_reply": "2021-11-16T08:29:19.143715Z"
    }
   },
   "outputs": [
    {
     "data": {
      "text/plain": [
       "200"
      ]
     },
     "execution_count": 11,
     "metadata": {},
     "output_type": "execute_result"
    }
   ],
   "source": [
    "with open(\"ma_legislative_members.json\") as f:\n",
    "    member_details = json.load(f)\n",
    "len(member_details)"
   ]
  },
  {
   "cell_type": "code",
   "execution_count": 12,
   "metadata": {
    "execution": {
     "iopub.execute_input": "2021-11-16T08:29:19.186618Z",
     "iopub.status.busy": "2021-11-16T08:29:19.169814Z",
     "iopub.status.idle": "2021-11-16T08:29:19.331643Z",
     "shell.execute_reply": "2021-11-16T08:29:19.331036Z"
    }
   },
   "outputs": [],
   "source": [
    "for member in member_details:\n",
    "    for key in [\"SponsoredBills\", \"CoSponsoredBills\"]:\n",
    "        try:\n",
    "            del member[key]\n",
    "        except KeyError:\n",
    "            pass"
   ]
  },
  {
   "cell_type": "code",
   "execution_count": 13,
   "metadata": {
    "execution": {
     "iopub.execute_input": "2021-11-16T08:29:19.336264Z",
     "iopub.status.busy": "2021-11-16T08:29:19.335601Z",
     "iopub.status.idle": "2021-11-16T08:29:19.522402Z",
     "shell.execute_reply": "2021-11-16T08:29:19.523213Z"
    }
   },
   "outputs": [
    {
     "name": "stdout",
     "output_type": "stream",
     "text": [
      "-rw-r--r-- 1 runner docker 218K Nov 16 08:29 ma_legislative_members.json\r\n"
     ]
    }
   ],
   "source": [
    "with open(\"ma_legislative_members.json\", \"w\") as f:\n",
    "    json.dump(member_details, f, indent=2)\n",
    "!ls -lh ma_legislative_members.json"
   ]
  },
  {
   "cell_type": "code",
   "execution_count": null,
   "metadata": {},
   "outputs": [],
   "source": []
  }
 ],
 "metadata": {
  "kernelspec": {
   "display_name": "Python 3 (ipykernel)",
   "language": "python",
   "name": "python3"
  },
  "language_info": {
   "codemirror_mode": {
    "name": "ipython",
    "version": 3
   },
   "file_extension": ".py",
   "mimetype": "text/x-python",
   "name": "python",
   "nbconvert_exporter": "python",
   "pygments_lexer": "ipython3",
   "version": "3.8.10"
  },
  "metadata": {
   "interpreter": {
    "hash": "b0fa6594d8f4cbf19f97940f81e996739fb7646882a419484c72d19e05852a7e"
   }
  },
  "widgets": {
   "application/vnd.jupyter.widget-state+json": {
    "state": {
     "1237d084d26847289a5434c80eddfbfa": {
      "model_module": "@jupyter-widgets/controls",
      "model_module_version": "1.5.0",
      "model_name": "FloatProgressModel",
      "state": {
       "_dom_classes": [],
       "_model_module": "@jupyter-widgets/controls",
       "_model_module_version": "1.5.0",
       "_model_name": "FloatProgressModel",
       "_view_count": null,
       "_view_module": "@jupyter-widgets/controls",
       "_view_module_version": "1.5.0",
       "_view_name": "ProgressView",
       "bar_style": "success",
       "description": "",
       "description_tooltip": null,
       "layout": "IPY_MODEL_58ce258309b349ec8604d6bec0d68b7a",
       "max": 200.0,
       "min": 0.0,
       "orientation": "horizontal",
       "style": "IPY_MODEL_6babf30d2d4e4899a1c713c0dcdbae04",
       "value": 200.0
      }
     },
     "34f9215c4f2d41d5a6189985068fc1f3": {
      "model_module": "@jupyter-widgets/base",
      "model_module_version": "1.2.0",
      "model_name": "LayoutModel",
      "state": {
       "_model_module": "@jupyter-widgets/base",
       "_model_module_version": "1.2.0",
       "_model_name": "LayoutModel",
       "_view_count": null,
       "_view_module": "@jupyter-widgets/base",
       "_view_module_version": "1.2.0",
       "_view_name": "LayoutView",
       "align_content": null,
       "align_items": null,
       "align_self": null,
       "border": null,
       "bottom": null,
       "display": null,
       "flex": null,
       "flex_flow": null,
       "grid_area": null,
       "grid_auto_columns": null,
       "grid_auto_flow": null,
       "grid_auto_rows": null,
       "grid_column": null,
       "grid_gap": null,
       "grid_row": null,
       "grid_template_areas": null,
       "grid_template_columns": null,
       "grid_template_rows": null,
       "height": null,
       "justify_content": null,
       "justify_items": null,
       "left": null,
       "margin": null,
       "max_height": null,
       "max_width": null,
       "min_height": null,
       "min_width": null,
       "object_fit": null,
       "object_position": null,
       "order": null,
       "overflow": null,
       "overflow_x": null,
       "overflow_y": null,
       "padding": null,
       "right": null,
       "top": null,
       "visibility": null,
       "width": null
      }
     },
     "52360851613744d093d8602eb67be0ee": {
      "model_module": "@jupyter-widgets/base",
      "model_module_version": "1.2.0",
      "model_name": "LayoutModel",
      "state": {
       "_model_module": "@jupyter-widgets/base",
       "_model_module_version": "1.2.0",
       "_model_name": "LayoutModel",
       "_view_count": null,
       "_view_module": "@jupyter-widgets/base",
       "_view_module_version": "1.2.0",
       "_view_name": "LayoutView",
       "align_content": null,
       "align_items": null,
       "align_self": null,
       "border": null,
       "bottom": null,
       "display": null,
       "flex": null,
       "flex_flow": null,
       "grid_area": null,
       "grid_auto_columns": null,
       "grid_auto_flow": null,
       "grid_auto_rows": null,
       "grid_column": null,
       "grid_gap": null,
       "grid_row": null,
       "grid_template_areas": null,
       "grid_template_columns": null,
       "grid_template_rows": null,
       "height": null,
       "justify_content": null,
       "justify_items": null,
       "left": null,
       "margin": null,
       "max_height": null,
       "max_width": null,
       "min_height": null,
       "min_width": null,
       "object_fit": null,
       "object_position": null,
       "order": null,
       "overflow": null,
       "overflow_x": null,
       "overflow_y": null,
       "padding": null,
       "right": null,
       "top": null,
       "visibility": null,
       "width": null
      }
     },
     "58802e9052e24178ab79fdde86cafdbe": {
      "model_module": "@jupyter-widgets/controls",
      "model_module_version": "1.5.0",
      "model_name": "DescriptionStyleModel",
      "state": {
       "_model_module": "@jupyter-widgets/controls",
       "_model_module_version": "1.5.0",
       "_model_name": "DescriptionStyleModel",
       "_view_count": null,
       "_view_module": "@jupyter-widgets/base",
       "_view_module_version": "1.2.0",
       "_view_name": "StyleView",
       "description_width": ""
      }
     },
     "58ce258309b349ec8604d6bec0d68b7a": {
      "model_module": "@jupyter-widgets/base",
      "model_module_version": "1.2.0",
      "model_name": "LayoutModel",
      "state": {
       "_model_module": "@jupyter-widgets/base",
       "_model_module_version": "1.2.0",
       "_model_name": "LayoutModel",
       "_view_count": null,
       "_view_module": "@jupyter-widgets/base",
       "_view_module_version": "1.2.0",
       "_view_name": "LayoutView",
       "align_content": null,
       "align_items": null,
       "align_self": null,
       "border": null,
       "bottom": null,
       "display": null,
       "flex": null,
       "flex_flow": null,
       "grid_area": null,
       "grid_auto_columns": null,
       "grid_auto_flow": null,
       "grid_auto_rows": null,
       "grid_column": null,
       "grid_gap": null,
       "grid_row": null,
       "grid_template_areas": null,
       "grid_template_columns": null,
       "grid_template_rows": null,
       "height": null,
       "justify_content": null,
       "justify_items": null,
       "left": null,
       "margin": null,
       "max_height": null,
       "max_width": null,
       "min_height": null,
       "min_width": null,
       "object_fit": null,
       "object_position": null,
       "order": null,
       "overflow": null,
       "overflow_x": null,
       "overflow_y": null,
       "padding": null,
       "right": null,
       "top": null,
       "visibility": null,
       "width": null
      }
     },
     "6757d263e08f47aaa52571557bd073ae": {
      "model_module": "@jupyter-widgets/base",
      "model_module_version": "1.2.0",
      "model_name": "LayoutModel",
      "state": {
       "_model_module": "@jupyter-widgets/base",
       "_model_module_version": "1.2.0",
       "_model_name": "LayoutModel",
       "_view_count": null,
       "_view_module": "@jupyter-widgets/base",
       "_view_module_version": "1.2.0",
       "_view_name": "LayoutView",
       "align_content": null,
       "align_items": null,
       "align_self": null,
       "border": null,
       "bottom": null,
       "display": null,
       "flex": null,
       "flex_flow": null,
       "grid_area": null,
       "grid_auto_columns": null,
       "grid_auto_flow": null,
       "grid_auto_rows": null,
       "grid_column": null,
       "grid_gap": null,
       "grid_row": null,
       "grid_template_areas": null,
       "grid_template_columns": null,
       "grid_template_rows": null,
       "height": null,
       "justify_content": null,
       "justify_items": null,
       "left": null,
       "margin": null,
       "max_height": null,
       "max_width": null,
       "min_height": null,
       "min_width": null,
       "object_fit": null,
       "object_position": null,
       "order": null,
       "overflow": null,
       "overflow_x": null,
       "overflow_y": null,
       "padding": null,
       "right": null,
       "top": null,
       "visibility": null,
       "width": null
      }
     },
     "6babf30d2d4e4899a1c713c0dcdbae04": {
      "model_module": "@jupyter-widgets/controls",
      "model_module_version": "1.5.0",
      "model_name": "ProgressStyleModel",
      "state": {
       "_model_module": "@jupyter-widgets/controls",
       "_model_module_version": "1.5.0",
       "_model_name": "ProgressStyleModel",
       "_view_count": null,
       "_view_module": "@jupyter-widgets/base",
       "_view_module_version": "1.2.0",
       "_view_name": "StyleView",
       "bar_color": null,
       "description_width": ""
      }
     },
     "72ef82f556e5422b9aefa026d499f6a9": {
      "model_module": "@jupyter-widgets/controls",
      "model_module_version": "1.5.0",
      "model_name": "HBoxModel",
      "state": {
       "_dom_classes": [],
       "_model_module": "@jupyter-widgets/controls",
       "_model_module_version": "1.5.0",
       "_model_name": "HBoxModel",
       "_view_count": null,
       "_view_module": "@jupyter-widgets/controls",
       "_view_module_version": "1.5.0",
       "_view_name": "HBoxView",
       "box_style": "",
       "children": [
        "IPY_MODEL_7fc7e38761be4ea6a3d6752999b667bd",
        "IPY_MODEL_1237d084d26847289a5434c80eddfbfa",
        "IPY_MODEL_c7cd9badc9c44811847fd620ddd61516"
       ],
       "layout": "IPY_MODEL_34f9215c4f2d41d5a6189985068fc1f3"
      }
     },
     "7fc7e38761be4ea6a3d6752999b667bd": {
      "model_module": "@jupyter-widgets/controls",
      "model_module_version": "1.5.0",
      "model_name": "HTMLModel",
      "state": {
       "_dom_classes": [],
       "_model_module": "@jupyter-widgets/controls",
       "_model_module_version": "1.5.0",
       "_model_name": "HTMLModel",
       "_view_count": null,
       "_view_module": "@jupyter-widgets/controls",
       "_view_module_version": "1.5.0",
       "_view_name": "HTMLView",
       "description": "",
       "description_tooltip": null,
       "layout": "IPY_MODEL_6757d263e08f47aaa52571557bd073ae",
       "placeholder": "​",
       "style": "IPY_MODEL_58802e9052e24178ab79fdde86cafdbe",
       "value": "100%"
      }
     },
     "c7cd9badc9c44811847fd620ddd61516": {
      "model_module": "@jupyter-widgets/controls",
      "model_module_version": "1.5.0",
      "model_name": "HTMLModel",
      "state": {
       "_dom_classes": [],
       "_model_module": "@jupyter-widgets/controls",
       "_model_module_version": "1.5.0",
       "_model_name": "HTMLModel",
       "_view_count": null,
       "_view_module": "@jupyter-widgets/controls",
       "_view_module_version": "1.5.0",
       "_view_name": "HTMLView",
       "description": "",
       "description_tooltip": null,
       "layout": "IPY_MODEL_52360851613744d093d8602eb67be0ee",
       "placeholder": "​",
       "style": "IPY_MODEL_f652caae6db74b83a1470cf6785844b4",
       "value": " 200/200 [11:09&lt;00:00,  2.48s/it]"
      }
     },
     "f652caae6db74b83a1470cf6785844b4": {
      "model_module": "@jupyter-widgets/controls",
      "model_module_version": "1.5.0",
      "model_name": "DescriptionStyleModel",
      "state": {
       "_model_module": "@jupyter-widgets/controls",
       "_model_module_version": "1.5.0",
       "_model_name": "DescriptionStyleModel",
       "_view_count": null,
       "_view_module": "@jupyter-widgets/base",
       "_view_module_version": "1.2.0",
       "_view_name": "StyleView",
       "description_width": ""
      }
     }
    },
    "version_major": 2,
    "version_minor": 0
   }
  }
 },
 "nbformat": 4,
 "nbformat_minor": 4
}
