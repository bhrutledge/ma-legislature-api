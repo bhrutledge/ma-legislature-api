{
 "cells": [
  {
   "cell_type": "markdown",
   "metadata": {},
   "source": [
    "https://malegislature.gov/api/swagger/index.html?url=/api/swagger/v1/swagger.json#/Documents"
   ]
  },
  {
   "cell_type": "code",
   "execution_count": 1,
   "metadata": {},
   "outputs": [],
   "source": [
    "import requests\n",
    "from tqdm.notebook import tqdm"
   ]
  },
  {
   "cell_type": "code",
   "execution_count": 2,
   "metadata": {},
   "outputs": [],
   "source": [
    "def get_json(url, verbose=True):\n",
    "    response = requests.get(url)\n",
    "    response.raise_for_status()\n",
    "    return response.json()"
   ]
  },
  {
   "cell_type": "code",
   "execution_count": 3,
   "metadata": {},
   "outputs": [
    {
     "name": "stdout",
     "output_type": "stream",
     "text": [
      "CPU times: user 111 ms, sys: 28.7 ms, total: 139 ms\n",
      "Wall time: 8.65 s\n"
     ]
    },
    {
     "data": {
      "text/plain": [
       "7075"
      ]
     },
     "execution_count": 3,
     "metadata": {},
     "output_type": "execute_result"
    }
   ],
   "source": [
    "%%time\n",
    "documents = get_json(\"https://malegislature.gov/api/Documents\")\n",
    "len(documents)"
   ]
  },
  {
   "cell_type": "code",
   "execution_count": 4,
   "metadata": {},
   "outputs": [
    {
     "data": {
      "text/plain": [
       "dict_keys(['BillNumber', 'DocketNumber', 'Title', 'PrimarySponsor', 'GeneralCourtNumber', 'Details', 'IsDocketBookOnly'])"
      ]
     },
     "execution_count": 4,
     "metadata": {},
     "output_type": "execute_result"
    }
   ],
   "source": [
    "documents[0].keys()"
   ]
  },
  {
   "cell_type": "code",
   "execution_count": 5,
   "metadata": {},
   "outputs": [
    {
     "data": {
      "text/plain": [
       "{'BillNumber': None,\n",
       " 'DocketNumber': 'HD164',\n",
       " 'Title': 'An Act relative to cost of living adjustments for retired public employees of the Commonwealth',\n",
       " 'PrimarySponsor': {'Id': 'J_A1',\n",
       "  'Name': 'James Arciero',\n",
       "  'Type': 1,\n",
       "  'Details': 'http://malegislature.gov/api/GeneralCourts/192/LegislativeMembers/J_A1'},\n",
       " 'GeneralCourtNumber': 192,\n",
       " 'Details': None,\n",
       " 'IsDocketBookOnly': True}"
      ]
     },
     "execution_count": 5,
     "metadata": {},
     "output_type": "execute_result"
    }
   ],
   "source": [
    "documents[0]"
   ]
  },
  {
   "cell_type": "code",
   "execution_count": 6,
   "metadata": {},
   "outputs": [
    {
     "data": {
      "text/plain": [
       "115"
      ]
     },
     "execution_count": 6,
     "metadata": {},
     "output_type": "execute_result"
    }
   ],
   "source": [
    "missing_details = [d for d in documents if not d['Details']]\n",
    "len(missing_details)"
   ]
  },
  {
   "cell_type": "code",
   "execution_count": 7,
   "metadata": {},
   "outputs": [
    {
     "data": {
      "text/plain": [
       "139"
      ]
     },
     "execution_count": 7,
     "metadata": {},
     "output_type": "execute_result"
    }
   ],
   "source": [
    "docket_book_only = [d for d in documents if d['IsDocketBookOnly']]\n",
    "len(docket_book_only)"
   ]
  },
  {
   "cell_type": "code",
   "execution_count": 8,
   "metadata": {},
   "outputs": [
    {
     "data": {
      "text/plain": [
       "6432"
      ]
     },
     "execution_count": 8,
     "metadata": {},
     "output_type": "execute_result"
    }
   ],
   "source": [
    "bills = [d for d in documents if d['BillNumber'] and d['Details']]\n",
    "len(bills)"
   ]
  },
  {
   "cell_type": "code",
   "execution_count": 9,
   "metadata": {},
   "outputs": [
    {
     "data": {
      "application/vnd.jupyter.widget-view+json": {
       "model_id": "adb3819813d44a48ab632212b06c1591",
       "version_major": 2,
       "version_minor": 0
      },
      "text/plain": [
       "  0%|          | 0/6432 [00:00<?, ?it/s]"
      ]
     },
     "metadata": {},
     "output_type": "display_data"
    },
    {
     "name": "stdout",
     "output_type": "stream",
     "text": [
      "CPU times: user 3min 47s, sys: 24.3 s, total: 4min 12s\n",
      "Wall time: 1h 6min 20s\n"
     ]
    },
    {
     "data": {
      "text/plain": [
       "6432"
      ]
     },
     "execution_count": 9,
     "metadata": {},
     "output_type": "execute_result"
    }
   ],
   "source": [
    "%%time\n",
    "def get_document_details(documents):\n",
    "    for document in tqdm(documents):\n",
    "        try:\n",
    "            yield get_json(document['Details'])\n",
    "        except Exception as exc:\n",
    "            document_number = ()\n",
    "            print(f\"{document['BillNumber']}/{document['DocketNumber']}: {exc}\")\n",
    "            continue\n",
    "\n",
    "bill_details = list(get_document_details(bills))\n",
    "len(bill_details)"
   ]
  },
  {
   "cell_type": "code",
   "execution_count": 10,
   "metadata": {},
   "outputs": [],
   "source": [
    "import json"
   ]
  },
  {
   "cell_type": "code",
   "execution_count": 11,
   "metadata": {},
   "outputs": [
    {
     "name": "stdout",
     "output_type": "stream",
     "text": [
      "-rw-r--r--  1 bhrutledge  staff    40M Jul 10 07:01 ma_bills.json\n"
     ]
    }
   ],
   "source": [
    "with open(\"ma_bills.json\", \"w\") as f:\n",
    "    json.dump(bill_details, f, indent=2)\n",
    "!ls -lh ma_bills.json"
   ]
  },
  {
   "cell_type": "code",
   "execution_count": 12,
   "metadata": {},
   "outputs": [
    {
     "data": {
      "text/plain": [
       "dict_keys(['Title', 'BillNumber', 'DocketNumber', 'GeneralCourtNumber', 'PrimarySponsor', 'Cosponsors', 'BillHistory', 'LegislationTypeName', 'Pinslip', 'DocumentText', 'EmergencyPreamble', 'RollCalls', 'Attachments', 'CommitteeRecommendations', 'Amendments'])"
      ]
     },
     "execution_count": 12,
     "metadata": {},
     "output_type": "execute_result"
    }
   ],
   "source": [
    "bill_details[0].keys()"
   ]
  },
  {
   "cell_type": "code",
   "execution_count": 13,
   "metadata": {},
   "outputs": [
    {
     "data": {
      "text/plain": [
       "17"
      ]
     },
     "execution_count": 13,
     "metadata": {},
     "output_type": "execute_result"
    }
   ],
   "source": [
    "roll_call_bills = [b for b in bill_details if b['RollCalls']]\n",
    "len(roll_call_bills)"
   ]
  },
  {
   "cell_type": "code",
   "execution_count": 14,
   "metadata": {},
   "outputs": [
    {
     "data": {
      "text/plain": [
       "274"
      ]
     },
     "execution_count": 14,
     "metadata": {},
     "output_type": "execute_result"
    }
   ],
   "source": [
    "committee_bills = [b for b in bill_details if b['CommitteeRecommendations']]\n",
    "len(committee_bills)"
   ]
  },
  {
   "cell_type": "code",
   "execution_count": 15,
   "metadata": {},
   "outputs": [
    {
     "data": {
      "text/plain": [
       "12"
      ]
     },
     "execution_count": 15,
     "metadata": {},
     "output_type": "execute_result"
    }
   ],
   "source": [
    "complete_bills = [b for b in bill_details if b['RollCalls'] and b['CommitteeRecommendations']]\n",
    "len(complete_bills)"
   ]
  },
  {
   "cell_type": "code",
   "execution_count": 16,
   "metadata": {},
   "outputs": [
    {
     "data": {
      "text/plain": [
       "{'Title': 'An Act creating a next-generation roadmap for Massachusetts climate policy',\n",
       " 'BillNumber': 'S9',\n",
       " 'DocketNumber': 'SD169',\n",
       " 'GeneralCourtNumber': 192,\n",
       " 'BillHistory': 'http://malegislature.gov/api/GeneralCourts/192/Documents/S9/DocumentHistoryActions',\n",
       " 'RollCalls': [{'GeneralCourtNumber': 192,\n",
       "   'Branch': 'House',\n",
       "   'RollCallNumber': 2,\n",
       "   'Details': 'http://malegislature.gov/api/GeneralCourts/192/Branches/House/RollCalls/2'},\n",
       "  {'GeneralCourtNumber': 192,\n",
       "   'Branch': 'House',\n",
       "   'RollCallNumber': 3,\n",
       "   'Details': 'http://malegislature.gov/api/GeneralCourts/192/Branches/House/RollCalls/3'},\n",
       "  {'GeneralCourtNumber': 192,\n",
       "   'Branch': 'Senate',\n",
       "   'RollCallNumber': 19,\n",
       "   'Details': 'http://malegislature.gov/api/GeneralCourts/192/Branches/Senate/RollCalls/19'}],\n",
       " 'Attachments': [],\n",
       " 'Amendments': [{'AmendmentNumber': None,\n",
       "   'ParentBillNumber': 'S9',\n",
       "   'Branch': 'Senate',\n",
       "   'GeneralCourtNumber': 192,\n",
       "   'Details': '/'},\n",
       "  {'AmendmentNumber': '1',\n",
       "   'ParentBillNumber': 'S9',\n",
       "   'Branch': 'Senate',\n",
       "   'GeneralCourtNumber': 192,\n",
       "   'Details': 'http://malegislature.gov/api/GeneralCourts/192/Documents/S9/Branches/Senate/Amendments/1/'}]}"
      ]
     },
     "execution_count": 16,
     "metadata": {},
     "output_type": "execute_result"
    }
   ],
   "source": [
    "bill_keys = {\n",
    "    'Title',\n",
    "    'BillNumber',\n",
    "    'DocketNumber',\n",
    "    'GeneralCourtNumber',\n",
    "#     'PrimarySponsor',\n",
    "#     'Cosponsors',\n",
    "    'BillHistory',\n",
    "#     'LegislationTypeName',\n",
    "#     'Pinslip',\n",
    "#     'DocumentText',\n",
    "#     'EmergencyPreamble',\n",
    "    'RollCalls',\n",
    "    'Attachments',\n",
    "#     'CommitteeRecommendations',\n",
    "    'Amendments'\n",
    "}\n",
    "\n",
    "bill = complete_bills[-1]\n",
    "{k: v for k, v in bill.items() if k in bill_keys}"
   ]
  },
  {
   "cell_type": "code",
   "execution_count": 17,
   "metadata": {},
   "outputs": [
    {
     "data": {
      "text/plain": [
       "[{'Action': 'Favorable',\n",
       "  'FiscalAmounts': [],\n",
       "  'Committee': {'CommitteeCode': 'TS30',\n",
       "   'GeneralCourtNumber': 192,\n",
       "   'Details': 'http://malegislature.gov/api/GeneralCourts/192/Committees/TS30'},\n",
       "  'Votes': [{'Question': 'Ought to pass',\n",
       "    'Bill': {'BillNumber': 'S9',\n",
       "     'DocketNumber': 'SD169',\n",
       "     'Title': 'An Act creating a next-generation roadmap for Massachusetts climate policy',\n",
       "     'PrimarySponsor': {'Id': 'MJB0',\n",
       "      'Name': 'Michael J. Barrett',\n",
       "      'Type': 1,\n",
       "      'Details': 'http://malegislature.gov/api/GeneralCourts/192/LegislativeMembers/MJB0'},\n",
       "     'GeneralCourtNumber': 192,\n",
       "     'Details': 'http://malegislature.gov/api/GeneralCourts/192/Documents/S9',\n",
       "     'IsDocketBookOnly': False},\n",
       "    'Committee': {'CommitteeCode': 'TS30',\n",
       "     'GeneralCourtNumber': 192,\n",
       "     'Details': 'http://malegislature.gov/api/GeneralCourts/192/Committees/TS30'},\n",
       "    'Date': '2021-01-26T17:05:00',\n",
       "    'Vote': [{'Favorable': [{'GeneralCourtNumber': 192,\n",
       "        'MemberCode': 'MJR0',\n",
       "        'Details': 'http://malegislature.gov/api/GeneralCourts/192/LegislativeMembers/MJR0'},\n",
       "       {'GeneralCourtNumber': 192,\n",
       "        'MemberCode': 'CFF0',\n",
       "        'Details': 'http://malegislature.gov/api/GeneralCourts/192/LegislativeMembers/CFF0'},\n",
       "       {'GeneralCourtNumber': 192,\n",
       "        'MemberCode': 'jml0',\n",
       "        'Details': 'http://malegislature.gov/api/GeneralCourts/192/LegislativeMembers/jml0'},\n",
       "       {'GeneralCourtNumber': 192,\n",
       "        'MemberCode': 'MJB0',\n",
       "        'Details': 'http://malegislature.gov/api/GeneralCourts/192/LegislativeMembers/MJB0'},\n",
       "       {'GeneralCourtNumber': 192,\n",
       "        'MemberCode': 'JAB0',\n",
       "        'Details': 'http://malegislature.gov/api/GeneralCourts/192/LegislativeMembers/JAB0'},\n",
       "       {'GeneralCourtNumber': 192,\n",
       "        'MemberCode': 'MDB0',\n",
       "        'Details': 'http://malegislature.gov/api/GeneralCourts/192/LegislativeMembers/MDB0'},\n",
       "       {'GeneralCourtNumber': 192,\n",
       "        'MemberCode': 'N_C0',\n",
       "        'Details': 'http://malegislature.gov/api/GeneralCourts/192/LegislativeMembers/N_C0'},\n",
       "       {'GeneralCourtNumber': 192,\n",
       "        'MemberCode': 'BRF0',\n",
       "        'Details': 'http://malegislature.gov/api/GeneralCourts/192/LegislativeMembers/BRF0'},\n",
       "       {'GeneralCourtNumber': 192,\n",
       "        'MemberCode': 'AMG0',\n",
       "        'Details': 'http://malegislature.gov/api/GeneralCourts/192/LegislativeMembers/AMG0'},\n",
       "       {'GeneralCourtNumber': 192,\n",
       "        'MemberCode': 'AGH0',\n",
       "        'Details': 'http://malegislature.gov/api/GeneralCourts/192/LegislativeMembers/AGH0'},\n",
       "       {'GeneralCourtNumber': 192,\n",
       "        'MemberCode': 'PDJ0',\n",
       "        'Details': 'http://malegislature.gov/api/GeneralCourts/192/LegislativeMembers/PDJ0'},\n",
       "       {'GeneralCourtNumber': 192,\n",
       "        'MemberCode': 'EPL0',\n",
       "        'Details': 'http://malegislature.gov/api/GeneralCourts/192/LegislativeMembers/EPL0'},\n",
       "       {'GeneralCourtNumber': 192,\n",
       "        'MemberCode': 'JBL0',\n",
       "        'Details': 'http://malegislature.gov/api/GeneralCourts/192/LegislativeMembers/JBL0'},\n",
       "       {'GeneralCourtNumber': 192,\n",
       "        'MemberCode': 'MOM0',\n",
       "        'Details': 'http://malegislature.gov/api/GeneralCourts/192/LegislativeMembers/MOM0'},\n",
       "       {'GeneralCourtNumber': 192,\n",
       "        'MemberCode': 'MFR0',\n",
       "        'Details': 'http://malegislature.gov/api/GeneralCourts/192/LegislativeMembers/MFR0'},\n",
       "       {'GeneralCourtNumber': 192,\n",
       "        'MemberCode': 'PMO',\n",
       "        'Details': 'http://malegislature.gov/api/GeneralCourts/192/LegislativeMembers/PMO'}],\n",
       "      'Adverse': [],\n",
       "      'ReserveRight': [{'GeneralCourtNumber': 192,\n",
       "        'MemberCode': 'BET0',\n",
       "        'Details': 'http://malegislature.gov/api/GeneralCourts/192/LegislativeMembers/BET0'},\n",
       "       {'GeneralCourtNumber': 192,\n",
       "        'MemberCode': 'RCF0',\n",
       "        'Details': 'http://malegislature.gov/api/GeneralCourts/192/LegislativeMembers/RCF0'}],\n",
       "      'NoVoteRecorded': []}]}]},\n",
       " {'Action': \"Governor's Message Reported in the Following Form\",\n",
       "  'FiscalAmounts': [],\n",
       "  'Committee': {'CommitteeCode': 'S31',\n",
       "   'GeneralCourtNumber': 192,\n",
       "   'Details': 'http://malegislature.gov/api/GeneralCourts/192/Committees/S31'},\n",
       "  'Votes': []}]"
      ]
     },
     "execution_count": 17,
     "metadata": {},
     "output_type": "execute_result"
    }
   ],
   "source": [
    "bill['CommitteeRecommendations']"
   ]
  },
  {
   "cell_type": "code",
   "execution_count": null,
   "metadata": {},
   "outputs": [],
   "source": []
  }
 ],
 "metadata": {
  "kernelspec": {
   "display_name": "Python 3 (ipykernel)",
   "language": "python",
   "name": "python3"
  },
  "language_info": {
   "codemirror_mode": {
    "name": "ipython",
    "version": 3
   },
   "file_extension": ".py",
   "mimetype": "text/x-python",
   "name": "python",
   "nbconvert_exporter": "python",
   "pygments_lexer": "ipython3",
   "version": "3.9.5"
  },
  "metadata": {
   "interpreter": {
    "hash": "b0fa6594d8f4cbf19f97940f81e996739fb7646882a419484c72d19e05852a7e"
   }
  }
 },
 "nbformat": 4,
 "nbformat_minor": 4
}
