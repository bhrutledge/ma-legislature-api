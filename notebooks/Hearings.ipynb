{
 "cells": [
  {
   "cell_type": "markdown",
   "metadata": {},
   "source": [
    "https://malegislature.gov/api/swagger/index.html?url=/api/swagger/v1/swagger.json#/Hearings"
   ]
  },
  {
   "cell_type": "code",
   "execution_count": 3,
   "metadata": {},
   "outputs": [],
   "source": [
    "import requests\n",
    "from tqdm.notebook import tqdm"
   ]
  },
  {
   "cell_type": "code",
   "execution_count": 4,
   "metadata": {},
   "outputs": [],
   "source": [
    "def get_json(url, verbose=True):\n",
    "    response = requests.get(url)\n",
    "    response.raise_for_status()\n",
    "    return response.json()"
   ]
  },
  {
   "cell_type": "code",
   "execution_count": 5,
   "metadata": {},
   "outputs": [
    {
     "name": "stdout",
     "output_type": "stream",
     "text": [
      "CPU times: user 39.9 ms, sys: 10 ms, total: 50 ms\n",
      "Wall time: 576 ms\n"
     ]
    },
    {
     "data": {
      "text/plain": [
       "2418"
      ]
     },
     "execution_count": 5,
     "metadata": {},
     "output_type": "execute_result"
    }
   ],
   "source": [
    "%%time\n",
    "hearings = get_json(\"https://malegislature.gov/api/Hearings\")\n",
    "len(hearings)"
   ]
  },
  {
   "cell_type": "code",
   "execution_count": 6,
   "metadata": {},
   "outputs": [
    {
     "data": {
      "text/plain": [
       "dict_keys(['EventId', 'Details'])"
      ]
     },
     "execution_count": 6,
     "metadata": {},
     "output_type": "execute_result"
    }
   ],
   "source": [
    "hearings[0].keys()"
   ]
  },
  {
   "cell_type": "code",
   "execution_count": 8,
   "metadata": {},
   "outputs": [
    {
     "data": {
      "application/vnd.jupyter.widget-view+json": {
       "model_id": "3bafd022edd84f88af992065ba15d2c2",
       "version_major": 2,
       "version_minor": 0
      },
      "text/plain": [
       "  0%|          | 0/2418 [00:00<?, ?it/s]"
      ]
     },
     "metadata": {},
     "output_type": "display_data"
    },
    {
     "name": "stdout",
     "output_type": "stream",
     "text": [
      "3742: 500 Server Error: Internal Server Error for url: https://malegislature.gov/api/Hearings/3742\n",
      "3729: 500 Server Error: Internal Server Error for url: https://malegislature.gov/api/Hearings/3729\n",
      "3726: 500 Server Error: Internal Server Error for url: https://malegislature.gov/api/Hearings/3726\n",
      "3727: 500 Server Error: Internal Server Error for url: https://malegislature.gov/api/Hearings/3727\n",
      "3717: 500 Server Error: Internal Server Error for url: https://malegislature.gov/api/Hearings/3717\n",
      "3686: 500 Server Error: Internal Server Error for url: https://malegislature.gov/api/Hearings/3686\n",
      "3715: 500 Server Error: Internal Server Error for url: https://malegislature.gov/api/Hearings/3715\n",
      "3711: 500 Server Error: Internal Server Error for url: https://malegislature.gov/api/Hearings/3711\n",
      "3683: 500 Server Error: Internal Server Error for url: https://malegislature.gov/api/Hearings/3683\n",
      "3684: 500 Server Error: Internal Server Error for url: https://malegislature.gov/api/Hearings/3684\n",
      "3687: 500 Server Error: Internal Server Error for url: https://malegislature.gov/api/Hearings/3687\n",
      "3706: 500 Server Error: Internal Server Error for url: https://malegislature.gov/api/Hearings/3706\n",
      "3690: 500 Server Error: Internal Server Error for url: https://malegislature.gov/api/Hearings/3690\n",
      "3672: 500 Server Error: Internal Server Error for url: https://malegislature.gov/api/Hearings/3672\n",
      "3678: 500 Server Error: Internal Server Error for url: https://malegislature.gov/api/Hearings/3678\n",
      "3676: 500 Server Error: Internal Server Error for url: https://malegislature.gov/api/Hearings/3676\n",
      "3669: 500 Server Error: Internal Server Error for url: https://malegislature.gov/api/Hearings/3669\n",
      "3654: 500 Server Error: Internal Server Error for url: https://malegislature.gov/api/Hearings/3654\n",
      "3662: 500 Server Error: Internal Server Error for url: https://malegislature.gov/api/Hearings/3662\n",
      "3661: 500 Server Error: Internal Server Error for url: https://malegislature.gov/api/Hearings/3661\n",
      "3653: 500 Server Error: Internal Server Error for url: https://malegislature.gov/api/Hearings/3653\n",
      "3655: 500 Server Error: Internal Server Error for url: https://malegislature.gov/api/Hearings/3655\n",
      "3650: 500 Server Error: Internal Server Error for url: https://malegislature.gov/api/Hearings/3650\n",
      "3645: 500 Server Error: Internal Server Error for url: https://malegislature.gov/api/Hearings/3645\n",
      "3644: 500 Server Error: Internal Server Error for url: https://malegislature.gov/api/Hearings/3644\n",
      "3638: 500 Server Error: Internal Server Error for url: https://malegislature.gov/api/Hearings/3638\n",
      "3636: 500 Server Error: Internal Server Error for url: https://malegislature.gov/api/Hearings/3636\n",
      "3635: 500 Server Error: Internal Server Error for url: https://malegislature.gov/api/Hearings/3635\n",
      "3632: 500 Server Error: Internal Server Error for url: https://malegislature.gov/api/Hearings/3632\n",
      "3633: 500 Server Error: Internal Server Error for url: https://malegislature.gov/api/Hearings/3633\n",
      "3631: 500 Server Error: Internal Server Error for url: https://malegislature.gov/api/Hearings/3631\n",
      "3634: 500 Server Error: Internal Server Error for url: https://malegislature.gov/api/Hearings/3634\n",
      "3630: 500 Server Error: Internal Server Error for url: https://malegislature.gov/api/Hearings/3630\n",
      "3628: 500 Server Error: Internal Server Error for url: https://malegislature.gov/api/Hearings/3628\n",
      "3629: 500 Server Error: Internal Server Error for url: https://malegislature.gov/api/Hearings/3629\n",
      "3626: 500 Server Error: Internal Server Error for url: https://malegislature.gov/api/Hearings/3626\n",
      "3627: 500 Server Error: Internal Server Error for url: https://malegislature.gov/api/Hearings/3627\n",
      "3624: 500 Server Error: Internal Server Error for url: https://malegislature.gov/api/Hearings/3624\n",
      "3625: 500 Server Error: Internal Server Error for url: https://malegislature.gov/api/Hearings/3625\n",
      "3617: 500 Server Error: Internal Server Error for url: https://malegislature.gov/api/Hearings/3617\n",
      "3618: 500 Server Error: Internal Server Error for url: https://malegislature.gov/api/Hearings/3618\n",
      "3613: 500 Server Error: Internal Server Error for url: https://malegislature.gov/api/Hearings/3613\n",
      "3609: 500 Server Error: Internal Server Error for url: https://malegislature.gov/api/Hearings/3609\n",
      "3597: 500 Server Error: Internal Server Error for url: https://malegislature.gov/api/Hearings/3597\n",
      "3607: 500 Server Error: Internal Server Error for url: https://malegislature.gov/api/Hearings/3607\n",
      "3602: 500 Server Error: Internal Server Error for url: https://malegislature.gov/api/Hearings/3602\n",
      "3600: 500 Server Error: Internal Server Error for url: https://malegislature.gov/api/Hearings/3600\n",
      "3601: 500 Server Error: Internal Server Error for url: https://malegislature.gov/api/Hearings/3601\n",
      "3604: 500 Server Error: Internal Server Error for url: https://malegislature.gov/api/Hearings/3604\n",
      "3595: 500 Server Error: Internal Server Error for url: https://malegislature.gov/api/Hearings/3595\n",
      "3592: 500 Server Error: Internal Server Error for url: https://malegislature.gov/api/Hearings/3592\n",
      "3583: 500 Server Error: Internal Server Error for url: https://malegislature.gov/api/Hearings/3583\n",
      "3582: 500 Server Error: Internal Server Error for url: https://malegislature.gov/api/Hearings/3582\n",
      "3581: 500 Server Error: Internal Server Error for url: https://malegislature.gov/api/Hearings/3581\n",
      "3574: 500 Server Error: Internal Server Error for url: https://malegislature.gov/api/Hearings/3574\n",
      "3571: 500 Server Error: Internal Server Error for url: https://malegislature.gov/api/Hearings/3571\n",
      "3562: 500 Server Error: Internal Server Error for url: https://malegislature.gov/api/Hearings/3562\n",
      "3572: 500 Server Error: Internal Server Error for url: https://malegislature.gov/api/Hearings/3572\n",
      "3563: 500 Server Error: Internal Server Error for url: https://malegislature.gov/api/Hearings/3563\n",
      "3569: 500 Server Error: Internal Server Error for url: https://malegislature.gov/api/Hearings/3569\n",
      "3567: 500 Server Error: Internal Server Error for url: https://malegislature.gov/api/Hearings/3567\n",
      "3561: 500 Server Error: Internal Server Error for url: https://malegislature.gov/api/Hearings/3561\n",
      "3566: 500 Server Error: Internal Server Error for url: https://malegislature.gov/api/Hearings/3566\n",
      "3564: 500 Server Error: Internal Server Error for url: https://malegislature.gov/api/Hearings/3564\n",
      "3560: 500 Server Error: Internal Server Error for url: https://malegislature.gov/api/Hearings/3560\n",
      "3559: 500 Server Error: Internal Server Error for url: https://malegislature.gov/api/Hearings/3559\n",
      "3557: 500 Server Error: Internal Server Error for url: https://malegislature.gov/api/Hearings/3557\n",
      "3553: 500 Server Error: Internal Server Error for url: https://malegislature.gov/api/Hearings/3553\n",
      "3552: 500 Server Error: Internal Server Error for url: https://malegislature.gov/api/Hearings/3552\n",
      "3551: 500 Server Error: Internal Server Error for url: https://malegislature.gov/api/Hearings/3551\n",
      "3570: 500 Server Error: Internal Server Error for url: https://malegislature.gov/api/Hearings/3570\n",
      "3550: 500 Server Error: Internal Server Error for url: https://malegislature.gov/api/Hearings/3550\n",
      "3537: 500 Server Error: Internal Server Error for url: https://malegislature.gov/api/Hearings/3537\n",
      "3529: 500 Server Error: Internal Server Error for url: https://malegislature.gov/api/Hearings/3529\n",
      "3526: 500 Server Error: Internal Server Error for url: https://malegislature.gov/api/Hearings/3526\n",
      "3508: 500 Server Error: Internal Server Error for url: https://malegislature.gov/api/Hearings/3508\n",
      "3507: 500 Server Error: Internal Server Error for url: https://malegislature.gov/api/Hearings/3507\n",
      "3464: 500 Server Error: Internal Server Error for url: https://malegislature.gov/api/Hearings/3464\n",
      "3459: 500 Server Error: Internal Server Error for url: https://malegislature.gov/api/Hearings/3459\n",
      "3457: 500 Server Error: Internal Server Error for url: https://malegislature.gov/api/Hearings/3457\n",
      "3455: 500 Server Error: Internal Server Error for url: https://malegislature.gov/api/Hearings/3455\n",
      "3452: 500 Server Error: Internal Server Error for url: https://malegislature.gov/api/Hearings/3452\n",
      "3439: 500 Server Error: Internal Server Error for url: https://malegislature.gov/api/Hearings/3439\n",
      "3431: 500 Server Error: Internal Server Error for url: https://malegislature.gov/api/Hearings/3431\n",
      "3427: 500 Server Error: Internal Server Error for url: https://malegislature.gov/api/Hearings/3427\n",
      "3423: 500 Server Error: Internal Server Error for url: https://malegislature.gov/api/Hearings/3423\n",
      "3422: 500 Server Error: Internal Server Error for url: https://malegislature.gov/api/Hearings/3422\n",
      "3408: 500 Server Error: Internal Server Error for url: https://malegislature.gov/api/Hearings/3408\n",
      "3392: 500 Server Error: Internal Server Error for url: https://malegislature.gov/api/Hearings/3392\n",
      "3391: 500 Server Error: Internal Server Error for url: https://malegislature.gov/api/Hearings/3391\n",
      "3387: 500 Server Error: Internal Server Error for url: https://malegislature.gov/api/Hearings/3387\n",
      "3384: 500 Server Error: Internal Server Error for url: https://malegislature.gov/api/Hearings/3384\n",
      "3378: 500 Server Error: Internal Server Error for url: https://malegislature.gov/api/Hearings/3378\n",
      "3365: 500 Server Error: Internal Server Error for url: https://malegislature.gov/api/Hearings/3365\n",
      "3368: 500 Server Error: Internal Server Error for url: https://malegislature.gov/api/Hearings/3368\n",
      "3360: 500 Server Error: Internal Server Error for url: https://malegislature.gov/api/Hearings/3360\n",
      "3356: 500 Server Error: Internal Server Error for url: https://malegislature.gov/api/Hearings/3356\n",
      "3343: 500 Server Error: Internal Server Error for url: https://malegislature.gov/api/Hearings/3343\n",
      "3329: 500 Server Error: Internal Server Error for url: https://malegislature.gov/api/Hearings/3329\n",
      "3291: 500 Server Error: Internal Server Error for url: https://malegislature.gov/api/Hearings/3291\n",
      "3249: 500 Server Error: Internal Server Error for url: https://malegislature.gov/api/Hearings/3249\n",
      "3267: 500 Server Error: Internal Server Error for url: https://malegislature.gov/api/Hearings/3267\n",
      "3265: 500 Server Error: Internal Server Error for url: https://malegislature.gov/api/Hearings/3265\n",
      "3240: 500 Server Error: Internal Server Error for url: https://malegislature.gov/api/Hearings/3240\n",
      "3177: 500 Server Error: Internal Server Error for url: https://malegislature.gov/api/Hearings/3177\n",
      "3175: 500 Server Error: Internal Server Error for url: https://malegislature.gov/api/Hearings/3175\n",
      "3164: 500 Server Error: Internal Server Error for url: https://malegislature.gov/api/Hearings/3164\n",
      "3142: 500 Server Error: Internal Server Error for url: https://malegislature.gov/api/Hearings/3142\n",
      "3137: 500 Server Error: Internal Server Error for url: https://malegislature.gov/api/Hearings/3137\n",
      "3133: 500 Server Error: Internal Server Error for url: https://malegislature.gov/api/Hearings/3133\n",
      "3114: 500 Server Error: Internal Server Error for url: https://malegislature.gov/api/Hearings/3114\n",
      "3116: 500 Server Error: Internal Server Error for url: https://malegislature.gov/api/Hearings/3116\n",
      "3093: 500 Server Error: Internal Server Error for url: https://malegislature.gov/api/Hearings/3093\n",
      "3084: 500 Server Error: Internal Server Error for url: https://malegislature.gov/api/Hearings/3084\n",
      "3081: 500 Server Error: Internal Server Error for url: https://malegislature.gov/api/Hearings/3081\n",
      "3065: 500 Server Error: Internal Server Error for url: https://malegislature.gov/api/Hearings/3065\n",
      "3063: 500 Server Error: Internal Server Error for url: https://malegislature.gov/api/Hearings/3063\n",
      "3064: 500 Server Error: Internal Server Error for url: https://malegislature.gov/api/Hearings/3064\n",
      "3062: 500 Server Error: Internal Server Error for url: https://malegislature.gov/api/Hearings/3062\n",
      "3057: 500 Server Error: Internal Server Error for url: https://malegislature.gov/api/Hearings/3057\n",
      "3056: 500 Server Error: Internal Server Error for url: https://malegislature.gov/api/Hearings/3056\n",
      "3055: 500 Server Error: Internal Server Error for url: https://malegislature.gov/api/Hearings/3055\n",
      "3029: 500 Server Error: Internal Server Error for url: https://malegislature.gov/api/Hearings/3029\n",
      "3028: 500 Server Error: Internal Server Error for url: https://malegislature.gov/api/Hearings/3028\n",
      "3027: 500 Server Error: Internal Server Error for url: https://malegislature.gov/api/Hearings/3027\n",
      "2978: 500 Server Error: Internal Server Error for url: https://malegislature.gov/api/Hearings/2978\n",
      "2969: 500 Server Error: Internal Server Error for url: https://malegislature.gov/api/Hearings/2969\n",
      "2956: 500 Server Error: Internal Server Error for url: https://malegislature.gov/api/Hearings/2956\n",
      "2953: 500 Server Error: Internal Server Error for url: https://malegislature.gov/api/Hearings/2953\n",
      "2934: 500 Server Error: Internal Server Error for url: https://malegislature.gov/api/Hearings/2934\n",
      "2907: 500 Server Error: Internal Server Error for url: https://malegislature.gov/api/Hearings/2907\n",
      "2895: 500 Server Error: Internal Server Error for url: https://malegislature.gov/api/Hearings/2895\n",
      "2894: 500 Server Error: Internal Server Error for url: https://malegislature.gov/api/Hearings/2894\n",
      "2896: 500 Server Error: Internal Server Error for url: https://malegislature.gov/api/Hearings/2896\n",
      "2893: 500 Server Error: Internal Server Error for url: https://malegislature.gov/api/Hearings/2893\n",
      "2885: 500 Server Error: Internal Server Error for url: https://malegislature.gov/api/Hearings/2885\n",
      "2891: 500 Server Error: Internal Server Error for url: https://malegislature.gov/api/Hearings/2891\n",
      "2867: 500 Server Error: Internal Server Error for url: https://malegislature.gov/api/Hearings/2867\n",
      "2868: 500 Server Error: Internal Server Error for url: https://malegislature.gov/api/Hearings/2868\n",
      "2838: 500 Server Error: Internal Server Error for url: https://malegislature.gov/api/Hearings/2838\n",
      "2837: 500 Server Error: Internal Server Error for url: https://malegislature.gov/api/Hearings/2837\n",
      "2819: 500 Server Error: Internal Server Error for url: https://malegislature.gov/api/Hearings/2819\n",
      "2814: 500 Server Error: Internal Server Error for url: https://malegislature.gov/api/Hearings/2814\n",
      "CPU times: user 1min 25s, sys: 8.86 s, total: 1min 34s\n",
      "Wall time: 11min 38s\n"
     ]
    },
    {
     "data": {
      "text/plain": [
       "2275"
      ]
     },
     "execution_count": 8,
     "metadata": {},
     "output_type": "execute_result"
    }
   ],
   "source": [
    "%%time\n",
    "def get_hearing_details(hearing):\n",
    "    for hearing in tqdm(hearing):\n",
    "        try:\n",
    "            yield get_json(hearing['Details'])\n",
    "        except Exception as exc:\n",
    "            print(f\"{hearing['EventId']}: {exc}\")\n",
    "            continue\n",
    "\n",
    "hearing_details = list(get_hearing_details(hearings))\n",
    "len(hearing_details)"
   ]
  },
  {
   "cell_type": "code",
   "execution_count": 9,
   "metadata": {},
   "outputs": [],
   "source": [
    "import json"
   ]
  },
  {
   "cell_type": "code",
   "execution_count": 10,
   "metadata": {},
   "outputs": [
    {
     "name": "stdout",
     "output_type": "stream",
     "text": [
      "-rw-r--r--  1 bhrutledge  staff    17M May 22 12:03 ma_hearings.json\n"
     ]
    }
   ],
   "source": [
    "with open(\"ma_hearings.json\", \"w\") as f:\n",
    "    json.dump(hearing_details, f, indent=2)\n",
    "!ls -lh ma_hearings.json"
   ]
  },
  {
   "cell_type": "code",
   "execution_count": 26,
   "metadata": {},
   "outputs": [
    {
     "data": {
      "text/plain": [
       "{'HearingHost': {'CommitteeCode': 'SJ41',\n",
       "  'GeneralCourtNumber': 192,\n",
       "  'Details': 'http://malegislature.gov/api/GeneralCourts/192/Committees/SJ41'},\n",
       " 'HearingAgendas': [{'Topic': 'Receive Redistricting testimony from residents of the 3rd Congressional District.',\n",
       "   'StartTime': '2021-07-08T18:00:00',\n",
       "   'EndTime': '2021-07-08T23:55:00',\n",
       "   'DocumentsInAgenda': []}],\n",
       " 'RescheduledHearing': None,\n",
       " 'Location': {'LocationName': 'Virtual Hearing',\n",
       "  'AddressLine1': '24 Beacon Street',\n",
       "  'AddressLine2': None,\n",
       "  'City': 'Boston',\n",
       "  'State': 'MA',\n",
       "  'ZipCode': '02133'},\n",
       " 'EventId': 3744,\n",
       " 'Name': 'Special Joint Committee on Redistricting ',\n",
       " 'Status': 'Confirmed',\n",
       " 'EventDate': '2021-07-08T18:00:00',\n",
       " 'StartTime': '2021-07-08T18:00:00',\n",
       " 'Description': 'The Special Joint Committee on Redistricting will hold a virtual hearing for residents of the 3rd Congressional District (CD3). This hearing provides an opportunity for area residents to offer their opinions on local and community interests that the Committee should consider on the division of the Commonwealth into 9 Congressional Districts, 40 Senatorial Districts, 160 Representative Districts, and 8 Councillor Districts. '}"
      ]
     },
     "execution_count": 26,
     "metadata": {},
     "output_type": "execute_result"
    }
   ],
   "source": [
    "hearing_details[0]"
   ]
  },
  {
   "cell_type": "code",
   "execution_count": 27,
   "metadata": {},
   "outputs": [
    {
     "data": {
      "text/plain": [
       "58"
      ]
     },
     "execution_count": 27,
     "metadata": {},
     "output_type": "execute_result"
    }
   ],
   "source": [
    "current_hearings = [h for h in hearing_details if h['HearingHost']['GeneralCourtNumber'] == 192]\n",
    "len(current_hearings)"
   ]
  },
  {
   "cell_type": "code",
   "execution_count": 28,
   "metadata": {},
   "outputs": [
    {
     "data": {
      "text/plain": [
       "27"
      ]
     },
     "execution_count": 28,
     "metadata": {},
     "output_type": "execute_result"
    }
   ],
   "source": [
    "document_hearings = [\n",
    "    h for h in current_hearings\n",
    "    if any(a['DocumentsInAgenda'] for a in h['HearingAgendas'])\n",
    "]\n",
    "len(document_hearings)"
   ]
  },
  {
   "cell_type": "code",
   "execution_count": 33,
   "metadata": {},
   "outputs": [
    {
     "name": "stdout",
     "output_type": "stream",
     "text": [
      "0: Joint Committee on Public Health\n",
      "1: Joint Committee on Cannabis Policy\n",
      "2: Joint Committee on Consumer Protection and Professional Licensure\n",
      "3: Joint Committee on Education\n",
      "4: Joint Committee on Election Laws\n",
      "5: Joint Committee on the Judiciary\n",
      "6: Joint Committee on Public Service\n",
      "7: Joint Committee on Environment, Natural Resources and Agriculture\n",
      "8: Joint Committee on Labor and Workforce Development\n",
      "9: Joint Committee on Higher Education\n",
      "10: Joint Committee on Municipalities and Regional Government\n",
      "11: Joint Committee on Cannabis Policy\n",
      "12: Joint Committee on Labor and Workforce Development\n",
      "13: Joint Committee on Public Health\n",
      "14: Joint Committee on Environment, Natural Resources and Agriculture\n",
      "15: Joint Committee on Public Health\n",
      "16: Joint Committee on Municipalities and Regional Government\n",
      "17: Joint Committee on Health Care Financing\n",
      "18: Joint Committee on Revenue\n",
      "19: Joint Committee on the Judiciary\n",
      "20: Joint Committee on Public Service\n",
      "21: Joint Committee on Labor and Workforce Development\n",
      "22: Joint Committee on the Judiciary\n",
      "23: Joint Committee on Bonding, Capital Expenditures and State Assets\n",
      "24: Joint Committee on State Administration and Regulatory Oversight\n",
      "25: Joint Committee on Transportation\n",
      "26: Senate Committee on Ways and Means\n"
     ]
    }
   ],
   "source": [
    "for i, hearing in enumerate(document_hearings):\n",
    "    print(f\"{i}: {hearing['Name']}\")"
   ]
  },
  {
   "cell_type": "code",
   "execution_count": 36,
   "metadata": {},
   "outputs": [
    {
     "data": {
      "text/plain": [
       "{'HearingHost': {'CommitteeCode': 'J15',\n",
       "  'GeneralCourtNumber': 192,\n",
       "  'Details': 'http://malegislature.gov/api/GeneralCourts/192/Committees/J15'},\n",
       " 'HearingAgendas': [{'Topic': 'Elections, Voter Access',\n",
       "   'StartTime': '2021-05-19T13:00:00',\n",
       "   'EndTime': '2021-05-19T17:00:00',\n",
       "   'DocumentsInAgenda': [{'BillNumber': 'H759',\n",
       "     'DocketNumber': 'HD193',\n",
       "     'Title': 'An Act relative to absentee ballots',\n",
       "     'PrimarySponsor': {'Id': 'BMA1',\n",
       "      'Name': 'Brian M. Ashe',\n",
       "      'Type': 1,\n",
       "      'Details': None},\n",
       "     'GeneralCourtNumber': 192,\n",
       "     'Details': 'http://malegislature.gov/api/GeneralCourts/192/Documents/H759',\n",
       "     'IsDocketBookOnly': False},\n",
       "    {'BillNumber': 'H760',\n",
       "     'DocketNumber': 'HD1068',\n",
       "     'Title': 'An Act assuring that polling places are accessible to elderly and physically challenged voters',\n",
       "     'PrimarySponsor': {'Id': 'BJA1',\n",
       "      'Name': 'Bruce J. Ayers',\n",
       "      'Type': 1,\n",
       "      'Details': None},\n",
       "     'GeneralCourtNumber': 192,\n",
       "     'Details': 'http://malegislature.gov/api/GeneralCourts/192/Documents/H760',\n",
       "     'IsDocketBookOnly': False},\n",
       "    {'BillNumber': 'H763',\n",
       "     'DocketNumber': 'HD1869',\n",
       "     'Title': 'An Act to expand access to voter registration',\n",
       "     'PrimarySponsor': {'Id': 'AFC1',\n",
       "      'Name': 'Antonio F. D. Cabral',\n",
       "      'Type': 1,\n",
       "      'Details': None},\n",
       "     'GeneralCourtNumber': 192,\n",
       "     'Details': 'http://malegislature.gov/api/GeneralCourts/192/Documents/H763',\n",
       "     'IsDocketBookOnly': False},\n",
       "    {'BillNumber': 'H766',\n",
       "     'DocketNumber': 'HD1724',\n",
       "     'Title': 'An Act relative to postage paid absentee ballots',\n",
       "     'PrimarySponsor': {'Id': 'DRC1',\n",
       "      'Name': 'Daniel R. Carey',\n",
       "      'Type': 1,\n",
       "      'Details': None},\n",
       "     'GeneralCourtNumber': 192,\n",
       "     'Details': 'http://malegislature.gov/api/GeneralCourts/192/Documents/H766',\n",
       "     'IsDocketBookOnly': False},\n",
       "    {'BillNumber': 'H786',\n",
       "     'DocketNumber': 'HD574',\n",
       "     'Title': 'An Act to decrease waiting times at polling places',\n",
       "     'PrimarySponsor': {'Id': 'S_D1',\n",
       "      'Name': 'Shawn Dooley',\n",
       "      'Type': 1,\n",
       "      'Details': None},\n",
       "     'GeneralCourtNumber': 192,\n",
       "     'Details': 'http://malegislature.gov/api/GeneralCourts/192/Documents/H786',\n",
       "     'IsDocketBookOnly': False},\n",
       "    {'BillNumber': 'H793',\n",
       "     'DocketNumber': 'HD2030',\n",
       "     'Title': 'An Act relative to early voting',\n",
       "     'PrimarySponsor': {'Id': 'SWG1',\n",
       "      'Name': 'Susan Williams Gifford',\n",
       "      'Type': 1,\n",
       "      'Details': None},\n",
       "     'GeneralCourtNumber': 192,\n",
       "     'Details': 'http://malegislature.gov/api/GeneralCourts/192/Documents/H793',\n",
       "     'IsDocketBookOnly': False},\n",
       "    {'BillNumber': 'H796',\n",
       "     'DocketNumber': 'HD3088',\n",
       "     'Title': 'An Act relative to election ballots',\n",
       "     'PrimarySponsor': {'Id': 'RMH1',\n",
       "      'Name': 'Richard M. Haggerty',\n",
       "      'Type': 1,\n",
       "      'Details': None},\n",
       "     'GeneralCourtNumber': 192,\n",
       "     'Details': 'http://malegislature.gov/api/GeneralCourts/192/Documents/H796',\n",
       "     'IsDocketBookOnly': False},\n",
       "    {'BillNumber': 'H804',\n",
       "     'DocketNumber': 'HD3205',\n",
       "     'Title': 'An Act to provide accessible absentee voting to commonwealth voters with disabilities',\n",
       "     'PrimarySponsor': {'Id': 'K_K1',\n",
       "      'Name': 'Kay Khan',\n",
       "      'Type': 1,\n",
       "      'Details': None},\n",
       "     'GeneralCourtNumber': 192,\n",
       "     'Details': 'http://malegislature.gov/api/GeneralCourts/192/Documents/H804',\n",
       "     'IsDocketBookOnly': False},\n",
       "    {'BillNumber': 'H805',\n",
       "     'DocketNumber': 'HD1536',\n",
       "     'Title': 'An Act fostering voting opportunities, trust, equity, and security',\n",
       "     'PrimarySponsor': {'Id': 'JJL2',\n",
       "      'Name': 'John J. Lawn, Jr.',\n",
       "      'Type': 1,\n",
       "      'Details': None},\n",
       "     'GeneralCourtNumber': 192,\n",
       "     'Details': 'http://malegislature.gov/api/GeneralCourts/192/Documents/H805',\n",
       "     'IsDocketBookOnly': False},\n",
       "    {'BillNumber': 'H813',\n",
       "     'DocketNumber': 'HD3845',\n",
       "     'Title': 'An Act relative to same day voter registration',\n",
       "     'PrimarySponsor': {'Id': 'EAM1',\n",
       "      'Name': 'Elizabeth A. Malia',\n",
       "      'Type': 1,\n",
       "      'Details': None},\n",
       "     'GeneralCourtNumber': 192,\n",
       "     'Details': 'http://malegislature.gov/api/GeneralCourts/192/Documents/H813',\n",
       "     'IsDocketBookOnly': False},\n",
       "    {'BillNumber': 'H834',\n",
       "     'DocketNumber': 'HD3240',\n",
       "     'Title': 'An Act relative to expanding voting options',\n",
       "     'PrimarySponsor': {'Id': 'TMS1',\n",
       "      'Name': 'Thomas M. Stanley',\n",
       "      'Type': 1,\n",
       "      'Details': None},\n",
       "     'GeneralCourtNumber': 192,\n",
       "     'Details': 'http://malegislature.gov/api/GeneralCourts/192/Documents/H834',\n",
       "     'IsDocketBookOnly': False},\n",
       "    {'BillNumber': 'H838',\n",
       "     'DocketNumber': 'HD449',\n",
       "     'Title': 'An Act relative to early voting cost reimbursements ',\n",
       "     'PrimarySponsor': {'Id': 'S_G2',\n",
       "      'Name': 'Steven Ultrino',\n",
       "      'Type': 1,\n",
       "      'Details': None},\n",
       "     'GeneralCourtNumber': 192,\n",
       "     'Details': 'http://malegislature.gov/api/GeneralCourts/192/Documents/H838',\n",
       "     'IsDocketBookOnly': False},\n",
       "    {'BillNumber': 'H842',\n",
       "     'DocketNumber': 'HD3215',\n",
       "     'Title': 'An Act relative to the feasibility of mobile voting for active-duty service members, voters with disabilities and municipalities',\n",
       "     'PrimarySponsor': {'Id': 'AXV1',\n",
       "      'Name': 'Andres X. Vargas',\n",
       "      'Type': 1,\n",
       "      'Details': None},\n",
       "     'GeneralCourtNumber': 192,\n",
       "     'Details': 'http://malegislature.gov/api/GeneralCourts/192/Documents/H842',\n",
       "     'IsDocketBookOnly': False},\n",
       "    {'BillNumber': 'S435',\n",
       "     'DocketNumber': 'SD803',\n",
       "     'Title': 'An Act allowing election day registration',\n",
       "     'PrimarySponsor': {'Id': 'JAB0',\n",
       "      'Name': 'Joseph A. Boncore',\n",
       "      'Type': 1,\n",
       "      'Details': None},\n",
       "     'GeneralCourtNumber': 192,\n",
       "     'Details': 'http://malegislature.gov/api/GeneralCourts/192/Documents/S435',\n",
       "     'IsDocketBookOnly': False},\n",
       "    {'BillNumber': 'S436',\n",
       "     'DocketNumber': 'SD1270',\n",
       "     'Title': 'An Act An act concerning ballots',\n",
       "     'PrimarySponsor': {'Id': 'JAB0',\n",
       "      'Name': 'Joseph A. Boncore',\n",
       "      'Type': 1,\n",
       "      'Details': None},\n",
       "     'GeneralCourtNumber': 192,\n",
       "     'Details': 'http://malegislature.gov/api/GeneralCourts/192/Documents/S436',\n",
       "     'IsDocketBookOnly': False},\n",
       "    {'BillNumber': 'S437',\n",
       "     'DocketNumber': 'SD2339',\n",
       "     'Title': 'An Act recognizing veteran status on ballots',\n",
       "     'PrimarySponsor': {'Id': 'JAB0',\n",
       "      'Name': 'Joseph A. Boncore',\n",
       "      'Type': 1,\n",
       "      'Details': None},\n",
       "     'GeneralCourtNumber': 192,\n",
       "     'Details': 'http://malegislature.gov/api/GeneralCourts/192/Documents/S437',\n",
       "     'IsDocketBookOnly': False},\n",
       "    {'BillNumber': 'S457',\n",
       "     'DocketNumber': 'SD189',\n",
       "     'Title': 'An Act extending early voting options in local elections',\n",
       "     'PrimarySponsor': {'Id': 'CSC0',\n",
       "      'Name': 'Cynthia Stone Creem',\n",
       "      'Type': 1,\n",
       "      'Details': None},\n",
       "     'GeneralCourtNumber': 192,\n",
       "     'Details': 'http://malegislature.gov/api/GeneralCourts/192/Documents/S457',\n",
       "     'IsDocketBookOnly': False},\n",
       "    {'BillNumber': 'S459',\n",
       "     'DocketNumber': 'SD1002',\n",
       "     'Title': 'An Act fostering voter opportunities, trust, equity and security',\n",
       "     'PrimarySponsor': {'Id': 'CSC0',\n",
       "      'Name': 'Cynthia Stone Creem',\n",
       "      'Type': 1,\n",
       "      'Details': None},\n",
       "     'GeneralCourtNumber': 192,\n",
       "     'Details': 'http://malegislature.gov/api/GeneralCourts/192/Documents/S459',\n",
       "     'IsDocketBookOnly': False},\n",
       "    {'BillNumber': 'S468',\n",
       "     'DocketNumber': 'SD1096',\n",
       "     'Title': 'An Act relative to expanding voting options in Massachusetts ',\n",
       "     'PrimarySponsor': {'Id': 'BRF0',\n",
       "      'Name': 'Barry R. Finegold',\n",
       "      'Type': 1,\n",
       "      'Details': None},\n",
       "     'GeneralCourtNumber': 192,\n",
       "     'Details': 'http://malegislature.gov/api/GeneralCourts/192/Documents/S468',\n",
       "     'IsDocketBookOnly': False},\n",
       "    {'BillNumber': 'S469',\n",
       "     'DocketNumber': 'SD1956',\n",
       "     'Title': 'An Act relative to the feasibility of mobile voting for active-duty service members, voters with disabilities and municipalities',\n",
       "     'PrimarySponsor': {'Id': 'BRF0',\n",
       "      'Name': 'Barry R. Finegold',\n",
       "      'Type': 1,\n",
       "      'Details': None},\n",
       "     'GeneralCourtNumber': 192,\n",
       "     'Details': 'http://malegislature.gov/api/GeneralCourts/192/Documents/S469',\n",
       "     'IsDocketBookOnly': False},\n",
       "    {'BillNumber': 'S476',\n",
       "     'DocketNumber': 'SD209',\n",
       "     'Title': 'An Act relative to town committee elections and membership',\n",
       "     'PrimarySponsor': {'Id': 'JFK0',\n",
       "      'Name': 'John F. Keenan',\n",
       "      'Type': 1,\n",
       "      'Details': None},\n",
       "     'GeneralCourtNumber': 192,\n",
       "     'Details': 'http://malegislature.gov/api/GeneralCourts/192/Documents/S476',\n",
       "     'IsDocketBookOnly': False},\n",
       "    {'BillNumber': 'S477',\n",
       "     'DocketNumber': 'SD548',\n",
       "     'Title': 'An Act to expand voter access by making mail-in voting permanent',\n",
       "     'PrimarySponsor': {'Id': 'jml0',\n",
       "      'Name': 'Jason M. Lewis',\n",
       "      'Type': 1,\n",
       "      'Details': None},\n",
       "     'GeneralCourtNumber': 192,\n",
       "     'Details': 'http://malegislature.gov/api/GeneralCourts/192/Documents/S477',\n",
       "     'IsDocketBookOnly': False},\n",
       "    {'BillNumber': 'S481',\n",
       "     'DocketNumber': 'SD1754',\n",
       "     'Title': 'An Act relative to early voting and absent voting',\n",
       "     'PrimarySponsor': {'Id': 'JBL0',\n",
       "      'Name': 'Joan B. Lovely',\n",
       "      'Type': 1,\n",
       "      'Details': None},\n",
       "     'GeneralCourtNumber': 192,\n",
       "     'Details': 'http://malegislature.gov/api/GeneralCourts/192/Documents/S481',\n",
       "     'IsDocketBookOnly': False},\n",
       "    {'BillNumber': 'S484',\n",
       "     'DocketNumber': 'SD39',\n",
       "     'Title': 'An Act modernizing access and improving laws in voting',\n",
       "     'PrimarySponsor': {'Id': 'RLR0',\n",
       "      'Name': 'Rebecca L. Rausch',\n",
       "      'Type': 1,\n",
       "      'Details': None},\n",
       "     'GeneralCourtNumber': 192,\n",
       "     'Details': 'http://malegislature.gov/api/GeneralCourts/192/Documents/S484',\n",
       "     'IsDocketBookOnly': False},\n",
       "    {'BillNumber': 'S489',\n",
       "     'DocketNumber': 'SD1378',\n",
       "     'Title': 'An Act relative to early voting cost reimbursements',\n",
       "     'PrimarySponsor': {'Id': 'RLR0',\n",
       "      'Name': 'Rebecca L. Rausch',\n",
       "      'Type': 1,\n",
       "      'Details': None},\n",
       "     'GeneralCourtNumber': 192,\n",
       "     'Details': 'http://malegislature.gov/api/GeneralCourts/192/Documents/S489',\n",
       "     'IsDocketBookOnly': False},\n",
       "    {'BillNumber': 'S491',\n",
       "     'DocketNumber': 'SD2092',\n",
       "     'Title': 'An Act relative to ballot modernization',\n",
       "     'PrimarySponsor': {'Id': 'BET0',\n",
       "      'Name': 'Bruce E. Tarr',\n",
       "      'Type': 1,\n",
       "      'Details': None},\n",
       "     'GeneralCourtNumber': 192,\n",
       "     'Details': 'http://malegislature.gov/api/GeneralCourts/192/Documents/S491',\n",
       "     'IsDocketBookOnly': False},\n",
       "    {'BillNumber': 'S492',\n",
       "     'DocketNumber': 'SD2225',\n",
       "     'Title': 'An Act to fairly fund early voting',\n",
       "     'PrimarySponsor': {'Id': 'BET0',\n",
       "      'Name': 'Bruce E. Tarr',\n",
       "      'Type': 1,\n",
       "      'Details': None},\n",
       "     'GeneralCourtNumber': 192,\n",
       "     'Details': 'http://malegislature.gov/api/GeneralCourts/192/Documents/S492',\n",
       "     'IsDocketBookOnly': False}]}],\n",
       " 'RescheduledHearing': None,\n",
       " 'Location': {'LocationName': 'Virtual Hearing',\n",
       "  'AddressLine1': '24 Beacon Street',\n",
       "  'AddressLine2': None,\n",
       "  'City': 'Boston',\n",
       "  'State': 'MA',\n",
       "  'ZipCode': '02133'},\n",
       " 'EventId': 3725,\n",
       " 'Name': 'Joint Committee on Election Laws',\n",
       " 'Status': 'Completed',\n",
       " 'EventDate': '2021-05-19T13:00:00',\n",
       " 'StartTime': '2021-05-19T13:00:00',\n",
       " 'Description': \"The Joint Committee on Election Laws will conduct a virtual public hearing on Wednesday, May 19, 2021 from 1:00 p.m. to 5:00 p.m. \\n\\nIndividuals who wish to testify may sign up by completing this form: \\nhttps://forms.office.com/Pages/ResponsePage.aspx?id=a36UCyb_E0uuHFc8Z1DIiAP2B8dS6j5Co_63wDa5uM9UQ0lSRkoxM0JXQlUxMUFaMUhDRUQyOVJaRy4u \\n\\n\\nFor individuals who have signed up to testify, the committee will provide a link to join the public hearing. Individuals planning to testify must sign up no later than 5:00 p.m. on Monday, May 17, 2021. \\n\\nOral testimony will be limited to 3 minutes, but longer statements will be accepted by written testimony until Friday, May 21st at 5:00pm. Please submit all written testimony to michaela.gaziano@masenate.gov and sean.getchell@mahouse.gov. \\n\\nThose who do not plan to testify but want to watch the public hearing may view the live stream under the Hearings & Events section of the Massachusetts legislature's website, here: www.malegislature.gov .  \\n\\nIf you have any questions, you may email Michaela.Gaziano@masenate.gov  and Sean.Getchell@mahouse.gov \\n\"}"
      ]
     },
     "execution_count": 36,
     "metadata": {},
     "output_type": "execute_result"
    }
   ],
   "source": [
    "document_hearings[4]"
   ]
  },
  {
   "cell_type": "code",
   "execution_count": null,
   "metadata": {},
   "outputs": [],
   "source": []
  }
 ],
 "metadata": {
  "kernelspec": {
   "display_name": "Python 3.9.5 64-bit",
   "language": "python",
   "name": "python395jvsc74a57bd0b0fa6594d8f4cbf19f97940f81e996739fb7646882a419484c72d19e05852a7e"
  },
  "language_info": {
   "codemirror_mode": {
    "name": "ipython",
    "version": 3
   },
   "file_extension": ".py",
   "mimetype": "text/x-python",
   "name": "python",
   "nbconvert_exporter": "python",
   "pygments_lexer": "ipython3",
   "version": "3.9.5"
  },
  "metadata": {
   "interpreter": {
    "hash": "b0fa6594d8f4cbf19f97940f81e996739fb7646882a419484c72d19e05852a7e"
   }
  }
 },
 "nbformat": 4,
 "nbformat_minor": 4
}
