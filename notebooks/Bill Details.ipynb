{
 "cells": [
  {
   "cell_type": "markdown",
   "id": "judicial-royal",
   "metadata": {
    "tags": []
   },
   "source": [
    "Display a bunch of info about a bill in one place\n",
    "\n",
    "- Cosponsors (map)\n",
    "- Committee members (map)\n",
    "- Current status\n",
    "- Scheduled hearings\n",
    "\n",
    "Later: Combine info for House & Senate versions?"
   ]
  },
  {
   "cell_type": "code",
   "execution_count": 1,
   "id": "promotional-monday",
   "metadata": {
    "tags": [
     "parameters"
    ]
   },
   "outputs": [],
   "source": [
    "bill_number = \"S459\"\n",
    "bill_session = 192"
   ]
  },
  {
   "cell_type": "code",
   "execution_count": 2,
   "id": "a24b0504-e278-44cd-a3ac-928e5b823db1",
   "metadata": {},
   "outputs": [],
   "source": [
    "import requests\n",
    "import json\n",
    "from datetime import datetime, timezone\n",
    "from IPython import display\n",
    "from tqdm.notebook import tqdm"
   ]
  },
  {
   "cell_type": "code",
   "execution_count": 3,
   "id": "f46ca2df-df3b-4747-96db-0f553aa04545",
   "metadata": {},
   "outputs": [],
   "source": [
    "def get_json(url, verbose=True):\n",
    "    response = requests.get(url)\n",
    "    response.raise_for_status()\n",
    "    return response.json()"
   ]
  },
  {
   "cell_type": "markdown",
   "id": "optical-float",
   "metadata": {},
   "source": [
    "## Get the bill details\n",
    "\n",
    "<https://malegislature.gov/api/swagger/index.html?url=/api/swagger/v1/swagger.json#/Documents>"
   ]
  },
  {
   "cell_type": "code",
   "execution_count": 4,
   "id": "27ac136e-4999-47bc-8050-0965ce0682a1",
   "metadata": {},
   "outputs": [],
   "source": [
    "document = get_json(f\"https://malegislature.gov/api/GeneralCourts/{bill_session}/Documents/{bill_number}\")"
   ]
  },
  {
   "cell_type": "code",
   "execution_count": 5,
   "id": "automated-memorabilia",
   "metadata": {},
   "outputs": [
    {
     "data": {
      "application/json": {
       "Amendments": [],
       "Attachments": [],
       "BillHistory": "http://malegislature.gov/api/GeneralCourts/192/Documents/S459/DocumentHistoryActions",
       "BillNumber": "S459",
       "CommitteeRecommendations": [],
       "Cosponsors": [
        {
         "Details": "http://malegislature.gov/api/GeneralCourts/192/LegislativeMembers/CSC0",
         "Id": "CSC0",
         "Name": "Cynthia Stone Creem",
         "Type": 1
        },
        {
         "Details": "http://malegislature.gov/api/GeneralCourts/192/LegislativeMembers/EPL0",
         "Id": "EPL0",
         "Name": "Eric P. Lesser",
         "Type": 1
        },
        {
         "Details": "http://malegislature.gov/api/GeneralCourts/192/LegislativeMembers/TMS1",
         "Id": "TMS1",
         "Name": "Thomas M. Stanley",
         "Type": 1
        },
        {
         "Details": "http://malegislature.gov/api/GeneralCourts/192/LegislativeMembers/JMC0",
         "Id": "JMC0",
         "Name": "Joanne M. Comerford",
         "Type": 1
        },
        {
         "Details": "http://malegislature.gov/api/GeneralCourts/192/LegislativeMembers/jml0",
         "Id": "jml0",
         "Name": "Jason M. Lewis",
         "Type": 1
        },
        {
         "Details": "http://malegislature.gov/api/GeneralCourts/192/LegislativeMembers/SND0",
         "Id": "SND0",
         "Name": "Sal N. DiDomenico",
         "Type": 1
        },
        {
         "Details": "http://malegislature.gov/api/GeneralCourts/192/LegislativeMembers/HLC0",
         "Id": "HLC0",
         "Name": "Harriette L. Chandler",
         "Type": 1
        },
        {
         "Details": "http://malegislature.gov/api/GeneralCourts/192/LegislativeMembers/CFF0",
         "Id": "CFF0",
         "Name": "Cindy F. Friedman",
         "Type": 1
        },
        {
         "Details": "http://malegislature.gov/api/GeneralCourts/192/LegislativeMembers/JPL1",
         "Id": "JPL1",
         "Name": "Jack Patrick Lewis",
         "Type": 1
        },
        {
         "Details": "http://malegislature.gov/api/GeneralCourts/192/LegislativeMembers/V_H1",
         "Id": "V_H1",
         "Name": "Vanna Howard",
         "Type": 1
        },
        {
         "Details": "http://malegislature.gov/api/GeneralCourts/192/LegislativeMembers/K_K1",
         "Id": "K_K1",
         "Name": "Kay Khan",
         "Type": 1
        },
        {
         "Details": "http://malegislature.gov/api/GeneralCourts/192/LegislativeMembers/CLG1",
         "Id": "CLG1",
         "Name": "Carmine Lawrence Gentile",
         "Type": 1
        },
        {
         "Details": "http://malegislature.gov/api/GeneralCourts/192/LegislativeMembers/JAB0",
         "Id": "JAB0",
         "Name": "Joseph A. Boncore",
         "Type": 1
        },
        {
         "Details": "http://malegislature.gov/api/GeneralCourts/192/LegislativeMembers/J_B1",
         "Id": "J_B1",
         "Name": "John Barrett, III",
         "Type": 1
        },
        {
         "Details": "http://malegislature.gov/api/GeneralCourts/192/LegislativeMembers/AJP1",
         "Id": "AJP1",
         "Name": "Angelo J. Puppolo, Jr.",
         "Type": 1
        },
        {
         "Details": "http://malegislature.gov/api/GeneralCourts/192/LegislativeMembers/JBE0",
         "Id": "JBE0",
         "Name": "James B. Eldridge",
         "Type": 1
        },
        {
         "Details": "http://malegislature.gov/api/GeneralCourts/192/LegislativeMembers/RLR0",
         "Id": "RLR0",
         "Name": "Rebecca L. Rausch",
         "Type": 1
        },
        {
         "Details": "http://malegislature.gov/api/GeneralCourts/192/LegislativeMembers/M_C2",
         "Id": "M_C2",
         "Name": "Michelle L. Ciccolo",
         "Type": 1
        },
        {
         "Details": "http://malegislature.gov/api/GeneralCourts/192/LegislativeMembers/EDJ0",
         "Id": "EDJ0",
         "Name": "Edward J. Kennedy",
         "Type": 1
        },
        {
         "Details": "http://malegislature.gov/api/GeneralCourts/192/LegislativeMembers/BPC0",
         "Id": "BPC0",
         "Name": "Brendan P. Crighton",
         "Type": 1
        },
        {
         "Details": "http://malegislature.gov/api/GeneralCourts/192/LegislativeMembers/CAM2",
         "Id": "CAM2",
         "Name": "Christina A. Minicucci",
         "Type": 1
        },
        {
         "Details": "http://malegislature.gov/api/GeneralCourts/192/LegislativeMembers/CAD1",
         "Id": "CAD1",
         "Name": "Carol A. Doherty",
         "Type": 1
        },
        {
         "Details": "http://malegislature.gov/api/GeneralCourts/192/LegislativeMembers/MJB0",
         "Id": "MJB0",
         "Name": "Michael J. Barrett",
         "Type": 1
        },
        {
         "Details": "http://malegislature.gov/api/GeneralCourts/192/LegislativeMembers/MDR1",
         "Id": "MDR1",
         "Name": "Maria Duaime Robinson",
         "Type": 1
        },
        {
         "Details": "http://malegislature.gov/api/GeneralCourts/192/LegislativeMembers/AGH0",
         "Id": "AGH0",
         "Name": "Adam G. Hinds",
         "Type": 1
        },
        {
         "Details": "http://malegislature.gov/api/GeneralCourts/192/LegislativeMembers/AJS1",
         "Id": "AJS1",
         "Name": "Adam J. Scanlon",
         "Type": 1
        },
        {
         "Details": "http://malegislature.gov/api/GeneralCourts/192/LegislativeMembers/DAL1",
         "Id": "DAL1",
         "Name": "David Henry Argosky LeBoeuf",
         "Type": 1
        },
        {
         "Details": "http://malegislature.gov/api/GeneralCourts/192/LegislativeMembers/E_U1",
         "Id": "E_U1",
         "Name": "Erika Uyterhoeven",
         "Type": 1
        },
        {
         "Details": "http://malegislature.gov/api/GeneralCourts/192/LegislativeMembers/PDJ0",
         "Id": "PDJ0",
         "Name": "Patricia D. Jehlen",
         "Type": 1
        },
        {
         "Details": "http://malegislature.gov/api/GeneralCourts/192/LegislativeMembers/MOM0",
         "Id": "MOM0",
         "Name": "Michael O. Moore",
         "Type": 1
        },
        {
         "Details": "http://malegislature.gov/api/GeneralCourts/192/LegislativeMembers/JJC0",
         "Id": "JJC0",
         "Name": "John J. Cronin",
         "Type": 1
        },
        {
         "Details": "http://malegislature.gov/api/GeneralCourts/192/LegislativeMembers/LAE1",
         "Id": "LAE1",
         "Name": "Lori A. Ehrlich",
         "Type": 1
        },
        {
         "Details": "http://malegislature.gov/api/GeneralCourts/192/LegislativeMembers/AMG0",
         "Id": "AMG0",
         "Name": "Anne M. Gobi",
         "Type": 1
        },
        {
         "Details": "http://malegislature.gov/api/GeneralCourts/192/LegislativeMembers/JAC0",
         "Id": "JAC0",
         "Name": "Julian Cyr",
         "Type": 1
        },
        {
         "Details": "http://malegislature.gov/api/GeneralCourts/192/LegislativeMembers/SCD0",
         "Id": "SCD0",
         "Name": "Sonia Chang-Diaz",
         "Type": 1
        },
        {
         "Details": "http://malegislature.gov/api/GeneralCourts/192/LegislativeMembers/A_G0",
         "Id": "A_G0",
         "Name": "Adam Gomez",
         "Type": 1
        },
        {
         "Details": "http://malegislature.gov/api/GeneralCourts/192/LegislativeMembers/SLM0",
         "Id": "SLM0",
         "Name": "Susan L. Moran",
         "Type": 1
        },
        {
         "Details": "http://malegislature.gov/api/GeneralCourts/192/LegislativeMembers/JBL0",
         "Id": "JBL0",
         "Name": "Joan B. Lovely",
         "Type": 1
        },
        {
         "Details": "http://malegislature.gov/api/GeneralCourts/192/LegislativeMembers/D_D0",
         "Id": "D_D0",
         "Name": "Diana DiZoglio",
         "Type": 1
        }
       ],
       "DocketNumber": "SD1002",
       "GeneralCourtNumber": 192,
       "LegislationTypeName": "Bill",
       "PrimarySponsor": {
        "Details": "http://malegislature.gov/api/GeneralCourts/192/LegislativeMembers/CSC0",
        "Id": "CSC0",
        "Name": "Cynthia Stone Creem",
        "Type": 1
       },
       "RollCalls": [],
       "Title": "An Act fostering voter opportunities, trust, equity and security",
       "Updated": "2021-07-17T17:07:25.075015+00:00"
      },
      "text/plain": [
       "<IPython.core.display.JSON object>"
      ]
     },
     "execution_count": 5,
     "metadata": {
      "application/json": {
       "expanded": false,
       "root": "root"
      }
     },
     "output_type": "execute_result"
    }
   ],
   "source": [
    "def transform_bill(bill):\n",
    "    transformed_bill = {\n",
    "        k: v for k, v in bill.items()\n",
    "        if k not in {\"Pinslip\", \"DocumentText\", \"EmergencyPreamble\"}\n",
    "    }\n",
    "    transformed_bill[\"Updated\"] = datetime.now(timezone.utc).isoformat()\n",
    "    return transformed_bill\n",
    "\n",
    "bill = transform_bill(document)\n",
    "display.JSON(bill)"
   ]
  },
  {
   "cell_type": "markdown",
   "id": "graphic-commons",
   "metadata": {},
   "source": [
    "## Get the committee(s) and members\n",
    "\n",
    "<https://malegislature.gov/api/swagger/index.html?url=/api/swagger/v1/swagger.json#/Committees>  \n",
    "via [Committeees notebook](Committees.ipynb)"
   ]
  },
  {
   "cell_type": "code",
   "execution_count": 6,
   "id": "whole-society",
   "metadata": {},
   "outputs": [
    {
     "name": "stdout",
     "output_type": "stream",
     "text": [
      "55\n"
     ]
    }
   ],
   "source": [
    "with open(\"ma_committees.json\") as f:\n",
    "    committees = json.load(f)\n",
    "    \n",
    "print(len(committees))"
   ]
  },
  {
   "cell_type": "markdown",
   "id": "controversial-leader",
   "metadata": {},
   "source": [
    "Members aren't included in the committee data, so we need to find all members where the current committee is in their list of committees.\n",
    "\n",
    "<https://malegislature.gov/api/swagger/index.html?url=/api/swagger/v1/swagger.json#/LegislativeMembers>  \n",
    "via [LegislativeMembers notebook](LegislativeMembers.ipynb)"
   ]
  },
  {
   "cell_type": "code",
   "execution_count": 7,
   "id": "fiscal-consultancy",
   "metadata": {},
   "outputs": [
    {
     "data": {
      "text/plain": [
       "200"
      ]
     },
     "execution_count": 7,
     "metadata": {},
     "output_type": "execute_result"
    }
   ],
   "source": [
    "with open(\"ma_legislative_members.json\") as f:\n",
    "    members = json.load(f)\n",
    "len(members)"
   ]
  },
  {
   "cell_type": "markdown",
   "id": "current-class",
   "metadata": {},
   "source": [
    "Member summary follows the pattern of other API responses, where the list of members contains only what's needed to get more details from the API or on the website."
   ]
  },
  {
   "cell_type": "code",
   "execution_count": 8,
   "id": "administrative-conversation",
   "metadata": {},
   "outputs": [
    {
     "data": {
      "application/json": {
       "BeforeCommittee": [
        {
         "Branch": "Joint",
         "CommitteeCode": "J15",
         "Description": "It shall be the duty of the committee on Election Laws to consider all matters concerning elections, election laws and such other matters as may be referred. ",
         "FullName": "Joint Committee on Election Laws",
         "GeneralCourtNumber": 192,
         "Hearings": [
          {
           "Details": "http://malegislature.gov/api/Hearings/3725",
           "EventId": 3725
          },
          {
           "Details": "http://malegislature.gov/api/Hearings/3764",
           "EventId": 3764
          },
          {
           "Details": "http://malegislature.gov/api/Hearings/3803",
           "EventId": 3803
          }
         ],
         "HouseChairperson": {
          "Details": "http://malegislature.gov/api/GeneralCourts/192/LegislativeMembers/djr1",
          "GeneralCourtNumber": 192,
          "MemberCode": "djr1"
         },
         "HouseMembers": [
          {
           "Details": "http://malegislature.gov/api/GeneralCourts/192/LegislativeMembers/JAG1",
           "GeneralCourtNumber": 192,
           "MemberCode": "JAG1"
          },
          {
           "Details": "http://malegislature.gov/api/GeneralCourts/192/LegislativeMembers/SPK1",
           "GeneralCourtNumber": 192,
           "MemberCode": "SPK1"
          },
          {
           "Details": "http://malegislature.gov/api/GeneralCourts/192/LegislativeMembers/M_K1",
           "GeneralCourtNumber": 192,
           "MemberCode": "M_K1"
          },
          {
           "Details": "http://malegislature.gov/api/GeneralCourts/192/LegislativeMembers/A_S1",
           "GeneralCourtNumber": 192,
           "MemberCode": "A_S1"
          },
          {
           "Details": "http://malegislature.gov/api/GeneralCourts/192/LegislativeMembers/CAD1",
           "GeneralCourtNumber": 192,
           "MemberCode": "CAD1"
          },
          {
           "Details": "http://malegislature.gov/api/GeneralCourts/192/LegislativeMembers/DRC1",
           "GeneralCourtNumber": 192,
           "MemberCode": "DRC1"
          },
          {
           "Details": "http://malegislature.gov/api/GeneralCourts/192/LegislativeMembers/djr1",
           "GeneralCourtNumber": 192,
           "MemberCode": "djr1"
          },
          {
           "Details": "http://malegislature.gov/api/GeneralCourts/192/LegislativeMembers/MTL1",
           "GeneralCourtNumber": 192,
           "MemberCode": "MTL1"
          },
          {
           "Details": "http://malegislature.gov/api/GeneralCourts/192/LegislativeMembers/PJK1",
           "GeneralCourtNumber": 192,
           "MemberCode": "PJK1"
          },
          {
           "Details": "http://malegislature.gov/api/GeneralCourts/192/LegislativeMembers/S_D1",
           "GeneralCourtNumber": 192,
           "MemberCode": "S_D1"
          },
          {
           "Details": "http://malegislature.gov/api/GeneralCourts/192/LegislativeMembers/T_V1",
           "GeneralCourtNumber": 192,
           "MemberCode": "T_V1"
          }
         ],
         "SenateChairperson": {
          "Details": "http://malegislature.gov/api/GeneralCourts/192/LegislativeMembers/BRF0",
          "GeneralCourtNumber": 192,
          "MemberCode": "BRF0"
         },
         "SenateMembers": [
          {
           "Details": "http://malegislature.gov/api/GeneralCourts/192/LegislativeMembers/A_G0",
           "GeneralCourtNumber": 192,
           "MemberCode": "A_G0"
          },
          {
           "Details": "http://malegislature.gov/api/GeneralCourts/192/LegislativeMembers/BRF0",
           "GeneralCourtNumber": 192,
           "MemberCode": "BRF0"
          },
          {
           "Details": "http://malegislature.gov/api/GeneralCourts/192/LegislativeMembers/CSC0",
           "GeneralCourtNumber": 192,
           "MemberCode": "CSC0"
          },
          {
           "Details": "http://malegislature.gov/api/GeneralCourts/192/LegislativeMembers/JBE0",
           "GeneralCourtNumber": 192,
           "MemberCode": "JBE0"
          },
          {
           "Details": "http://malegislature.gov/api/GeneralCourts/192/LegislativeMembers/MDB0",
           "GeneralCourtNumber": 192,
           "MemberCode": "MDB0"
          },
          {
           "Details": "http://malegislature.gov/api/GeneralCourts/192/LegislativeMembers/RCF0",
           "GeneralCourtNumber": 192,
           "MemberCode": "RCF0"
          }
         ],
         "ShortName": "Election Laws (J)"
        }
       ],
       "ReportedOut": []
      },
      "text/plain": [
       "<IPython.core.display.JSON object>"
      ]
     },
     "execution_count": 8,
     "metadata": {
      "application/json": {
       "expanded": false,
       "root": "root"
      }
     },
     "output_type": "execute_result"
    }
   ],
   "source": [
    "def summarize_member(member):\n",
    "    return {\n",
    "        'GeneralCourtNumber': member['GeneralCourtNumber'],\n",
    "        'MemberCode': member['MemberCode'],\n",
    "        'Details': f\"http://malegislature.gov/api/GeneralCourts/{member['GeneralCourtNumber']}/LegislativeMembers/{member['MemberCode']}\"\n",
    "    }\n",
    "\n",
    "def get_committee_members(committee):\n",
    "    committee_members = [\n",
    "        m for m in members\n",
    "        if committee['CommitteeCode'] in {c['CommitteeCode'] for c in m['Committees']}\n",
    "    ]\n",
    "\n",
    "    return {\n",
    "        f\"{branch}Members\": [\n",
    "            summarize_member(m) for m in committee_members\n",
    "            if m['Branch'] == branch\n",
    "        ]\n",
    "        for branch in [\"House\", \"Senate\"]\n",
    "    }\n",
    "\n",
    "def update_committee(committee):\n",
    "    committee = {\n",
    "        k: v for k, v in committee.items()\n",
    "        if k not in {\"DocumentsBeforeCommittee\", \"ReportedOutDocuments\"}\n",
    "    }\n",
    "    committee.update(get_committee_members(committee))\n",
    "    return committee\n",
    "\n",
    "bill_committees = {\n",
    "    document_status.replace(\"Documents\", \"\"): [\n",
    "        update_committee(c) for c in committees\n",
    "        if bill_number in {d[\"BillNumber\"] for d in c[document_status]}\n",
    "    ]\n",
    "    for document_status in {\"DocumentsBeforeCommittee\", \"ReportedOutDocuments\"}\n",
    "}\n",
    "\n",
    "assert len(bill_committees['BeforeCommittee']) <= 1\n",
    "display.JSON(bill_committees)"
   ]
  },
  {
   "cell_type": "code",
   "execution_count": 9,
   "id": "favorite-basis",
   "metadata": {},
   "outputs": [
    {
     "data": {
      "application/json": {
       "Amendments": [],
       "Attachments": [],
       "BeforeCommittee": {
        "Branch": "Joint",
        "CommitteeCode": "J15",
        "Description": "It shall be the duty of the committee on Election Laws to consider all matters concerning elections, election laws and such other matters as may be referred. ",
        "FullName": "Joint Committee on Election Laws",
        "GeneralCourtNumber": 192,
        "Hearings": [
         {
          "Details": "http://malegislature.gov/api/Hearings/3725",
          "EventId": 3725
         },
         {
          "Details": "http://malegislature.gov/api/Hearings/3764",
          "EventId": 3764
         },
         {
          "Details": "http://malegislature.gov/api/Hearings/3803",
          "EventId": 3803
         }
        ],
        "HouseChairperson": {
         "Details": "http://malegislature.gov/api/GeneralCourts/192/LegislativeMembers/djr1",
         "GeneralCourtNumber": 192,
         "MemberCode": "djr1"
        },
        "HouseMembers": [
         {
          "Details": "http://malegislature.gov/api/GeneralCourts/192/LegislativeMembers/JAG1",
          "GeneralCourtNumber": 192,
          "MemberCode": "JAG1"
         },
         {
          "Details": "http://malegislature.gov/api/GeneralCourts/192/LegislativeMembers/SPK1",
          "GeneralCourtNumber": 192,
          "MemberCode": "SPK1"
         },
         {
          "Details": "http://malegislature.gov/api/GeneralCourts/192/LegislativeMembers/M_K1",
          "GeneralCourtNumber": 192,
          "MemberCode": "M_K1"
         },
         {
          "Details": "http://malegislature.gov/api/GeneralCourts/192/LegislativeMembers/A_S1",
          "GeneralCourtNumber": 192,
          "MemberCode": "A_S1"
         },
         {
          "Details": "http://malegislature.gov/api/GeneralCourts/192/LegislativeMembers/CAD1",
          "GeneralCourtNumber": 192,
          "MemberCode": "CAD1"
         },
         {
          "Details": "http://malegislature.gov/api/GeneralCourts/192/LegislativeMembers/DRC1",
          "GeneralCourtNumber": 192,
          "MemberCode": "DRC1"
         },
         {
          "Details": "http://malegislature.gov/api/GeneralCourts/192/LegislativeMembers/djr1",
          "GeneralCourtNumber": 192,
          "MemberCode": "djr1"
         },
         {
          "Details": "http://malegislature.gov/api/GeneralCourts/192/LegislativeMembers/MTL1",
          "GeneralCourtNumber": 192,
          "MemberCode": "MTL1"
         },
         {
          "Details": "http://malegislature.gov/api/GeneralCourts/192/LegislativeMembers/PJK1",
          "GeneralCourtNumber": 192,
          "MemberCode": "PJK1"
         },
         {
          "Details": "http://malegislature.gov/api/GeneralCourts/192/LegislativeMembers/S_D1",
          "GeneralCourtNumber": 192,
          "MemberCode": "S_D1"
         },
         {
          "Details": "http://malegislature.gov/api/GeneralCourts/192/LegislativeMembers/T_V1",
          "GeneralCourtNumber": 192,
          "MemberCode": "T_V1"
         }
        ],
        "SenateChairperson": {
         "Details": "http://malegislature.gov/api/GeneralCourts/192/LegislativeMembers/BRF0",
         "GeneralCourtNumber": 192,
         "MemberCode": "BRF0"
        },
        "SenateMembers": [
         {
          "Details": "http://malegislature.gov/api/GeneralCourts/192/LegislativeMembers/A_G0",
          "GeneralCourtNumber": 192,
          "MemberCode": "A_G0"
         },
         {
          "Details": "http://malegislature.gov/api/GeneralCourts/192/LegislativeMembers/BRF0",
          "GeneralCourtNumber": 192,
          "MemberCode": "BRF0"
         },
         {
          "Details": "http://malegislature.gov/api/GeneralCourts/192/LegislativeMembers/CSC0",
          "GeneralCourtNumber": 192,
          "MemberCode": "CSC0"
         },
         {
          "Details": "http://malegislature.gov/api/GeneralCourts/192/LegislativeMembers/JBE0",
          "GeneralCourtNumber": 192,
          "MemberCode": "JBE0"
         },
         {
          "Details": "http://malegislature.gov/api/GeneralCourts/192/LegislativeMembers/MDB0",
          "GeneralCourtNumber": 192,
          "MemberCode": "MDB0"
         },
         {
          "Details": "http://malegislature.gov/api/GeneralCourts/192/LegislativeMembers/RCF0",
          "GeneralCourtNumber": 192,
          "MemberCode": "RCF0"
         }
        ],
        "ShortName": "Election Laws (J)"
       },
       "BillHistory": "http://malegislature.gov/api/GeneralCourts/192/Documents/S459/DocumentHistoryActions",
       "BillNumber": "S459",
       "CommitteeRecommendations": [],
       "Cosponsors": [
        {
         "Details": "http://malegislature.gov/api/GeneralCourts/192/LegislativeMembers/CSC0",
         "Id": "CSC0",
         "Name": "Cynthia Stone Creem",
         "Type": 1
        },
        {
         "Details": "http://malegislature.gov/api/GeneralCourts/192/LegislativeMembers/EPL0",
         "Id": "EPL0",
         "Name": "Eric P. Lesser",
         "Type": 1
        },
        {
         "Details": "http://malegislature.gov/api/GeneralCourts/192/LegislativeMembers/TMS1",
         "Id": "TMS1",
         "Name": "Thomas M. Stanley",
         "Type": 1
        },
        {
         "Details": "http://malegislature.gov/api/GeneralCourts/192/LegislativeMembers/JMC0",
         "Id": "JMC0",
         "Name": "Joanne M. Comerford",
         "Type": 1
        },
        {
         "Details": "http://malegislature.gov/api/GeneralCourts/192/LegislativeMembers/jml0",
         "Id": "jml0",
         "Name": "Jason M. Lewis",
         "Type": 1
        },
        {
         "Details": "http://malegislature.gov/api/GeneralCourts/192/LegislativeMembers/SND0",
         "Id": "SND0",
         "Name": "Sal N. DiDomenico",
         "Type": 1
        },
        {
         "Details": "http://malegislature.gov/api/GeneralCourts/192/LegislativeMembers/HLC0",
         "Id": "HLC0",
         "Name": "Harriette L. Chandler",
         "Type": 1
        },
        {
         "Details": "http://malegislature.gov/api/GeneralCourts/192/LegislativeMembers/CFF0",
         "Id": "CFF0",
         "Name": "Cindy F. Friedman",
         "Type": 1
        },
        {
         "Details": "http://malegislature.gov/api/GeneralCourts/192/LegislativeMembers/JPL1",
         "Id": "JPL1",
         "Name": "Jack Patrick Lewis",
         "Type": 1
        },
        {
         "Details": "http://malegislature.gov/api/GeneralCourts/192/LegislativeMembers/V_H1",
         "Id": "V_H1",
         "Name": "Vanna Howard",
         "Type": 1
        },
        {
         "Details": "http://malegislature.gov/api/GeneralCourts/192/LegislativeMembers/K_K1",
         "Id": "K_K1",
         "Name": "Kay Khan",
         "Type": 1
        },
        {
         "Details": "http://malegislature.gov/api/GeneralCourts/192/LegislativeMembers/CLG1",
         "Id": "CLG1",
         "Name": "Carmine Lawrence Gentile",
         "Type": 1
        },
        {
         "Details": "http://malegislature.gov/api/GeneralCourts/192/LegislativeMembers/JAB0",
         "Id": "JAB0",
         "Name": "Joseph A. Boncore",
         "Type": 1
        },
        {
         "Details": "http://malegislature.gov/api/GeneralCourts/192/LegislativeMembers/J_B1",
         "Id": "J_B1",
         "Name": "John Barrett, III",
         "Type": 1
        },
        {
         "Details": "http://malegislature.gov/api/GeneralCourts/192/LegislativeMembers/AJP1",
         "Id": "AJP1",
         "Name": "Angelo J. Puppolo, Jr.",
         "Type": 1
        },
        {
         "Details": "http://malegislature.gov/api/GeneralCourts/192/LegislativeMembers/JBE0",
         "Id": "JBE0",
         "Name": "James B. Eldridge",
         "Type": 1
        },
        {
         "Details": "http://malegislature.gov/api/GeneralCourts/192/LegislativeMembers/RLR0",
         "Id": "RLR0",
         "Name": "Rebecca L. Rausch",
         "Type": 1
        },
        {
         "Details": "http://malegislature.gov/api/GeneralCourts/192/LegislativeMembers/M_C2",
         "Id": "M_C2",
         "Name": "Michelle L. Ciccolo",
         "Type": 1
        },
        {
         "Details": "http://malegislature.gov/api/GeneralCourts/192/LegislativeMembers/EDJ0",
         "Id": "EDJ0",
         "Name": "Edward J. Kennedy",
         "Type": 1
        },
        {
         "Details": "http://malegislature.gov/api/GeneralCourts/192/LegislativeMembers/BPC0",
         "Id": "BPC0",
         "Name": "Brendan P. Crighton",
         "Type": 1
        },
        {
         "Details": "http://malegislature.gov/api/GeneralCourts/192/LegislativeMembers/CAM2",
         "Id": "CAM2",
         "Name": "Christina A. Minicucci",
         "Type": 1
        },
        {
         "Details": "http://malegislature.gov/api/GeneralCourts/192/LegislativeMembers/CAD1",
         "Id": "CAD1",
         "Name": "Carol A. Doherty",
         "Type": 1
        },
        {
         "Details": "http://malegislature.gov/api/GeneralCourts/192/LegislativeMembers/MJB0",
         "Id": "MJB0",
         "Name": "Michael J. Barrett",
         "Type": 1
        },
        {
         "Details": "http://malegislature.gov/api/GeneralCourts/192/LegislativeMembers/MDR1",
         "Id": "MDR1",
         "Name": "Maria Duaime Robinson",
         "Type": 1
        },
        {
         "Details": "http://malegislature.gov/api/GeneralCourts/192/LegislativeMembers/AGH0",
         "Id": "AGH0",
         "Name": "Adam G. Hinds",
         "Type": 1
        },
        {
         "Details": "http://malegislature.gov/api/GeneralCourts/192/LegislativeMembers/AJS1",
         "Id": "AJS1",
         "Name": "Adam J. Scanlon",
         "Type": 1
        },
        {
         "Details": "http://malegislature.gov/api/GeneralCourts/192/LegislativeMembers/DAL1",
         "Id": "DAL1",
         "Name": "David Henry Argosky LeBoeuf",
         "Type": 1
        },
        {
         "Details": "http://malegislature.gov/api/GeneralCourts/192/LegislativeMembers/E_U1",
         "Id": "E_U1",
         "Name": "Erika Uyterhoeven",
         "Type": 1
        },
        {
         "Details": "http://malegislature.gov/api/GeneralCourts/192/LegislativeMembers/PDJ0",
         "Id": "PDJ0",
         "Name": "Patricia D. Jehlen",
         "Type": 1
        },
        {
         "Details": "http://malegislature.gov/api/GeneralCourts/192/LegislativeMembers/MOM0",
         "Id": "MOM0",
         "Name": "Michael O. Moore",
         "Type": 1
        },
        {
         "Details": "http://malegislature.gov/api/GeneralCourts/192/LegislativeMembers/JJC0",
         "Id": "JJC0",
         "Name": "John J. Cronin",
         "Type": 1
        },
        {
         "Details": "http://malegislature.gov/api/GeneralCourts/192/LegislativeMembers/LAE1",
         "Id": "LAE1",
         "Name": "Lori A. Ehrlich",
         "Type": 1
        },
        {
         "Details": "http://malegislature.gov/api/GeneralCourts/192/LegislativeMembers/AMG0",
         "Id": "AMG0",
         "Name": "Anne M. Gobi",
         "Type": 1
        },
        {
         "Details": "http://malegislature.gov/api/GeneralCourts/192/LegislativeMembers/JAC0",
         "Id": "JAC0",
         "Name": "Julian Cyr",
         "Type": 1
        },
        {
         "Details": "http://malegislature.gov/api/GeneralCourts/192/LegislativeMembers/SCD0",
         "Id": "SCD0",
         "Name": "Sonia Chang-Diaz",
         "Type": 1
        },
        {
         "Details": "http://malegislature.gov/api/GeneralCourts/192/LegislativeMembers/A_G0",
         "Id": "A_G0",
         "Name": "Adam Gomez",
         "Type": 1
        },
        {
         "Details": "http://malegislature.gov/api/GeneralCourts/192/LegislativeMembers/SLM0",
         "Id": "SLM0",
         "Name": "Susan L. Moran",
         "Type": 1
        },
        {
         "Details": "http://malegislature.gov/api/GeneralCourts/192/LegislativeMembers/JBL0",
         "Id": "JBL0",
         "Name": "Joan B. Lovely",
         "Type": 1
        },
        {
         "Details": "http://malegislature.gov/api/GeneralCourts/192/LegislativeMembers/D_D0",
         "Id": "D_D0",
         "Name": "Diana DiZoglio",
         "Type": 1
        }
       ],
       "DocketNumber": "SD1002",
       "GeneralCourtNumber": 192,
       "LegislationTypeName": "Bill",
       "PrimarySponsor": {
        "Details": "http://malegislature.gov/api/GeneralCourts/192/LegislativeMembers/CSC0",
        "Id": "CSC0",
        "Name": "Cynthia Stone Creem",
        "Type": 1
       },
       "ReportedOut": [],
       "RollCalls": [],
       "Title": "An Act fostering voter opportunities, trust, equity and security",
       "Updated": "2021-07-17T17:07:25.075015+00:00"
      },
      "text/plain": [
       "<IPython.core.display.JSON object>"
      ]
     },
     "execution_count": 9,
     "metadata": {
      "application/json": {
       "expanded": false,
       "root": "root"
      }
     },
     "output_type": "execute_result"
    }
   ],
   "source": [
    "try:\n",
    "    bill[\"BeforeCommittee\"] = bill_committees[\"BeforeCommittee\"][0]\n",
    "except IndexError:\n",
    "    bill[\"BeforeCommittee\"] = {}\n",
    "\n",
    "bill[\"ReportedOut\"] = bill_committees[\"ReportedOut\"]\n",
    "\n",
    "display.JSON(bill)"
   ]
  },
  {
   "cell_type": "markdown",
   "id": "phantom-dryer",
   "metadata": {},
   "source": [
    "## TODO\n",
    "\n",
    "Add details for:\n",
    "\n",
    "- `BillHistory`\n",
    "- `Amendments`\n",
    "- `RollCalls`\n",
    "- `BeforeCommitee.Hearings`"
   ]
  },
  {
   "cell_type": "markdown",
   "id": "extended-cloud",
   "metadata": {},
   "source": [
    "## Save bill details"
   ]
  },
  {
   "cell_type": "code",
   "execution_count": 10,
   "id": "perceived-multimedia",
   "metadata": {},
   "outputs": [
    {
     "name": "stdout",
     "output_type": "stream",
     "text": [
      "-rw-r--r--  1 bhrutledge  staff    11K Jul 17 13:07 ../dist/ma_bill_192_S459.json\n"
     ]
    }
   ],
   "source": [
    "filename = f\"../dist/ma_bill_{bill['GeneralCourtNumber']}_{bill['BillNumber']}.json\"\n",
    "with open(filename, \"w\") as f:\n",
    "    json.dump(bill, f, indent=2)\n",
    "!ls -lh {filename}"
   ]
  },
  {
   "cell_type": "code",
   "execution_count": null,
   "id": "sporting-sperm",
   "metadata": {},
   "outputs": [],
   "source": []
  }
 ],
 "metadata": {
  "kernelspec": {
   "display_name": "Python 3 (ipykernel)",
   "language": "python",
   "name": "python3"
  },
  "language_info": {
   "codemirror_mode": {
    "name": "ipython",
    "version": 3
   },
   "file_extension": ".py",
   "mimetype": "text/x-python",
   "name": "python",
   "nbconvert_exporter": "python",
   "pygments_lexer": "ipython3",
   "version": "3.9.5"
  }
 },
 "nbformat": 4,
 "nbformat_minor": 5
}
